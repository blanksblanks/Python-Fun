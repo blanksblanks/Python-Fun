{
 "metadata": {
  "name": "",
  "signature": "sha256:eae48c4818183c6a07ea4833aa0d8b578618fda29d1840737059beca1153ae21"
 },
 "nbformat": 3,
 "nbformat_minor": 0,
 "worksheets": [
  {
   "cells": [
    {
     "cell_type": "heading",
     "level": 4,
     "metadata": {},
     "source": [
      "Exercise 0: The Setup"
     ]
    },
    {
     "cell_type": "markdown",
     "metadata": {},
     "source": [
      "1. Run Terminal\n",
      "2. Type Python to start program\n",
      "3. Exit() to exit (CTRL-Z or ^Z and ^D all don\u2019t work for me)\n",
      "\n",
      "<pre><code>ninas-air:~ blanks$ mkdir temp\n",
      "ninas-air:~ blanks$ cd temp\n",
      "[Made haikus.txt on TextWrangler]\n",
      "ninas-air:temp blanks$ ls\n",
      "haikus.txt</pre></code>\n",
      "\n",
      "For now the plan is:\n",
      "1.\tWrite exercises using your text editor, gedit on Linux, TextWrangler on OSX, or Notepad++ on Windows. No vim or emacs until you are a better programmer.\n",
      "2.\tRun the exercises you wrote.\n",
      "3.\tFix them when they are broken.\n",
      "4.\tRepeat.\n"
     ]
    },
    {
     "cell_type": "heading",
     "level": 4,
     "metadata": {},
     "source": [
      "Exercise 1: A Good First Program"
     ]
    },
    {
     "cell_type": "code",
     "collapsed": false,
     "input": [
      "print \"Hello World!\"\n",
      "# print \"Hello Again\"\n",
      "print \"I like typing this.\"\n",
      "print \"This is fun.\"\n",
      "print 'Yay! Printing.'\n",
      "print \"I'd much rather you 'not'.\"\n",
      "print 'I \"said\" do not touch this.'\n",
      "print \"another line\""
     ],
     "language": "python",
     "metadata": {},
     "outputs": [
      {
       "output_type": "stream",
       "stream": "stdout",
       "text": [
        "Hello World!\n",
        "I like typing this.\n",
        "This is fun.\n",
        "Yay! Printing.\n",
        "I'd much rather you 'not'.\n",
        "I \"said\" do not touch this.\n",
        "another line\n"
       ]
      }
     ],
     "prompt_number": 28
    },
    {
     "cell_type": "markdown",
     "metadata": {},
     "source": [
      "Syntax:\n",
      "* Can use double quote or single quote to begin string, which allows for use of the type of quote not used to be displayed in the string\n",
      "\n",
      "Understanding errors:\n",
      "* print always lowercase otherwise you will get error\n",
      "* Python in Terminal will tell you what line the error is on, print out the line, then put a ^ (caret) character to point out problem (in this case the problem was in the beginning but carat is at the end so I think it\u2019s just pointing at the line)\n",
      "* It prints out a \u201cSyntaxError\u201d or whatever error. These might be cryptic, but you can Google the exact error and probably find someone else who had that error and how to fix it\n",
      "* Everyone makes errors!\n",
      "\n",
      "<pre><code>ninas-air:temp blanks$ python ex1.py\n",
      "  File \"ex1.py\", line 4\n",
      "    Print \"This is fun.\"\n",
      "                       ^\n",
      "SyntaxError: invalid syntax\n",
      "</code></pre>\n",
      "\n",
      "If you are from another country, and you get errors about ASCII encodings, then put this at the top of your Python scripts:\n",
      "\n",
      "<pre><code># -*- coding: utf-8 -*- </code></pre>\n",
      "\n",
      "It will fix them so that you can use Unicode UTF-8 in your scripts without a problem.\n"
     ]
    },
    {
     "cell_type": "heading",
     "level": 4,
     "metadata": {},
     "source": [
      "Exercise 2: Comments and Pound Characters"
     ]
    },
    {
     "cell_type": "markdown",
     "metadata": {},
     "source": [
      "'#' (octothorpe, pound, hash, mesh) character turns the part of the line behind it into a comment. Comments tell you what something does in English, and they also are used to disable parts of your program if you need to remove them temporarily. Anything after # is ignored by Python until the ending \u201c (or return) character is hit.\n",
      "* The # in line 2 is inside a string, so it will considered a string and not as a pound comment until a new line begins.\n",
      "* In the case of <code># -*- coding: utf-8 -*-</code>, Python still ignores that as code, but it's used as a kind of \"hack\" or workaround for problems with setting and detecting the format of a file. You also find a similar kind of comment for editor settings.\n"
     ]
    },
    {
     "cell_type": "code",
     "collapsed": false,
     "input": [
      "# A comment, this is so you can read your program later.\n",
      "# Anything after the # is ignored by python.\n",
      "\n",
      "print \"I could have code like this.\" # and the comment after disappears\n",
      "\n",
      "# You can also use a comment to \"disable\" or comment out  apiece of code:\n",
      "# print \"This won't run.\"\n",
      "\n",
      "print \"This will run.\""
     ],
     "language": "python",
     "metadata": {},
     "outputs": [
      {
       "output_type": "stream",
       "stream": "stdout",
       "text": [
        "I could have code like this.\n",
        "This will run.\n"
       ]
      }
     ],
     "prompt_number": 29
    },
    {
     "cell_type": "markdown",
     "metadata": {},
     "source": [
      "Error detection:\n",
      "* Reading code backwards is a trick to make your brain not attach meaning to each part of the code, and doing that makes you process each piece exactly. This catches errors and is a handy error-checking technique.\n",
      "* Reading code out loud, saying even the characters.\n",
      "* Writing comments above each line to explain what each line does.\n"
     ]
    },
    {
     "cell_type": "heading",
     "level": 4,
     "metadata": {},
     "source": [
      "Exercise 3: Numbers and Math"
     ]
    },
    {
     "cell_type": "markdown",
     "metadata": {},
     "source": [
      "\n",
      "Operators:\n",
      "* \\+ addition\n",
      "* \\- subtraction\n",
      "* / division\n",
      "* \\* multiplication\n",
      "* % modulus as in the J in (X divided by Y with J remaining)\n",
      "* < is it less-than\n",
      "* \\> is it greater-than\n",
      "* <= is it less-than-or-equal\n",
      "* \\>= is it greater-than-equal\n",
      "\n",
      "Order of operations:\n",
      "* PEMDAS: Parentheses Exponents Multiplication Division Addition Subtraction\n",
      "\n",
      "Number types:\n",
      "* int (signed integers): positive or negative whole numbers with no decimal point, not exactly accurate.\n",
      "* long (long integers): integers of unlimited size, written like integers and followed by L, e.g. 549384984L\n",
      "* float (floating point real values): real numbers, with a decimal point dividing the integer and fractional parts. May also be in scientific notation, with E indicating the power of 10 (2.5e2 = 2.5 x 102 = 250). Caveat below.\n",
      "* complex (complex numbers) : are of the form a + bJ, where a and b are floats and J represents the square root of -1 (which is an imaginary number). a is the real part of the number, and b is the imaginary part. Complex numbers are not used much in Python programming.\n",
      "\n",
      "Floating numbers:\n",
      "* Floating-point numbers are represented in computer hardware as base 2 (binary) fractions. E.g. decimal fraction 0.125 has value of 1/10 + 2/100 + 5/100 and binary fraction 0.001 has value of 0/2 + 0/4 + 1/8. These two fractions have identical values, the only real difference being that the first is written in base 10 fractional notation, and the second in base 2.\n",
      "* Unfortunately, most decimal fractions cannot be represented exactly as binary fractions. A consequence is that, in general, the decimal floating-point numbers you enter are only approximated by the binary floating-point numbers actually stored in the machine.\n",
      "* Tis easy to understand from the perspective of 1/3, base 10 fraction is 0.3, and the more 0.33333 you have the better the approximation though it will never be the same as 1/3.\n",
      "* In base 2, 1/10 is the infinitely repeating fraction and 0.1 cannot be exactly represented.\n",
      "* Because floats try to represent a very large range of numbers in only 64 bits, they must approximate to some extent. In fact, there are only 53 bits available for a Python float, which is close but not equal to certain numbers. Still, this is more digits than people find useful, so Python displays rounded values.\n",
      "* Know the illusion: this is not exactly 1/10, this is rounding the display of the true machine value. Note that this is just the very nature of binary floating-point: this is not a bug in Python, and it is not a bug in your code either. You\u2019ll see the same kind of thing in all languages that support your hardware\u2019s floating-point arithmetic (although some languages may not display the difference by default, or in all output modes).\n",
      "\n",
      "<pre><code>$ 0.1+0.2\n",
      "0.30000000000000004\n",
      "$ round(2.675,2)\n",
      "2.67</pre></code>\n",
      "\n",
      "* If you\u2019re in a situation where you care which way your decimal halfway-cases are rounded, you should consider using the decimal module. Incidentally, it also provides a nice way to \u201csee\u201d the exact value that\u2019s stored in any particular Python float.\n",
      "\n",
      "<pre><code>$ from decimal import Decimal\n",
      "$ Decimal(2.675)\n",
      "Decimal('2.67499999999999982236431605997495353221893310546875')</pre></code>\n",
      "\n",
      "* At the heart of many strange results is one fundamental: floating-point on computers is usually base 2, whereas the external representation is base 10.\n",
      "* You might think that n / m * m == n. Floating-point world disagrees:\n",
      "\n",
      "<pre><code>$ (1.0 / 103.0) * 103.0\n",
      "0.99999999999999989</pre></code>\n",
      "\n",
      "* Another consequence is that since 0.1 is not exactly 1/10, summing ten values of 0.1 may not yield exactly 1.0, either:\n",
      "<pre><code>$ sum = 0.0\n",
      "$ for i in range(10):\n",
      "...     sum += 0.1\n",
      "...\n",
      "$ sum\n",
      "0.9999999999999999</pre></code>\n",
      "\n",
      "* Binary floating-point arithmetic holds many surprises of representation error like this. Still, don\u2019t be unduly wary of floating-point! The errors in Python float operations are inherited from the floating-point hardware, and on most machines are on the order of no more than 1 part in 2**53 per operation. That\u2019s more than adequate for most tasks, but you do need to keep in mind that it\u2019s not decimal arithmetic, and that every float operation can suffer a new rounding error.\n",
      "* For fine control over how a float is displayed look up the <code>str.format()</code> method.\n"
     ]
    },
    {
     "cell_type": "code",
     "collapsed": false,
     "input": [
      "print \"I will now count my chickens:\"\n",
      "\n",
      "print \"Hens\", 25.0 + 30.0 / 6.0\n",
      "print \"Roosters\", 100.0 - 25.0 * 3.0 % 4.0\n",
      "\n",
      "print \"Now I will count the eggs:\"\n",
      "\n",
      "print 3.0 + 2.0 + 1.0 - 5.0 + 4.0 % 2.0 - 1.0 / 4.0 + 6.0\n",
      "\n",
      "print \"Is it true that 3 + 2 < 5 - 7?\"\n",
      "\n",
      "print 3.0 + 2.0 < 5.0 - 7.0\n",
      "\n",
      "print \"What is 3 + 2?\", 3.0 + 2.0\n",
      "print \"What is 5 - 7?\", 5.0 - 7.0\n",
      "\n",
      "print \"Oh, that's why it's False.\"\n",
      "\n",
      "print \"How about some more.\"\n",
      "\n",
      "print \"Is it greater?\", 5.0 > -2.0\n",
      "print \"Is it greater or equal?\", 5.0 >= -2.0\n",
      "print \"Is it less or equal?\", 5.0 <= -2.0\n",
      "\n",
      "print \"How do results differ between calculating 7/4 vs 7.0/4.0?\", 7/4, \"vs\", 7.0/4.0\n"
     ],
     "language": "python",
     "metadata": {},
     "outputs": [
      {
       "output_type": "stream",
       "stream": "stdout",
       "text": [
        "I will now count my chickens:\n",
        "Hens 30.0\n",
        "Roosters 97.0\n",
        "Now I will count the eggs:\n",
        "6.75\n",
        "Is it true that 3 + 2 < 5 - 7?\n",
        "False\n",
        "What is 3 + 2? 5.0\n",
        "What is 5 - 7? -2.0\n",
        "Oh, that's why it's False.\n",
        "How about some more.\n",
        "Is it greater? True\n",
        "Is it greater or equal? True\n",
        "Is it less or equal? False\n",
        "How do results differ between calculating 7/4 vs 7.0/4.0? 1 vs 1.75\n"
       ]
      }
     ],
     "prompt_number": 3
    },
    {
     "cell_type": "heading",
     "level": 4,
     "metadata": {},
     "source": [
      "Exercise 4: Variables and Names"
     ]
    },
    {
     "cell_type": "markdown",
     "metadata": {},
     "source": [
      "Variables:\n",
      "* Variables are for storing values. The word 'variable' means 'can change' and is used because variables can store many different types of values and can change their value many times. They are pretty much like mailboxes. We put something in a variable, like a number or sentence, and then give the variable an address that we can use to recall the stored value. In real life mailboxes have to have PO Box numbers but in programming you usually just use letters, numbers and underscores without any spaces. By convention, variable names start with a lower case character.\n",
      "* Use descriptive names for variables, functions and classes. You don\u2019t want them too long, but they should be descriptive. Stick with Python-style naming conventions (e.g. i and j for loop counter variables, x, y, z for other variables).\n",
      "* Pick a capitalization style for function names, local variable names and global variable names. For example, for function name style you could do something like \"square_the_biggest\" or \"squareTheBiggest\" or \"SquareTheBiggest\". \n",
      "* Use = (equals) to define variables. Remember to define a variable before calling it! Otherwise you will get an error like this:\n",
      "<pre><code>Traceback (most recent call last):       \n",
      "File \"ex4.py\", line 8, in <module>         \n",
      "average_passengers_per_car = car_pool_capacity / passenger     \n",
      "NameError: name 'car_pool_capacity' is not defined </pre></code>\n"
     ]
    },
    {
     "cell_type": "code",
     "collapsed": false,
     "input": [
      "cars = 100\n",
      "space_in_a_car = 4.0\n",
      "drivers = 30\n",
      "passengers = 90\n",
      "cars_not_driven = cars - drivers\n",
      "cars_driven = drivers\n",
      "carpool_capacity = cars_driven * space_in_a_car\n",
      "average_passengers_per_car = passengers / cars_driven\n",
      "\n",
      "\n",
      "print \"There are\", cars, \"cars available.\"\n",
      "print \"There are only\", drivers, \"drivers available.\"\n",
      "print \"There will be\", cars_not_driven, \"empty cars today.\"\n",
      "print \"We can transport\", carpool_capacity, \"people today.\"\n",
      "print \"We have\", passengers, \"to carpool today.\"\n",
      "print \"We need to put about\", average_passengers_per_car, \"in each car.\""
     ],
     "language": "python",
     "metadata": {},
     "outputs": [
      {
       "output_type": "stream",
       "stream": "stdout",
       "text": [
        "There are 100 cars available.\n",
        "There are only 30 drivers available.\n",
        "There will be 70 empty cars today.\n",
        "We can transport 120.0 people today.\n",
        "We have 90 to carpool today.\n",
        "We need to put about 3 in each car.\n"
       ]
      }
     ],
     "prompt_number": 31
    },
    {
     "cell_type": "heading",
     "level": 4,
     "metadata": {},
     "source": [
      "Exercise 5: More Variables and Printing"
     ]
    },
    {
     "cell_type": "markdown",
     "metadata": {},
     "source": [
      "Formatters:\n",
      "* They tell Python to take the variable on the right of % and put it in to replace the %s with its value.\n",
      "* Use formatters <code>%s, %d, %r</code> so that you don\u2019t have to break the string\n",
      "* <code>%d</code> will format a number for display.\n",
      "* <code>%s</code> will insert the presentation string representation of the object (i.e. str(o))\n",
      "* <code>%r</code> will insert the canonical string representation of the object (i.e. repr(o)) or \"raw representation\". Best used for debugging and inspection, since it displays the \"raw\" format of the variable, while the other formats are for actually displaying variables to users. For instance, strings in <code>%r</code> will appear in single quotes whether or not they have double quotes, whereas <code>%s</code> would remove the quotes from the string.\n"
     ]
    },
    {
     "cell_type": "code",
     "collapsed": false,
     "input": [
      "name = 'Molly'\n",
      "age = 2 # estimation cause she's a stray kitty\n",
      "height = 22.5*2.54 # in to cm\n",
      "weight = 10.0*0.453592 # lb to kg\n",
      "eyes = 'Brown'\n",
      "teeth = 'White'\n",
      "hair = 'Black'\n",
      "\n",
      "print \"Let's talk about %r.\" % name # %r does not remove quotes from string\n",
      "print \"She's %d years old.\" % age\n",
      "print \"She's %d inches tall.\" % height\n",
      "print \"She's %d pounds heavy.\" % weight\n",
      "print \"Actually that's not too heavy.\"\n",
      "print \"She's got %s eyes and %s hair.\" % (eyes, hair)\n",
      "print \"Her teeth are usually %s depending on if she's had chocolate.\" % teeth\n",
      "\n",
      "# This next command shows how you input multiple fields.\n",
      "# NOTE: use %s for strings, and %d for numbers.\n",
      "print \"If I add %d, %d, and %d I get %d.\" % (\n",
      "age, height, weight, age + height + weight)\n",
      "\n",
      "# %r will give you the raw output; it doesn't convert to integers like %d.\n",
      "print \"If I add %r, %r, and %r I get %r.\" % (\n",
      "age, height, weight, age + height + weight)\n",
      "\n",
      "# Besides using %s, %d, and %r, there is another way of doing this by using format.\n",
      "# You won't have to differentiate between strings and numbers for this. \n",
      "print \"If I add {0}, {1}, and {2} I get {3}.\" .format(\n",
      "age, height, weight, age + height + weight)\n",
      "\n",
      "# If you use format, the numbers within the curly brackets are also optional.\n",
      "# You will get the same output as the above if you type:\n",
      "print \"{}'s eyes are {} and her height is {}\" .format(name, eyes, height)\n",
      "\n",
      "# If you haven't defined the variables, you can just define them within format also:\n",
      "print \"{} is a {}.\" .format(\"Spicy\", \"pregnant leopard gecko\")\n",
      "## This will print \"Spicy is a pregnant leopard gecko.\"\n",
      "print \"{name} is a {thing}.\" .format(name=\"Spicy\", thing=\"pregnant leopard gecko\") \n",
      "## This will also print \"Spicy is a pregnant leopard gecko.\""
     ],
     "language": "python",
     "metadata": {},
     "outputs": [
      {
       "output_type": "stream",
       "stream": "stdout",
       "text": [
        "Let's talk about 'Molly'.\n",
        "She's 2 years old.\n",
        "She's 57 inches tall.\n",
        "She's 4 pounds heavy.\n",
        "Actually that's not too heavy.\n",
        "She's got Brown eyes and Black hair.\n",
        "Her teeth are usually White depending on if she's had chocolate.\n",
        "If I add 2, 57, and 4 I get 63.\n",
        "If I add 2, 57.15, and 4.53592 I get 63.685919999999996.\n",
        "If I add 2, 57.15, and 4.53592 I get 63.68592.\n",
        "Molly's eyes are Brown and her height is 57.15\n",
        "Spicy is a pregnant leopard gecko.\n",
        "Spicy is a pregnant leopard gecko.\n"
       ]
      }
     ],
     "prompt_number": 2
    },
    {
     "cell_type": "markdown",
     "metadata": {},
     "source": [
      "5.4.5. The format method:\n",
      "* Byte of Python provides an alternative <code>format()</code> method in which formatting appears with numbers between <code>{}</code> (curly brackets) and is defined by whatever variables are on the right of <code>.format</code>.\n",
      "* If the variables are floating numbers, they will be floating numbers rather than be converted to integers unlike with <code>%d</code>.\n",
      "* A string can use certain specifications and subsequently, the format method can be called to substitute those specifications with corresponding arguments to the format method.\n",
      "*"
     ]
    },
    {
     "cell_type": "heading",
     "level": 4,
     "metadata": {},
     "source": [
      "Exercise 6: Strings and Text"
     ]
    },
    {
     "cell_type": "markdown",
     "metadata": {},
     "source": [
      "String: text you want to display or \"export\" out of the program you're writing\n",
      "* Create strings through \" (double-quotes) or ' (single-quotes) around the text\n",
      "* Can use formatted variables (<code>%s, %d, %r</code>) in string, followed by a % (percent) character and variable. If multiple formats in your string to print multiple variables, you need to put them inside ( ) (parenthesis) separated by , (commas). \n",
      "* Concatenate strings with + (plus)"
     ]
    },
    {
     "cell_type": "code",
     "collapsed": false,
     "input": [
      "x = \"There are %d types of people.\" % 10\n",
      "binary = \"binary\"\n",
      "do_not = \"don't\"\n",
      "y = \"Those who know %s and those who %s.\" % (binary, do_not)\n",
      "\n",
      "print x\n",
      "print y\n",
      "\n",
      "print \"I said: %r.\" % x\n",
      "print \"I also said: '%s'.\" % y\n",
      "\n",
      "hilarious = False\n",
      "joke_evaluation = \"Isn't that joke so funny?! %r\"\n",
      "\n",
      "# prints out \"Isn't that joke so funny?!\" and defines %r as hilarious, which is defined as False\n",
      "print joke_evaluation % hilarious\n",
      "\n",
      "w = \"This is the left side of...\"\n",
      "e = \"a string with a right side.\"\n",
      "\n",
      "# + (plus) sign concatenates strings\n",
      "print w + e"
     ],
     "language": "python",
     "metadata": {},
     "outputs": [
      {
       "output_type": "stream",
       "stream": "stdout",
       "text": [
        "There are 10 types of people.\n",
        "Those who know binary and those who don't.\n",
        "I said: 'There are 10 types of people.'.\n",
        "I also said: 'Those who know binary and those who don't.'.\n",
        "Isn't that joke so funny?! False\n",
        "This is the left side of...a string with a right side.\n"
       ]
      }
     ],
     "prompt_number": 34
    },
    {
     "cell_type": "heading",
     "level": 4,
     "metadata": {},
     "source": [
      "Exercise 7: More Printing"
     ]
    },
    {
     "cell_type": "code",
     "collapsed": false,
     "input": [
      "print \"Mary had a little lamb.\"\n",
      "print \"Its fleece was white as %s.\" % 'snow' # prints snow to replace %s\n",
      "print \"And everywhere that Mary went.\"\n",
      "print \".\" * 10 # multiples number of . by 10\n",
      "\n",
      "end1 = \"C\"\n",
      "end2 = \"h\"\n",
      "end3 = \"e\"\n",
      "end4 = \"e\"\n",
      "end5 = \"s\"\n",
      "end6 = \"e\"\n",
      "end7 = \"B\"\n",
      "end8 = \"u\"\n",
      "end9 = \"r\"\n",
      "end10 = \"g\"\n",
      "end11 = \"e\"\n",
      "end12 = \"r\"\n",
      "\n",
      "# prints out string of concatenated characters.\n",
      "# comma at the end creates a space, if removed next print would be new line\n",
      "# without a comma before it, print is equivalent to print new line\n",
      "print end1 + end2 + end3 + end4 + end5 + end6,\n",
      "print end7 + end8 + end9 + end10 + end11 + end12"
     ],
     "language": "python",
     "metadata": {},
     "outputs": [
      {
       "output_type": "stream",
       "stream": "stdout",
       "text": [
        "Mary had a little lamb.\n",
        "Its fleece was white as snow.\n",
        "And everywhere that Mary went.\n",
        "..........\n",
        "Cheese Burger\n"
       ]
      }
     ],
     "prompt_number": 35
    },
    {
     "cell_type": "markdown",
     "metadata": {},
     "source": [
      "* Operators like addition and multiplication can be used on strings to concatenante or multiply the frequency of certain characters or words\n",
      "* 80 characters max per line, according to Python convention"
     ]
    },
    {
     "cell_type": "heading",
     "level": 4,
     "metadata": {},
     "source": [
      "Exercise 8: Printing, Printing"
     ]
    },
    {
     "cell_type": "code",
     "collapsed": false,
     "input": [
      "# variable formatter is equal to four %r formatter inputs\n",
      "# %r is largely for debugging and inspection purposes\n",
      "formatter = \"%r %r %r %r\"\n",
      "\n",
      "print formatter % (1, 2, 3, 4) # numbers\n",
      "print formatter % (\"one\", \"two\", \"three\", \"four\") # strings\n",
      "print formatter % (True, False, False, True) # booleans\n",
      "print formatter % (formatter, formatter, formatter, formatter)\n",
      "# prints out the string '%r %r %r %r' four times\n",
      "# converted double quote in original variable into single quote\n",
      "print formatter % (\n",
      "    \"I had this thing.\",\n",
      "    \"That you could type up right.\",\n",
      "    \"But it didn't sing.\",\n",
      "    \"So I said goodnight.\"\n",
      ") \n",
      "# can fit whole string in each formatter, but they will all be one line\n",
      "# no line breaks between each %r, only space\n",
      "# appears % r converts \" from input into ' in output"
     ],
     "language": "python",
     "metadata": {},
     "outputs": [
      {
       "output_type": "stream",
       "stream": "stdout",
       "text": [
        "1 2 3 4\n",
        "'one' 'two' 'three' 'four'\n",
        "True False False True\n",
        "'%r %r %r %r' '%r %r %r %r' '%r %r %r %r' '%r %r %r %r'\n",
        "'I had this thing.' 'That you could type up right.' \"But it didn't sing.\" 'So I said goodnight.'\n"
       ]
      }
     ],
     "prompt_number": 36
    },
    {
     "cell_type": "heading",
     "level": 4,
     "metadata": {},
     "source": [
      "Exercise 9: Printing, Printing, Printing"
     ]
    },
    {
     "cell_type": "code",
     "collapsed": false,
     "input": [
      "# Here's some new strange stuff, remember type it exactly.\n",
      "\n",
      "days = \"Mon Tue Wed Thu Fri Sat Sun\"\n",
      "months = \"Jan\\nFeb\\nMar\\nApr\\nMay\\nJun\\nJul\\nAug\"\n",
      "\n",
      "print \"Here are the days: \", days\n",
      "print \"Here are the months: \", months\n",
      "\n",
      "print \"\"\"\n",
      "There's something going on here.\n",
      "With the three double-quotes.\n",
      "We'll be able to type as much as we like.\n",
      "Even 4 lines if we want, or 5, or 6.\n",
      "\"\"\""
     ],
     "language": "python",
     "metadata": {},
     "outputs": [
      {
       "output_type": "stream",
       "stream": "stdout",
       "text": [
        "Here are the days:  Mon Tue Wed Thu Fri Sat Sun\n",
        "Here are the months:  Jan\n",
        "Feb\n",
        "Mar\n",
        "Apr\n",
        "May\n",
        "Jun\n",
        "Jul\n",
        "Aug\n",
        "\n",
        "There's something going on here.\n",
        "With the three double-quotes.\n",
        "We'll be able to type as much as we like.\n",
        "Even 4 lines if we want, or 5, or 6.\n",
        "\n"
       ]
      }
     ],
     "prompt_number": 37
    },
    {
     "cell_type": "markdown",
     "metadata": {},
     "source": [
      "5.4.3.\u00a0Triple Quotes:\n",
      "* <code>\"\"\"</code> or <code>'''</code> (triple quotes) allow you to write multi-line strings and use single quotes and double quotes freely\n",
      "\n",
      "5.4.6 Escape Sequences:\n",
      "* <code>\\n</code> newline character\n",
      "* <code>\\'</code> (or <code>\\\"</code>) in single quote (or double quote) string\n",
      "* <code>\\\\</code> backslash\n",
      "* <code>\\t</code> tab\n",
      "* <code>\\</code> a single backslash at the end of the line indicates\n",
      "that the string is continued in the next line, but no newline is added\n"
     ]
    },
    {
     "cell_type": "heading",
     "level": 4,
     "metadata": {},
     "source": [
      "Exercise 10: What Was That?"
     ]
    },
    {
     "cell_type": "code",
     "collapsed": false,
     "input": [
      "tabby_cat = \"\\tI'm tabbed in.\" # tab character\n",
      "persian_cat = \"I'm split\\non a line.\" # new line\n",
      "backslash_cat = \"I'm \\\\ a \\\\ cat.\" # backslash\n",
      "\n",
      "fat_cat = \"\"\" # multi-line string\n",
      "I'll do a list:\n",
      "\\t* Cat food # tab\n",
      "\\t* Fishies\n",
      "\\t* Catnip\\n\\t* Grass # newline works within triple quote\n",
      "\"\"\"\n",
      "\n",
      "# prints out all the defined string variables, including multi-string\n",
      "print tabby_cat\n",
      "print persian_cat\n",
      "print backslash_cat\n",
      "print fat_cat"
     ],
     "language": "python",
     "metadata": {},
     "outputs": [
      {
       "output_type": "stream",
       "stream": "stdout",
       "text": [
        "\tI'm tabbed in.\n",
        "I'm split\n",
        "on a line.\n",
        "I'm \\ a \\ cat.\n",
        " # multi-line string\n",
        "I'll do a list:\n",
        "\t* Cat food # tab\n",
        "\t* Fishies\n",
        "\t* Catnip\n",
        "\t* Grass # newline works within triple quote\n",
        "\n"
       ]
      }
     ],
     "prompt_number": 38
    },
    {
     "cell_type": "markdown",
     "metadata": {},
     "source": [
      "Escape sequences:\n",
      "* <code>\\\\</code>\tBackslash ()\n",
      "* <code>\\'</code>\tSingle-quote (')\n",
      "* <code>\\\"</code>\tDouble-quote (\")\n",
      "* <code>\\a</code>\tASCII bell (BEL)\n",
      "* <code>\\b</code>\tASCII backspace (BS)\n",
      "* <code>\\f</code>\tASCII formfeed (FF)\n",
      "* <code>\\n</code>\tASCII linefeed (LF)\n",
      "* <code>\\N{name}</code>\tCharacter named name in the Unicode database (Unicode only)\n",
      "* <code>\\r</code> ASCII\tCarriage Return (CR)\n",
      "* <code>\\t</code> ASCII\tHorizontal Tab (TAB)\n",
      "* <code>\\uxxxx</code>\tCharacter with 16-bit hex value xxxx (Unicode only)\n",
      "* <code>\\Uxxxxxxxx</code>\tCharacter with 32-bit hex value xxxxxxxx (Unicode only)\n",
      "* <code>\\v</code>\tASCII vertical tab (VT)\n",
      "* <code>\\ooo</code>\tCharacter with octal value ooo\n",
      "* <code>\\xhh</code>\tCharacter with hex value hh\n",
      "\n",
      "\"Here's a tiny piece of fun code to try out\":\n",
      "<pre><code>while True:\n",
      "    for i in [\"/\",\"-\",\"|\",\"\\\\\",\"|\"]:\n",
      "        print \"%s\\r\" % i,\n",
      "</code></pre>"
     ]
    },
    {
     "cell_type": "heading",
     "level": 4,
     "metadata": {},
     "source": [
      "Exercise 11: Asking Questions"
     ]
    },
    {
     "cell_type": "code",
     "collapsed": false,
     "input": [
      "#  , at end of each print line so print doesn't end with newline character\n",
      "# how to make it so there is a space between questions and answers?\n",
      "print \"How old are you?\",\n",
      "age = raw_input()\n",
      "print \"How tall are you?\",\n",
      "height = raw_input()\n",
      "print \"Missed that. How tall are you again in feet and inches?\",\n",
      "height2 = raw_input()\n",
      "print \"How much do you weigh?\",\n",
      "weight = raw_input()\n",
      "\n",
      "# %r is for raw data instead of display, so it prints strings in quotes\n",
      "# hence for strings with more than one type of quote, it needs escape\n",
      "# e.g. %r solution for \"5'1\" uses double quote but can't help '5\\'1\" '\n",
      "print \"So, you're %r old, %r tall, or was it %r tall, and %r heavy.\" % (\n",
      "    age, height, height2, weight)"
     ],
     "language": "python",
     "metadata": {},
     "outputs": [
      {
       "output_type": "stream",
       "stream": "stdout",
       "text": [
        "How old are you?"
       ]
      },
      {
       "name": "stdout",
       "output_type": "stream",
       "stream": "stdout",
       "text": [
        "24\n"
       ]
      },
      {
       "output_type": "stream",
       "stream": "stdout",
       "text": [
        " How tall are you?"
       ]
      },
      {
       "name": "stdout",
       "output_type": "stream",
       "stream": "stdout",
       "text": [
        "5'1\n"
       ]
      },
      {
       "output_type": "stream",
       "stream": "stdout",
       "text": [
        " Missed that. How tall are you again in feet and inches?"
       ]
      },
      {
       "name": "stdout",
       "output_type": "stream",
       "stream": "stdout",
       "text": [
        "5'1\"\n"
       ]
      },
      {
       "output_type": "stream",
       "stream": "stdout",
       "text": [
        " How much do you weigh?"
       ]
      },
      {
       "name": "stdout",
       "output_type": "stream",
       "stream": "stdout",
       "text": [
        "not telling\n"
       ]
      },
      {
       "output_type": "stream",
       "stream": "stdout",
       "text": [
        " So, you're '24' old, \"5'1\" tall, or was it '5\\'1\"' tall, and 'not telling' heavy.\n"
       ]
      }
     ],
     "prompt_number": 39
    },
    {
     "cell_type": "markdown",
     "metadata": {},
     "source": [
      "Functions:\n",
      "* <code>raw_input()</code> takes input from user and returns what is entered as a string.\n",
      "* <code>int()</code> converts whatever is inside the parentheses into an integer, hence you can use int(raw_input()) to get string from user and convert it to an integer.\n",
      "* <code>input()</code>tries to convert things you enter as if they were Python code, but it has security problems avoid it."
     ]
    },
    {
     "cell_type": "heading",
     "level": 4,
     "metadata": {},
     "source": [
      "Exercise 12: Prompting People"
     ]
    },
    {
     "cell_type": "code",
     "collapsed": false,
     "input": [
      "age = raw_input(\"How old are you? \")\n",
      "height = raw_input(\"How tall are you? \")\n",
      "weight = raw_input(\"How much do you weigh? \")\n",
      "\n",
      "print \"So, you're %r old, %r tall and %r heavy.\" % (\n",
      "    age, height, weight)"
     ],
     "language": "python",
     "metadata": {},
     "outputs": [
      {
       "name": "stdout",
       "output_type": "stream",
       "stream": "stdout",
       "text": [
        "How old are you? 24\n"
       ]
      },
      {
       "name": "stdout",
       "output_type": "stream",
       "stream": "stdout",
       "text": [
        "How tall are you? 5'1\n"
       ]
      },
      {
       "name": "stdout",
       "output_type": "stream",
       "stream": "stdout",
       "text": [
        "How much do you weigh? still not telling\n"
       ]
      },
      {
       "output_type": "stream",
       "stream": "stdout",
       "text": [
        "So, you're '24' old, \"5'1\" tall and 'still not telling' heavy.\n"
       ]
      }
     ],
     "prompt_number": 40
    },
    {
     "cell_type": "markdown",
     "metadata": {},
     "source": [
      "In addition to defining <code>raw_input ()</code> as a variable, we can also include a prompt inside the () parentheses to show to a person. No need for <code>print</code>! The format looks like this:\n",
      "<pre><code>x = raw_input(\"Write prompt here \")</code></pre>\n",
      "The inclusion of the space in the string also means the answer won't be stuck right after the question. Interestingly, the response field is also located right behind the question now, instead of below it.\n",
      "\n",
      "<pre><code>$ pydoc raw_input\n",
      "raw_input(...)\n",
      "raw_input([prompt]) -> string</pre</code>\n",
      " \n",
      "Read a string from standard input.  The trailing newline is stripped.\n",
      "If the user hits EOF (Unix: Ctl-D, Windows: Ctl-Z+Return), raise EOFError.\n",
      "On Unix, GNU readline is used if enabled.  The prompt string, if given,\n",
      "is printed without a trailing newline before reading.\n",
      "\n",
      "The <code>pydoc</code> module:\n",
      "* This automatically generates documentation from Python modules. The documentation can be presented as pages of text on the console, served to a Web browser, or saved to HTML files.\n",
      "* <code>pydoc</code> followed by the term you want to look up will display text on console, press q to quit.\n",
      "* <code>pydoc -w</code> will cause HTML documentation to be written out to a file in the current directory\n",
      "* <code>pydoc -k</code> will search the synopsis lines of all available modules for the keyword given as the argument, again in a manner similar to the Unix <code>man</code> command.\n",
      "* <code>pydoc -r 1234</code> will start an HTTP server on the local machine that will serve documentation to visiting Web browsers on port 1234, allowing you to browse the documentation at http://localhost:1234/.\n",
      "* <code>pydoc -g</code> will start the server and additionally bring up a small <code>Tkinter</code>-based graphical interface to help you search for documentation pages.\n",
      "* Note, iPython needs to be shut off for this to run in Terminal\n",
      "* Terms I looked up: <code>open, file, os, sys</code>\n",
      "\n"
     ]
    },
    {
     "cell_type": "heading",
     "level": 4,
     "metadata": {},
     "source": [
      "Exercise 13: Parameters, Unpacking, Variables"
     ]
    },
    {
     "cell_type": "markdown",
     "metadata": {},
     "source": [
      "Modules a.ka. libraries and features that we import to keep program small and act as documentation for programmers who want to read the code later. Remember that modules give you features."
     ]
    },
    {
     "cell_type": "code",
     "collapsed": false,
     "input": [
      "# this is the WORKING version of ex13.py with three variables passed through it\n",
      "\n",
      "!ipython ex13.py apple orange kiwi"
     ],
     "language": "python",
     "metadata": {},
     "outputs": [
      {
       "output_type": "stream",
       "stream": "stdout",
       "text": [
        "The script is called: /Users/blanks/Dropbox/Coding/Python/ex13.py\r\n",
        "Your first variable is: apple\r\n",
        "Your second variable is: orange\r\n",
        "Your third variable is: kiwi\r\n"
       ]
      }
     ],
     "prompt_number": 41
    },
    {
     "cell_type": "code",
     "collapsed": false,
     "input": [
      "# this is the contents of ex13.py\n",
      "# the below result is the ERROR when you run the program WITHOUT passing 3 command line arguments\n",
      "# running the program ipython ex13.py with only one or two arguments would result in error too\n",
      "# Usually \"ValueError: need more than 3 values to unpack\" means you didn't give it enough parameters\n",
      "\n",
      "# import module adds features to your script from Python feature set\n",
      "# argv (\"argument variable\") holds arguments passed to script when you run it\n",
      "# script \"unpacks\" argv and assigns each argument to variables on the left in order\n",
      "\n",
      "from sys import argv\n",
      "\n",
      "script, first, second, third = argv\n",
      "\n",
      "print \"The script is called:\", script\n",
      "print \"Your first variable is:\", first\n",
      "print \"Your second variable is:\", second\n",
      "print \"Your third variable is:\", third"
     ],
     "language": "python",
     "metadata": {},
     "outputs": [
      {
       "ename": "ValueError",
       "evalue": "too many values to unpack",
       "output_type": "pyerr",
       "traceback": [
        "\u001b[0;31m---------------------------------------------------------------------------\u001b[0m\n\u001b[0;31mValueError\u001b[0m                                Traceback (most recent call last)",
        "\u001b[0;32m<ipython-input-42-f49af973b159>\u001b[0m in \u001b[0;36m<module>\u001b[0;34m()\u001b[0m\n\u001b[1;32m     10\u001b[0m \u001b[0;32mfrom\u001b[0m \u001b[0msys\u001b[0m \u001b[0;32mimport\u001b[0m \u001b[0margv\u001b[0m\u001b[0;34m\u001b[0m\u001b[0m\n\u001b[1;32m     11\u001b[0m \u001b[0;34m\u001b[0m\u001b[0m\n\u001b[0;32m---> 12\u001b[0;31m \u001b[0mscript\u001b[0m\u001b[0;34m,\u001b[0m \u001b[0mfirst\u001b[0m\u001b[0;34m,\u001b[0m \u001b[0msecond\u001b[0m\u001b[0;34m,\u001b[0m \u001b[0mthird\u001b[0m \u001b[0;34m=\u001b[0m \u001b[0margv\u001b[0m\u001b[0;34m\u001b[0m\u001b[0m\n\u001b[0m\u001b[1;32m     13\u001b[0m \u001b[0;34m\u001b[0m\u001b[0m\n\u001b[1;32m     14\u001b[0m \u001b[0;32mprint\u001b[0m \u001b[0;34m\"The script is called:\"\u001b[0m\u001b[0;34m,\u001b[0m \u001b[0mscript\u001b[0m\u001b[0;34m\u001b[0m\u001b[0m\n",
        "\u001b[0;31mValueError\u001b[0m: too many values to unpack"
       ]
      }
     ],
     "prompt_number": 42
    },
    {
     "cell_type": "code",
     "collapsed": false,
     "input": [
      "%run \"ex14.py\" nina"
     ],
     "language": "python",
     "metadata": {},
     "outputs": [
      {
       "output_type": "stream",
       "stream": "stdout",
       "text": [
        "Hi nina, I'm the ex14.py script.\n",
        "I'd like to ask you a few questions.\n",
        "Do you like me nina?\n"
       ]
      },
      {
       "name": "stdout",
       "output_type": "stream",
       "stream": "stdout",
       "text": [
        "$ no\n"
       ]
      },
      {
       "output_type": "stream",
       "stream": "stdout",
       "text": [
        "Where do you live nina?\n"
       ]
      },
      {
       "name": "stdout",
       "output_type": "stream",
       "stream": "stdout",
       "text": [
        "$ ny\n"
       ]
      },
      {
       "output_type": "stream",
       "stream": "stdout",
       "text": [
        "What kind of computer do you have?\n"
       ]
      },
      {
       "name": "stdout",
       "output_type": "stream",
       "stream": "stdout",
       "text": [
        "$ air\n"
       ]
      },
      {
       "output_type": "stream",
       "stream": "stdout",
       "text": [
        "\n",
        "Alright, so you said 'no' about liking me.\n",
        "You live in 'ny'.  Not sure where that is.\n",
        "And you have a 'air' computer.  Nice.\n",
        "\n"
       ]
      }
     ],
     "prompt_number": 4
    },
    {
     "cell_type": "code",
     "collapsed": false,
     "input": [],
     "language": "python",
     "metadata": {},
     "outputs": [],
     "prompt_number": 46
    },
    {
     "cell_type": "code",
     "collapsed": false,
     "input": [],
     "language": "python",
     "metadata": {},
     "outputs": []
    }
   ],
   "metadata": {}
  }
 ]
}