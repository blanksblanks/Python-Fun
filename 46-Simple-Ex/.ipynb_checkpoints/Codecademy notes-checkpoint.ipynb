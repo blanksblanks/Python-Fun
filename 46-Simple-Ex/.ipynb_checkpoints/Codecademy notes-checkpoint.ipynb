{
 "metadata": {
  "name": "",
  "signature": "sha256:bc53f959a79e6163610ba3dd65a780221e273ad9498639bd0747e5e3c9bef398"
 },
 "nbformat": 3,
 "nbformat_minor": 0,
 "worksheets": [
  {
   "cells": [
    {
     "cell_type": "heading",
     "level": 3,
     "metadata": {},
     "source": [
      "Codecademy Python track notes"
     ]
    },
    {
     "cell_type": "markdown",
     "metadata": {},
     "source": [
      "* Each character in a string is assigned a number called the **index**\n",
      "* Index starts at 0, not 1, and ends at -1"
     ]
    },
    {
     "cell_type": "code",
     "collapsed": false,
     "input": [
      "\"\"\"\n",
      "The string \"PYTHON\" has six characters,\n",
      "numbered 0 to 5, as shown below:\n",
      "\n",
      "+---+---+---+---+---+---+\n",
      "| P | Y | T | H | O | N |\n",
      "+---+---+---+---+---+---+\n",
      "  0   1   2   3   4   5\n",
      "\n",
      "So if you wanted \"Y\", you could just type\n",
      "\"PYTHON\"[1] (always start counting from 0!)\n",
      "\"\"\"\n",
      "fifth_letter = \"MONTY\"[4]\n",
      "\n",
      "print fifth_letter"
     ],
     "language": "python",
     "metadata": {},
     "outputs": [
      {
       "output_type": "stream",
       "stream": "stdout",
       "text": [
        "Y\n"
       ]
      }
     ],
     "prompt_number": 1
    },
    {
     "cell_type": "markdown",
     "metadata": {},
     "source": [
      "* **String methods** let you perform specific tasks for strings, e.g. len(), lower(), upper(), str()\n",
      "* \"String\".upper() and variable.lower() i.e. methods that use **dot notation** only work with strings\n",
      "* len(string) and str(object) can work on other data types\n",
      "* Use str() when concatenating strings with non-string object\n",
      "* The % operator after a string is used to combine a string with variables; it replaces a %s in the string with the string variable that comes after it; need same number of %s terms in a string as the number of variables in parentheses"
     ]
    },
    {
     "cell_type": "code",
     "collapsed": false,
     "input": [
      "parrot = \"Norwegian Blue\"\n",
      "\n",
      "print len(parrot)\n",
      "print parrot.lower() \n",
      "print parrot.upper()\n",
      "print 'Pi is ' + str(3.14)\n",
      "\n",
      "string_1 = \"Camelot\"\n",
      "string_2 = \"place\"\n",
      "\n",
      "print \"Let's not go to %s. 'Tis a silly %s.\" % (string_1, string_2)"
     ],
     "language": "python",
     "metadata": {},
     "outputs": [
      {
       "output_type": "stream",
       "stream": "stdout",
       "text": [
        "14\n",
        "norwegian blue\n",
        "NORWEGIAN BLUE\n",
        "Pi is 3.14\n",
        "Let's not go to Camelot. 'Tis a silly place.\n"
       ]
      }
     ],
     "prompt_number": 4
    },
    {
     "cell_type": "code",
     "collapsed": false,
     "input": [
      "# Printing a string\n",
      "\n",
      "print \"Foxtrot\"\n",
      "\n",
      "# Three ways to create strings\n",
      "\n",
      "print 'Alpha'\n",
      "print \"Bravo\"\n",
      "print str(3)\n",
      "\n",
      "# String index\n",
      "print \"Hello\"[-1]\n",
      "print \"Hello\"[1:]\n",
      "print \"Hello\"[:-1] # same as [0:-1]\n",
      "print \"Hello\"[:] # whole thing, same as [0:]\n",
      "\n",
      "# String methods\n",
      "\n",
      "print len(\"Charlie\")\n",
      "print \"Delta\".upper()\n",
      "print \"Echo\".lower()\n",
      "\n",
      "# Advanced printing techniques\n",
      "\n",
      "g = \"Golf\"\n",
      "h = \"Hotel\"\n",
      "print \"%s, %s\" % (g, h)"
     ],
     "language": "python",
     "metadata": {},
     "outputs": [
      {
       "output_type": "stream",
       "stream": "stdout",
       "text": [
        "Foxtrot\n",
        "Alpha\n",
        "Bravo\n",
        "3\n",
        "o\n",
        "ello\n",
        "Hell\n",
        "Hello\n",
        "7\n",
        "DELTA\n",
        "echo\n",
        "Golf, Hotel\n"
       ]
      }
     ],
     "prompt_number": 18
    },
    {
     "cell_type": "code",
     "collapsed": false,
     "input": [],
     "language": "python",
     "metadata": {},
     "outputs": []
    }
   ],
   "metadata": {}
  }
 ]
}