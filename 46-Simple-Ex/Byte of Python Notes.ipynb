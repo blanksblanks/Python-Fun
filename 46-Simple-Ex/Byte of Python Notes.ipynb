{
 "metadata": {
  "name": "",
  "signature": "sha256:5d10ba0da08d75453ccd85840eb881928f4bd6a4e7ee9dc31fb99cfe34d69e89"
 },
 "nbformat": 3,
 "nbformat_minor": 0,
 "worksheets": [
  {
   "cells": [
    {
     "cell_type": "heading",
     "level": 3,
     "metadata": {},
     "source": [
      "Prologue. IPython Notes"
     ]
    },
    {
     "cell_type": "markdown",
     "metadata": {},
     "source": [
      "**Installing IPython**\n",
      "1. Download and install <a href=\"http://continuum.io/downloads\">Anaconda</a> or the free edition of <a href=\"https://www.enthought.com/products/epd_free.php\">Enthought Canopy</a>.\n",
      "2.\tUpdate IPython to the current version by entering the following in Terminal. For Anaconda:\n",
      "<pre><code>conda update conda \n",
      "conda update ipython\n",
      "</pre></code>\n",
      "For Enthought Canopy:\n",
      "<pre><code>enpkg ipytho\n",
      "</pre></code>\n",
      "\n",
      "**Running IPython Notebook**\n",
      "* To open your notebook, type the following into Terminal:\n",
      "<pre><code>ipython notebook</pre></code>\n",
      "\n",
      "**Types of Cells in IPython**\n",
      "* Code\n",
      "* <a href=\"http://daringfireball.net/projects/markdown/syntax#html\"> Markdown</a>, similar to HTML\n",
      "* Raw NBConvert\n",
      "* Headings 1-6\n",
      "\n",
      "**Magic Functions in IPython**\n",
      "* **Line magics** are prefixed with the % character and work much like OS command-line calls: they get as an argument the rest of the line, where arguments are passed without parentheses or quotes\n",
      "* **Cell magics** are prefixed with a double %%, and they are functions that get as an argument not only the rest of the line, but also the lines below it in a separate argument\n",
      "* The built-in magics include:\n",
      "* Functions that work with code: <code>%run, %edit, %save, %macro, %recall,</code> etc.\n",
      "* Functions which affect the shell: <code>%colors, %xmode, %autoindent, %automagic,</code> etc.\n",
      "* Other functions such as <code>%reset, %timeit, %%file, %load, %paste</code>.\n",
      "\n",
      "**Running Command-Line Prompts in IPython**\n",
      "* To run any command at the system shell, simply prefix it with !, e.g. <code>!ls</code>\n",
      "* You can capture the output into a Python list, e.g. <code>files = !ls</code>\n",
      "\n",
      "**Working with Python files in IPython**\n",
      "* To load pre-existing Python file, type <code>%load</code> followed by file name INSIDE QUOTATIONS. This loads up a new cell containing the contents of the .py file\n",
      "* To run a file, type <code>%run</code> followed by file name INSIDE QUOTATIONS. This will run myprogram.py and load the output into a Notebook cell\n",
      "* To run a .py file, type <code>!ipython</code> followed by the file name WITHOUT QUOTATIONS\n",
      "\n",
      "**Shortcuts in IPython**\n",
      "* Shift-Enter: run cell\n",
      "* Ctrl-Enter: run cell in-place\n",
      "* Alt-Enter: run cell, insert below\n",
      "* *The rest of the commands begin with ctrl-m, excerpt below:*\n",
      "* Ctrl-m a: insert cell above\n",
      "* Ctrl-m b: insert cell below\n",
      "* Ctrl-m h: show keyboard shortcuts\n",
      "\n",
      "**Helpful commands**\n",
      "* <code>!ipython -h</code> information about IPython commands\n",
      "* <code>?</code> Introduction and overview of IPython's features\n",
      "* <code>%quickref</code> Quick reference\n",
      "* <code>help()</code> Python's own help system i.e. <code>help(int)</code>\n",
      "* <code>object_name?</code> Details about 'object' including docstrings, function definition lines (for call arguments) and constructor details for classes.  Use 'objectjQuery203030241400259546936_1400201161447' for extra details. To get specific information on an object, you can use the magic commands <code>%pdoc, %pdef, %psource and %pfile</code>.\n",
      "* Tab completion, especially for attributes, is a convenient way to explore the structure of any object you\u2019re dealing with. Simply type <code>object_name.[TAB]</code> to view the attributes of Python objects, keywords, file and directory names"
     ]
    },
    {
     "cell_type": "heading",
     "level": 3,
     "metadata": {},
     "source": [
      "Chapter 5. Basics"
     ]
    },
    {
     "cell_type": "markdown",
     "metadata": {},
     "source": [
      "**5.1 Comments**\n",
      "<pre><code># Code tells you how, comments should tell you why.</code></pre>\n",
      "\n",
      "**5.2 Literal Constants**\n",
      "* numbers and strings, called so because we use their values literally and their values cannot be changed\n",
      "\n",
      "**5.3 Numbers**\n",
      "* integers are whole numbers\n",
      "* floats (floating point numbers) have decimals, and E indicates powers of 10, i.e. 52.3E-4 = 52.3\\*(10^-4)\n",
      "\n",
      "**5.4 Strings**\n",
      "* A string is a sequence of characters and words\n",
      "* Strings are immutable, meaning once created cannot be changed (explore advantages later)\n",
      "* '' Single quote or \"\" double quotes both specify strings as long as you open and close with the same kind of quote; strings preserve everything within the quotes as-is\n",
      "* ''' \"\"\" Triple quotes specify multi-line strings, and single and double quotes can be used freely within\n",
      "* <code>print</code> always ends with new line character (<code>\\n</code>) so it will always print on separate lines\n",
      "* use <code>,</code> (comma) to prevent new lines and make string continue on same line\n",
      "* <code>format()</code> method is useful for strings because it substitutes each argument value\n",
      "into the place of the specification, without breaking the string into pieces and requiring concatenation. To use it, leave <code>{}</code> curly brackets in your strings, and at the end of the string add <code>.format()</code> containing the variables name(s) inside the paretheses.  You can leave <code>{}</code> blank, include numbers, or even variable names. Variables can also be defined inside <code>.format()</code>.\n",
      "* <code>%d %s %r</code> are also useful formatters. To use them, insert them in a string, and follow the string by <code>% ()</code> with the variables inside. <code>%d</code> is for integers, <code>%s</code> for strings, <code>%r</code> for raw data."
     ]
    },
    {
     "cell_type": "code",
     "collapsed": false,
     "input": [
      "age = 20\n",
      "name = 'Swaroop'\n",
      "\n",
      "# example of string concatenation is much uglier and error-prone\n",
      "print name + ' was ' + str(age) + ' years old.'\n",
      "# note Python starts counting from 0 which means name is at index 0, second at index 1, and so on\n",
      "print '{0} was {1} years old when he wrote this book'.format(name, age)\n",
      "# note numbers are optional in the {}\n",
      "print 'Why is {} playing with that python?'.format(name)\n",
      "# note variables can be defined after .format()\n",
      "print '{subject} was looking at the {object}.\\n' .format(subject='Molly', object='python')\n",
      "\n",
      "# decimal (.) precision of 3 for float '0.333'\n",
      "print '{0:.3f}'.format(1.0/3)\n",
      "# fill with underscores (_) with the text centered\n",
      "# (^) to 11 width '___hello___'\n",
      "print '{0:_^11}'.format('hello')\n",
      "# keyword-based 'Swaroop wrote A Byte of Python'\n",
      "print '{name} wrote {book}'.format(name='Swaroop',\n",
      " book='A Byte of Python')"
     ],
     "language": "python",
     "metadata": {},
     "outputs": [
      {
       "output_type": "stream",
       "stream": "stdout",
       "text": [
        "Swaroop was 20 years old.\n",
        "Swaroop was 20 years old when he wrote this book\n",
        "Why is Swaroop playing with that python?\n",
        "Molly was looking at the python.\n",
        "\n",
        "0.333\n",
        "___hello___\n",
        "Swaroop wrote A Byte of Python\n"
       ]
      }
     ],
     "prompt_number": 15
    },
    {
     "cell_type": "markdown",
     "metadata": {},
     "source": [
      "* Escape sequences begin with backslash, useful list below:\n",
      "* <code>\\'</code> (or <code>\\\"</code>) for apostrophe, single quote or double quote in a string\n",
      "* <code>\\\\\\</code> backslash\n",
      "* <code>\\t</code> tab\n",
      "* <code>\\n</code> newline\n",
      "* <code>\\</code> single backslash at end of line means string continues in the next line, but no newline is added\n",
      "* Raw strings are represented by prefixing <code>r</code> or <code>R</code> to string, indicates that no special processing such as escape sequences are handled\n",
      "* Note: always use raw strings for regular expressions, i.e. <code>r'\\1'</code> instead of <code>'\\\\1'</code>"
     ]
    },
    {
     "cell_type": "code",
     "collapsed": false,
     "input": [
      "print \"This is the first sentence. \\\n",
      "This is the second sentence.\"\n",
      "\n",
      "print r\"Newlines are indicated by \\n\""
     ],
     "language": "python",
     "metadata": {},
     "outputs": [
      {
       "output_type": "stream",
       "stream": "stdout",
       "text": [
        "This is the first sentence. This is the second sentence.\n",
        "Newlines are indicated by \\n\n"
       ]
      }
     ],
     "prompt_number": 16
    },
    {
     "cell_type": "markdown",
     "metadata": {},
     "source": [
      "**5.5 Variable**\n",
      "* Variables, as opposed to literal constants, carry values that can vary\n",
      "* You give names to variables in order to access the stored information in the computer's memory\n",
      "\n",
      "**5.6 Identifier Naming**\n",
      "* An example of identifiers are variable names\n",
      "* Case-sensitive, can only use letters, numbers and underscores\n",
      "* Variable names start with lowercase by convention and cannot start with numbers\n",
      "* Use descriptive names for variables, functions and classes - shouldn't be too long but should be descriptive.\n",
      "* Stick with Python-style naming conventions (e.g. i and j for loop counter variables, x, y, z for other variables)\n",
      "* Pick a capitalization style for function names, local variable names and global variable names, e.g. name styles could be like \"square_the_biggest\" or \"squareTheBiggest\" or \"SquareTheBiggest\"\n",
      "\n",
      "**5.7 Data Types**\n",
      "* Data types refer to the different types of values variables hold\n",
      "* Basic types are numbers and strings\n",
      "\n",
      "**5.8 Object**\n",
      "* Object refers to anything used in a Python program\n",
      "* Note Python is storngly object-oriented in the sense that everything is an object including numbers, strings and functions\n",
      "\n",
      "**5.9 How to write Python programs**\n",
      "1. Open editor of choice\n",
      "2. Type program\n",
      "3. Save filename\n",
      "4. Run interpreter\n",
      "\n",
      "**5.10 Example: Using Variables and Literal Constants**"
     ]
    },
    {
     "cell_type": "code",
     "collapsed": false,
     "input": [
      "i = 5\n",
      "print i\n",
      "i = i + 1\n",
      "print i\n",
      "s = '''This is a multi-line string.\n",
      "This is the second line.'''\n",
      "print s\n"
     ],
     "language": "python",
     "metadata": {},
     "outputs": [
      {
       "output_type": "stream",
       "stream": "stdout",
       "text": [
        "5\n",
        "6\n",
        "This is a multi-line string.\n",
        "This is the second line.\n"
       ]
      }
     ],
     "prompt_number": 19
    },
    {
     "cell_type": "markdown",
     "metadata": {},
     "source": [
      "* Assignment operator <code> = </code> assigns literal constant value to variable, which can change\n",
      "* Each line is referred to as a statement\n",
      "\n",
      "**5.11 Logical and Physical Line**\n",
      "* Physical line is what you see in program\n",
      "* Logical line is what Python sees in a program, a.k.a. statement\n",
      "* Python implicitly assumes each physical line corresponds to a logical line\n",
      "* Semicolon (<code>;</code>) specifies end of a statement if you want to specify more than one logical line on a physical line, i.e. <code>i = 5; print i;</code>. HOWEVER, barely anyone uses this. It's strongly recommended to stick to writing a maximum of one logical line on each physical line. \n",
      "* Explicit line joining refers to using backslash (<code>\\</code>) to break one logical line into multiple physical lines, i.e. <code> print \\\n",
      "i</code>\n",
      "* Implicit line joining refers to cases where no backslash is needed such as when logical line has starting parentheses, square brackets or curly brackets\n",
      "\n",
      "**5.12 Indentation**\n",
      "* Indentation refers to whitespace at beginning of line\n",
      "* Important in Python because indentation level of the logical line determines grouping of statements\n",
      "* Block refers to set of statements that go together and have same indentation\n",
      "* Cannot arbitrarily start new blocks of statements (more detail in Control Flow chapter)\n",
      "* Make sure you use consistent number of spaces for indentation because one extra space can give rise to Indentation:Error: unexpected indent\n",
      "* Use four spaces \"    \" to indent consistently according to official Python language recommendation; good editors will do this for you\n",
      "* Note to static language programmers: Python uses indentation for blocks and never braces"
     ]
    },
    {
     "cell_type": "heading",
     "level": 3,
     "metadata": {},
     "source": [
      "Chapter 6. Operators and Expressions"
     ]
    },
    {
     "cell_type": "markdown",
     "metadata": {},
     "source": [
      "* Expressions can be broken down into operators and operands\n",
      "* Operators are functionality represented by symbols like <code>+</code> and special keywords\n",
      "* Operands are the data that operators operate on, like numbers\n",
      "\n",
      "**6.1 Operators**\n",
      "* <code>\\+</code> addition\n",
      "* <code>\\-</code> subtraction\n",
      "* <code>/</code> division\n",
      "* <code>//</code> floor division (answer rounded down)\n",
      "* <code>\\*</code> multiplication\n",
      "* <code>\\*\\*</code> power\n",
      "* <code>%</code> modulus returns the remainder of the division\n",
      "* <code><</code> left shift (shifts the bits of the number to the left by number of bits specified e.g. <code>2 << 2 = 8</code> because 2 (10 bits) shifted by 2 gives 1000 bits (8)\n",
      "* <code>\\>\\></code> right shift\n",
      "* <code>&</code> bit-wise AND the numbers\n",
      "* <code>|</code> bit-wise OR the numbers\n",
      "* <code>^</code> bit-wise XOR of the numbers\n",
      "* <code>~</code> bit-wise inversion e.g. of x is -(x+1) more information: http://stackoverflow.com/questions/11810113/how-do-bitwise-operations-work-in-python/11810203#11810203\n",
      "* <code><</code> is it less-than\n",
      "* <code>\\></code> is it greater-than\n",
      "* <code><=</code> is it less-than-or-equal\n",
      "* <code>\\>=</code> is it greater-than-equal\n",
      "* <code>==</code> is it equal to\n",
      "* <code>!=</code> is not equal to\n",
      "* <code>not</code> boolean NOT\n",
      "* <code>and</code> boolean AND (short-circuit evaluation applies, if first variable is False it returns False without checking second variable)\n",
      "* <code>or</code> boolean OR (short-circuit evaluation also applies for True)\n",
      "\n",
      "**6.2 Shortcut for math operations and assignment**\n",
      "* <code>var operation= expression</code> can replace <code>var = var operation expression</code>\n"
     ]
    },
    {
     "cell_type": "code",
     "collapsed": false,
     "input": [
      "a = 2\n",
      "a = a * 3\n",
      "print a\n",
      "\n",
      "#same as\n",
      "a = 2\n",
      "a *= 3\n",
      "print a"
     ],
     "language": "python",
     "metadata": {},
     "outputs": [
      {
       "output_type": "stream",
       "stream": "stdout",
       "text": [
        "6\n",
        "6\n"
       ]
      }
     ],
     "prompt_number": 43
    },
    {
     "cell_type": "markdown",
     "metadata": {},
     "source": [
      "**6.3 Evaluation Order**\n",
      "* From lowest to highest precedence: <code>lambda, if - else, or, and, not x, (in, not in, is, is not, <, <=, \\>, \\>=, !=, ==), |, ^, &, (<<, \\>\\>), (+, -), (*, /, //, %), (+x, -x, ~x), **, (x[index], x[index:index], x(arguments...), x.attribute), ((expressions...), [expressions...], {key: value...}, {expressions...})</code>\n",
      "* In English: Lambda Expression, Conditional expression, Boolean OR, Boolean AND, Boolean NOT, Comparisons including membership and identity tests, Bitwise OR, Bitwise XOR, Bitwise AND, Shifts, (Addition, Subtraction), (Multiplication, Division, Floor Division, Remainder), (Postive, Negative, Bitwise NOT), Exponetiation, (Subscription, Slicing, Call, Attribute Reference), (Binding or Tuple display, List display, Dictionary display, Set display)\n",
      "\n",
      "**6.4 Changing the Order of Evaluation**\n",
      "* <code>()</code> parentheses make expressions more readable and allow us to change the order of evaluation by telling Python to evaluate what's inside first\n",
      "\n",
      "**6.5 Associativity**\n",
      "* Operators are usually associated from left to right, so same precedence operators will be evaluated that way if there are no parentheses\n",
      "\n",
      "**6.6 Expressions**"
     ]
    },
    {
     "cell_type": "code",
     "collapsed": false,
     "input": [
      "# save as expression.py\n",
      "\n",
      "length = 5\n",
      "breadth = 2\n",
      "area = length * breadth\n",
      "print 'Area is', area\n",
      "print 'Perimeter is', 2 * (length + breadth)"
     ],
     "language": "python",
     "metadata": {},
     "outputs": [
      {
       "output_type": "stream",
       "stream": "stdout",
       "text": [
        "Area is 10\n",
        "Perimeter is 14\n"
       ]
      }
     ],
     "prompt_number": 44
    },
    {
     "cell_type": "markdown",
     "metadata": {},
     "source": [
      "* Values are stored in variables and calculate dwith the help of expressions\n",
      "* You can get the result of this expression and print it, or directly use the expression int he print statement\n",
      "* Python pretty-prints the output by adding a space between string and variable, even if there is no space after the , comma (just another way Python makes life easier for programmer)"
     ]
    },
    {
     "cell_type": "heading",
     "level": 3,
     "metadata": {},
     "source": [
      "Chapter 7. Control Flow"
     ]
    },
    {
     "cell_type": "markdown",
     "metadata": {},
     "source": [
      "* Control flow statements allow us to change the top-down order of how Python executes\n",
      "\n",
      "** 7.1. The <code>if</code> statement**\n",
      "* <code>if</code> checks a condition\n",
      "* If-block: if condition is true, runs a block of statement\n",
      "* Else-block (optional): else we process another block of statements"
     ]
    },
    {
     "cell_type": "code",
     "collapsed": false,
     "input": [
      "# save as if.py\n",
      "\n",
      "number = 23\n",
      "guess = int(raw_input('Enter an integer : '))\n",
      "\n",
      "if guess == number:\n",
      "    # New block starts here\n",
      "    print 'Congratulations, you guessed it.'\n",
      "    print '(but you do not win any prizes!)'\n",
      "    # New block ends here\n",
      "elif guess < number:\n",
      "    # Another block\n",
      "    print 'No, it is a little higher than that'\n",
      "    # You can do whatever you want in a block ...\n",
      "else:\n",
      "    print 'No, it is a little lower than that'\n",
      "    # you must have guessed > number to reach here\n",
      "\n",
      "print 'Done'\n",
      "\n",
      "# This last statement is always executed,\n",
      "# after the if statement is executed."
     ],
     "language": "python",
     "metadata": {},
     "outputs": [
      {
       "name": "stdout",
       "output_type": "stream",
       "stream": "stdout",
       "text": [
        "Enter an integer : 5\n"
       ]
      },
      {
       "output_type": "stream",
       "stream": "stdout",
       "text": [
        "No, it is a little higher than that\n",
        "Done\n"
       ]
      }
     ],
     "prompt_number": 31
    },
    {
     "cell_type": "markdown",
     "metadata": {},
     "source": [
      "* Built-in <code>raw_input()</code> function takes user input and returns it as a string\n",
      "* <code>int()</code> \n",
      "In this program, we take guesses from the user and check if it is the number that we have. We set the variable number to any integer we want, say 23. Then, we take the user\u2019s guess using the raw_input() function. Functions are just reusable pieces of programs. We\u2019ll read more about them in the next chapter.\n",
      "\n",
      "We supply a string to the built-in raw_input function which prints it to the screen and waits for input from the user. Once we enter something and press enter key, the raw_input() function returns what we entered, as a string. We then convert this string to an integer using int and then store it in the variable guess. Actually, the int is a class but all you need to know right now is that you can use it to convert a string to an integer (assuming the string contains a valid integer in the text).\n",
      "\n",
      "Next, we compare the guess of the user with the number we have chosen. If they are equal, we print a success message. Notice that we use indentation levels to tell Python which statements belong to which block. This is why indentation is so important in Python. I hope you are sticking to the \"consistent indentation\" rule. Are you?\n",
      "\n",
      "Notice how the if statement contains a colon at the end - we are indicating to Python that a block of statements follows.\n",
      "\n",
      "Then, we check if the guess is less than the number, and if so, we inform the user that they must guess a little higher than that. What we have used here is the elif clause which actually combines two related if else-if else statements into one combined if-elif-else statement. This makes the program easier and reduces the amount of indentation required.\n",
      "\n",
      "The elif and else statements must also have a colon at the end of the logical line followed by their corresponding block of statements (with proper indentation, of course)\n",
      "\n",
      "You can have another if statement inside the if-block of an if statement and so on - this is called a nested if statement.\n",
      "\n",
      "Remember that the elif and else parts are optional. A minimal valid if statement is:\n",
      "\n",
      "if True:\n",
      "    print 'Yes, it is true'\n",
      "After Python has finished executing the complete if statement along with the associated elif and else clauses, it moves on to the next statement in the block containing the if statement. In this case, it is the main block (where execution of the program starts), and the next statement is the print 'Done' statement. After this, Python sees the ends of the program and simply finishes up.\n",
      "\n",
      "Even though this is a very simple program, I have been pointing out a lot of things that you should notice. All these are pretty straightforward (and surprisingly simple for those of you from C/C++ backgrounds). You will need to become aware of all these things initially, but after some practice you will become comfortable with them, and it will all feel natural to you.\n",
      "\n",
      "NOTE\n",
      "Note for C/C++ Programmers\n",
      "There is no switch statement in Python. You can use an if..elif..else statement to do the same thing (and in some cases, use a dictionary to do it quickly)\n",
      "\n",
      "**7.2 The <code>while</code> Statement**\n",
      "* <while> is a looping statement that allows repeated execution of block of statements as long as condition is true\n",
      "* Optional <code>else</code> clause"
     ]
    },
    {
     "cell_type": "code",
     "collapsed": false,
     "input": [
      "# save as while.py\n",
      "\n",
      "number = 23\n",
      "running = True\n",
      "\n",
      "while running:\n",
      "    guess = int(raw_input('Enter an integer : '))\n",
      "    if guess == number:\n",
      "        print 'Congratulations, you guessed it.'\n",
      "         # this causes the while loop to stop\n",
      "        running = False\n",
      "    elif guess < number:\n",
      "        print 'No, it is a little higher than that.'\n",
      "    else:\n",
      "        print 'No, it is a little lower than that.'\n",
      "else:\n",
      "    print 'The while loop is over.'\n",
      "    # Do anything else you want to do here\n",
      "\n",
      "print 'Done'"
     ],
     "language": "python",
     "metadata": {},
     "outputs": [
      {
       "name": "stdout",
       "output_type": "stream",
       "stream": "stdout",
       "text": [
        "Enter an integer : 24\n"
       ]
      },
      {
       "output_type": "stream",
       "stream": "stdout",
       "text": [
        "No, it is a little lower than that.\n"
       ]
      },
      {
       "name": "stdout",
       "output_type": "stream",
       "stream": "stdout",
       "text": [
        "Enter an integer : 23\n"
       ]
      },
      {
       "output_type": "stream",
       "stream": "stdout",
       "text": [
        "Congratulations, you guessed it.\n",
        "The while loop is over.\n",
        "Done\n"
       ]
      }
     ],
     "prompt_number": 32
    },
    {
     "cell_type": "markdown",
     "metadata": {},
     "source": [
      "In this program, we are still playing the guessing game, but the advantage is that the user is allowed to keep guessing until he guesses correctly - there is no need to repeatedly run the program for each guess, as we have done in the previous section. This aptly demonstrates the use of the while statement.\n",
      "\n",
      "We move the raw_input and if statements to inside the while loop and set the variable running to True before the while loop. First, we check if the variable running is True and then proceed to execute the corresponding while-block. After this block is executed, the condition is again checked which in this case is the running variable. If it is true, we execute the while-block again, else we continue to execute the optional else-block and then continue to the next statement.\n",
      "\n",
      "The else block is executed when the while loop condition becomes False - this may even be the first time that the condition is checked. If there is an else clause for a while loop, it is always executed unless you break out of the loop with a break statement.\n",
      "\n",
      "The True and False are called Boolean types and you can consider them to be equivalent to the value 1 and 0 respectively.\n",
      "\n",
      "**7.3. The <code>for</code> Loop**\n",
      "* <code>for...in</code> is another looping statement which iterates over a sequence of objects i.e. goes through each item in an ordered collection of items"
     ]
    },
    {
     "cell_type": "code",
     "collapsed": false,
     "input": [
      "# save as for.py\n",
      "\n",
      "for i in range(1,5):\n",
      "    print i\n",
      "else:\n",
      "    print 'The for loop is over'"
     ],
     "language": "python",
     "metadata": {},
     "outputs": [
      {
       "output_type": "stream",
       "stream": "stdout",
       "text": [
        "1\n",
        "2\n",
        "3\n",
        "4\n",
        "The for loop is over\n"
       ]
      }
     ],
     "prompt_number": 33
    },
    {
     "cell_type": "markdown",
     "metadata": {},
     "source": [
      "In this program, we are printing a sequence of numbers. We generate this sequence of numbers using the built-in range function.\n",
      "\n",
      "What we do here is supply it two numbers and range returns a sequence of numbers starting from the first number and up to the second number. For example, range(1,5) gives the sequence [1, 2, 3, 4]. By default, range takes a step count of 1. If we supply a third number to range, then that becomes the step count. For example, range(1,5,2) gives [1,3]. Remember that the range extends up to the second number i.e. it does not include the second number.\n",
      "\n",
      "Note that range() generates a sequence of numbers, but it will generate only one number at a time, when the for loop requests for the next item. If you want to see the full sequence of numbers immediately, use list(range()). Lists are explained in the data structures chapter.\n",
      "\n",
      "The for loop then iterates over this range - for i in range(1,5) is equivalent to for i in [1, 2, 3, 4] which is like assigning each number (or object) in the sequence to i, one at a time, and then executing the block of statements for each value of i. In this case, we just print the value in the block of statements.\n",
      "\n",
      "Remember that the else part is optional. When included, it is always executed once after the for loop is over unless a break statement is encountered.\n",
      "\n",
      "Remember that the for..in loop works for any sequence. Here, we have a list of numbers generated by the built-in range function, but in general we can use any kind of sequence of any kind of objects! We will explore this idea in detail in later chapters.\n",
      "\n",
      "NOTE\n",
      "Note for C/C++/Java/C# Programmers\n",
      "The Python for loop is radically different from the C/C++ for loop. C# programmers will note that the for loop in Python is similar to the foreach loop in C#. Java programmers will note that the same is similar to for (int i : IntArray) in Java 1.5.\n",
      "\n",
      "In C/C++, if you want to write for (int i = 0; i < 5; i++), then in Python you write just for i in range(0,5). As you can see, the for loop is simpler, more expressive and less error prone in Python.\n",
      "\n",
      "**The <code>break</code> Statement**\n",
      "* <code>break</code> statement is used to break out of loop of statement i.e. stop execution\n",
      "* Note that breaking out of a <code>for</code> or <code>while</code> loop stops executing any correspond <code>else</code> blocks"
     ]
    },
    {
     "cell_type": "code",
     "collapsed": false,
     "input": [
      "# save as break.py\n",
      "\n",
      "while True:\n",
      "    s = raw_input('Enter something : ')\n",
      "    if s == 'quit':\n",
      "        break\n",
      "    print 'Length of the string is', len(s)\n",
      "print 'Done'"
     ],
     "language": "python",
     "metadata": {},
     "outputs": [
      {
       "name": "stdout",
       "output_type": "stream",
       "stream": "stdout",
       "text": [
        "Enter something : 4\n"
       ]
      },
      {
       "output_type": "stream",
       "stream": "stdout",
       "text": [
        "Length of the string is 1\n"
       ]
      },
      {
       "name": "stdout",
       "output_type": "stream",
       "stream": "stdout",
       "text": [
        "Enter something : halloooooo\n"
       ]
      },
      {
       "output_type": "stream",
       "stream": "stdout",
       "text": [
        "Length of the string is 10\n"
       ]
      },
      {
       "name": "stdout",
       "output_type": "stream",
       "stream": "stdout",
       "text": [
        "Enter something : quit\n"
       ]
      },
      {
       "output_type": "stream",
       "stream": "stdout",
       "text": [
        "Done\n"
       ]
      }
     ],
     "prompt_number": 34
    },
    {
     "cell_type": "markdown",
     "metadata": {},
     "source": [
      "In this program, we repeatedly take the user\u2019s input and print the length of each input each time. We are providing a special condition to stop the program by checking if the user input is 'quit'. We stop the program by breaking out of the loop and reach the end of the program.\n",
      "\n",
      "The length of the input string can be found out using the built-in len function.\n",
      "\n",
      "Remember that the break statement can be used with the for loop as well.\n",
      "\n",
      "**9.5. The <code>continue</code> statement**\n",
      "* <code>continue</code> statement tells Python to skip rest of statements in current loop block and **continue** to next iteration of the loop"
     ]
    },
    {
     "cell_type": "code",
     "collapsed": false,
     "input": [
      "# save as continue.py\n",
      "\n",
      "while True:\n",
      "    s = raw_input('Enter something : ')\n",
      "    if s == 'quit':\n",
      "        break\n",
      "    if len(s) < 3:\n",
      "        print 'Too small'\n",
      "        continue\n",
      "    print 'Input is of sufficient length'\n",
      "    # Do other kinds of processing here..."
     ],
     "language": "python",
     "metadata": {},
     "outputs": [
      {
       "name": "stdout",
       "output_type": "stream",
       "stream": "stdout",
       "text": [
        "Enter something : i4u5o\n"
       ]
      },
      {
       "output_type": "stream",
       "stream": "stdout",
       "text": [
        "Input is of sufficient length\n"
       ]
      },
      {
       "name": "stdout",
       "output_type": "stream",
       "stream": "stdout",
       "text": [
        "Enter something : 2\n"
       ]
      },
      {
       "output_type": "stream",
       "stream": "stdout",
       "text": [
        "Too small\n"
       ]
      },
      {
       "name": "stdout",
       "output_type": "stream",
       "stream": "stdout",
       "text": [
        "Enter something : quit\n"
       ]
      }
     ],
     "prompt_number": 35
    },
    {
     "cell_type": "markdown",
     "metadata": {},
     "source": [
      "In this program, we accept input from the user, but we process the input string only if it is at least 3 characters long. So, we use the built-in len function to get the length and if the length is less than 3, we skip the rest of the statements in the block by using the continue statement. Otherwise, the rest of the statements in the loop are executed, doing any kind of processing we want to do here.\n",
      "\n",
      "Note that the continue statement works with the for loop as well.\n",
      "\n"
     ]
    },
    {
     "cell_type": "heading",
     "level": 3,
     "metadata": {},
     "source": [
      "10. Functions"
     ]
    },
    {
     "cell_type": "markdown",
     "metadata": {},
     "source": [
      "* **Functions** are reusable parts of program with identifier names\n",
      "* **Calling** the function refers to running a block of statements by typing out its name\n",
      "* There are many built-in functions such as <code>len</code> and <code>range</code>\n",
      "* How create a function: First line: <code>def</code> keyword, followed by an identifier name for the function, followed by parentheses which may enclose variable names, followed by : (colon). Following lines: block of statements in the function."
     ]
    },
    {
     "cell_type": "code",
     "collapsed": false,
     "input": [
      "# save as function1.py\n",
      "\n",
      "def say_hello():\n",
      "    # block belonging to the function\n",
      "    print 'hello world'\n",
      "# End of function\n",
      "\n",
      "say_hello() # call the function\n",
      "say_hello() # call the function again"
     ],
     "language": "python",
     "metadata": {},
     "outputs": [
      {
       "output_type": "stream",
       "stream": "stdout",
       "text": [
        "hello world\n",
        "hello world\n"
       ]
      }
     ],
     "prompt_number": 36
    },
    {
     "cell_type": "markdown",
     "metadata": {},
     "source": [
      "We define a function called say_hello using the syntax as explained above. This function takes no parameters and hence there are no variables declared in the parentheses. Parameters to functions are just input to the function so that we can pass in different values to it and get back corresponding results.\n",
      "\n",
      "* Note that we can call same function twice without rewriting code\n",
      "\n",
      "**10.1. Function Parameters**\n",
      "\n",
      "* Parameters are values you can feed to functions\n",
      "* Similar to variables, except parameters are defined when we call the function and are already assigned values when the function runs\n",
      "* **Parameters** are the names specified within the parentheses in teh function definition, separated by commas\n",
      "* **Arguments** are the values you supply in the function\n"
     ]
    },
    {
     "cell_type": "code",
     "collapsed": false,
     "input": [
      "# save as function_param.py\n",
      "\n",
      "def print_max(a, b):\n",
      "    if a > b:\n",
      "        print a, 'is maximum'\n",
      "    elif a == b:\n",
      "        print a, 'is equal to', b\n",
      "    else:\n",
      "        print b, 'is maximum'\n",
      "\n",
      "# directly pass literal values\n",
      "print_max(3, 4)\n",
      "\n",
      "x = 5\n",
      "y = 7\n",
      "\n",
      "# pass variables as arguments\n",
      "print_max(x, y)"
     ],
     "language": "python",
     "metadata": {},
     "outputs": [
      {
       "output_type": "stream",
       "stream": "stdout",
       "text": [
        "4 is maximum\n",
        "7 is maximum\n"
       ]
      }
     ],
     "prompt_number": 37
    },
    {
     "cell_type": "markdown",
     "metadata": {},
     "source": [
      "Here, we define a function called print_max that uses two parameters called a and b. We find out the greater number using a simple if..else statement and then print the bigger number.\n",
      "\n",
      "The first time we call the function print_max, we directly supply the numbers as arguments. In the second case, we call the function with variables as arguments. print_max(x, y) causes the value of argument x to be assigned to parameter a and the value of argument y to be assigned to parameter b. The printMax function works the same way in both cases.\n",
      "\n",
      "**10.2. Local Variables**\n",
      "* **Local variables** declared inside a function definition are not related to other variables with the same name used outside the function\n",
      "* **Scope** of the variable refers to the scope of the block they are declared in starting from the point of definition\n"
     ]
    },
    {
     "cell_type": "code",
     "collapsed": false,
     "input": [
      "# save as function_local.py\n",
      "\n",
      "x = 50\n",
      "\n",
      "def func(x):\n",
      "    print 'x is', x\n",
      "    x = 2\n",
      "    print 'Changed local x to', x\n",
      "\n",
      "func(x)\n",
      "print 'x is still', x"
     ],
     "language": "python",
     "metadata": {},
     "outputs": [
      {
       "output_type": "stream",
       "stream": "stdout",
       "text": [
        "x is 50\n",
        "Changed local x to 2\n",
        "x is still 50\n"
       ]
      }
     ],
     "prompt_number": 38
    },
    {
     "cell_type": "markdown",
     "metadata": {},
     "source": [
      "The first time that we print the value of the name x with the first line in the function\u2019s body, Python uses the value of the parameter declared in the main block, above the function definition.\n",
      "\n",
      "Next, we assign the value 2 to x. The name x is local to our function. So, when we change the value of x in the function, the x defined in the main block remains unaffected.\n",
      "\n",
      "With the last print statement, we display the value of x as defined in the main block, thereby confirming that it is actually unaffected by the local assignment within the previously called function.\n",
      "\n",
      "**10.3. The <code>global</code> Statement**\n",
      "* **Global variables** are values assigned to a name defined at the top level of the program (i.e. not inside any kind of scope such as functions or classes)\n",
      "* <code>global</code> statement makes it clear the variable is defined in an outermost block, even if it is re-defined in a function\n",
      "* Global variables can be used inside the function assuming there is no variable with the same name within the function (this should be avoided because it becomes unclear where the variable's definition is)\n"
     ]
    },
    {
     "cell_type": "code",
     "collapsed": false,
     "input": [
      "# save as function_global.py\n",
      "\n",
      "x = 50\n",
      "\n",
      "def func():\n",
      "    global x\n",
      "\n",
      "    print 'x is', x\n",
      "    x = 2\n",
      "    print 'Changed global x to', x\n",
      "\n",
      "func()\n",
      "print 'Value of x is', x"
     ],
     "language": "python",
     "metadata": {},
     "outputs": [
      {
       "output_type": "stream",
       "stream": "stdout",
       "text": [
        "x is 50\n",
        "Changed global x to 2\n",
        "Value of x is 2\n"
       ]
      }
     ],
     "prompt_number": 39
    },
    {
     "cell_type": "markdown",
     "metadata": {},
     "source": [
      "The global statement is used to declare that x is a global variable - hence, when we assign a value to x inside the function, that change is reflected when we use the value of x in the main block.\n",
      "\n",
      "You can specify more than one global variable using the same global statement e.g. global x, y, z.\n",
      "\n",
      "**10.4. Default Argument Values**\n",
      "* **Default argument values** are used when you want optional parameters in case the user doesn't want to provide values\n",
      "* Default argument values are specified by adding to the parameter name in the function definition the assignment operator (<code>=</code>) followed by the default value \n",
      "* Note the value should be a constant and immutable"
     ]
    },
    {
     "cell_type": "code",
     "collapsed": false,
     "input": [
      "# save as function_default.py\n",
      "\n",
      "def say(message, times=1):\n",
      "    print message * times\n",
      "\n",
      "say('Hello')\n",
      "say('World', 5)"
     ],
     "language": "python",
     "metadata": {},
     "outputs": [
      {
       "output_type": "stream",
       "stream": "stdout",
       "text": [
        "Hello\n",
        "WorldWorldWorldWorldWorld\n"
       ]
      }
     ],
     "prompt_number": 40
    },
    {
     "cell_type": "markdown",
     "metadata": {},
     "source": [
      "The function named say is used to print a string as many times as specified. If we don\u2019t supply a value, then by default, the string is printed just once. We achieve this by specifying a default argument value of 1 to the parameter times.\n",
      "\n",
      "In the first usage of say, we supply only the string and it prints the string once. In the second usage of say, we supply both the string and an argument 5 stating that we want to say the string message 5 times.\n",
      "\n",
      "CAUTION\n",
      "Only those parameters which are at the end of the parameter list can be given default argument values i.e. you cannot have a parameter with a default argument value preceding a parameter without a default argument value in the function\u2019s parameter list.\n",
      "\n",
      "This is because the values are assigned to the parameters by position. For example,def func(a, b=5) is valid, but def func(a=5, b) is not valid.\n",
      "\n",
      "**10.5. Keyword Arguments**\n",
      "* **Keyword arguments** are when you use the name (keyword) instead of the position to specify the arguments to the function (in cases when functions have many parameters and you want to specify only some of them)\n",
      "* Two advantages: using function is easier since you don't have to worry about order of arguments, you can give value to only those parameters we want, while others have default argument values\n"
     ]
    },
    {
     "cell_type": "code",
     "collapsed": false,
     "input": [
      "# save as function_keyword.py\n",
      "\n",
      "def func(a, b=5, c=10):\n",
      "    print 'a is', a, 'and b is', b, 'and c is', c\n",
      "\n",
      "func(3, 7)\n",
      "func(25, c=24)\n",
      "func(c=50, a=100)"
     ],
     "language": "python",
     "metadata": {},
     "outputs": [
      {
       "output_type": "stream",
       "stream": "stdout",
       "text": [
        "a is 3 and b is 7 and c is 10\n",
        "a is 25 and b is 5 and c is 24\n",
        "a is 100 and b is 5 and c is 50\n"
       ]
      }
     ],
     "prompt_number": 41
    },
    {
     "cell_type": "markdown",
     "metadata": {},
     "source": [
      "The function named func has one parameter without a default argument value, followed by two parameters with default argument values.\n",
      "\n",
      "In the first usage, func(3, 7), the parameter a gets the value 3, the parameter b gets the value 7 and c gets the default value of 10.\n",
      "\n",
      "In the second usage func(25, c=24), the variable a gets the value of 25 due to the position of the argument. Then, the parameter c gets the value of 24 due to naming i.e. keyword arguments. The variable b gets the default value of 5.\n",
      "\n",
      "In the third usage func(c=50, a=100), we use keyword arguments for all specified values. Notice that we are specifying the value for parameter c before that for a even though a is defined before c in the function definition.\n",
      "\n",
      "**10.6. VarArgs Parameters**\n",
      "* **Variable number of arguments** refers to function that can take any number of parameters by using double asterisks \\*\\*"
     ]
    },
    {
     "cell_type": "code",
     "collapsed": false,
     "input": [
      "# save as function_varargs.py\n",
      "\n",
      "def total(initial=5, *numbers, **keywords):\n",
      "    count = initial\n",
      "    for number in numbers:\n",
      "        count += number\n",
      "    for key in keywords:\n",
      "        count += keywords[key]\n",
      "    return count\n",
      "\n",
      "print total(10, 1, 2, 3, vegetables=50, fruits=100)"
     ],
     "language": "python",
     "metadata": {},
     "outputs": [
      {
       "output_type": "stream",
       "stream": "stdout",
       "text": [
        "166\n"
       ]
      }
     ],
     "prompt_number": 42
    },
    {
     "cell_type": "markdown",
     "metadata": {},
     "source": [
      "**10.7. The <code>return</code> statement**\n",
      "* <code>return</code> statement is used to **return** from a function i.e. break out of the function\n",
      "* Optionally can **return a value** from the function"
     ]
    },
    {
     "cell_type": "code",
     "collapsed": false,
     "input": [
      "# save as function_docstring.py\n",
      "\n",
      "def maximum(x, y):\n",
      "    if x > y:\n",
      "        return x\n",
      "    elif x == y:\n",
      "        return 'The numbers are equal'\n",
      "    else:\n",
      "        return y\n",
      "\n",
      "print maximum(2, 3)"
     ],
     "language": "python",
     "metadata": {},
     "outputs": [
      {
       "output_type": "stream",
       "stream": "stdout",
       "text": [
        "3\n"
       ]
      }
     ],
     "prompt_number": 45
    },
    {
     "cell_type": "markdown",
     "metadata": {},
     "source": [
      "The maximum function returns the maximum of the parameters, in this case the numbers supplied to the function. It uses a simple if..else statement to find the greater value and then returns that value.\n",
      "\n",
      "Note that a return statement without a value is equivalent to return None. None is a special type in Python that represents nothingness. For example, it is used to indicate that a variable has no value if it has a value of None.\n",
      "\n",
      "Every function implicitly contains a return None statement at the end unless you have written your own return statement. You can see this by running print some_function() where the function some_function does not use the return statement such as:\n",
      "\n",
      "def some_function():\n",
      "    pass\n",
      "The pass statement is used in Python to indicate an empty block of statements.\n",
      "\n",
      "TIP\n",
      "There is a built-in function called max that already implements the find maximum functionality, so use this built-in function whenever possible.\n",
      "\n",
      "**10.8. DocStrings**\n",
      "\n",
      "* **Documentation strings** a.k.a. **docstrings** helps document the program better and makes it easier to understand\n",
      "* You can get docstring back from a function when program is actually running"
     ]
    },
    {
     "cell_type": "code",
     "collapsed": false,
     "input": [
      "# save as function_docstring.py\n",
      "\n",
      "def print_max(x, y):\n",
      "    '''Prints the maximum of two numbers.\n",
      "\n",
      "    The two values must be integers.'''\n",
      "    # convert to integers, if possible\n",
      "    x = int(x)\n",
      "    y = int(y)\n",
      "\n",
      "    if x > y:\n",
      "        print x, 'is maximum'\n",
      "    else:\n",
      "        print y, 'is maximum'\n",
      "\n",
      "print_max(3, 5)\n",
      "print print_max.__doc__"
     ],
     "language": "python",
     "metadata": {},
     "outputs": [
      {
       "output_type": "stream",
       "stream": "stdout",
       "text": [
        "5 is maximum\n",
        "Prints the maximum of two numbers.\n",
        "\n",
        "    The two values must be integers.\n"
       ]
      }
     ],
     "prompt_number": 46
    },
    {
     "cell_type": "markdown",
     "metadata": {},
     "source": [
      "A string on the first logical line of a function is the docstring for that function. Note that DocStrings also apply to modules and classes which we will learn about in the respective chapters.\n",
      "\n",
      "The convention followed for a docstring is a multi-line string where the first line starts with a capital letter and ends with a dot. Then the second line is blank followed by any detailed explanation starting from the third line. You are strongly advised to follow this convention for all your docstrings for all your non-trivial functions.\n",
      "\n",
      "We can access the docstring of the print_max function using the __doc__ (notice the double underscores) attribute (name belonging to) of the function. Just remember that Python treats everything as an object and this includes functions. We\u2019ll learn more about objects in the chapter on classes.\n",
      "\n",
      "If you have used help() in Python, then you have already seen the usage of docstrings! What it does is just fetch the __doc__ attribute of that function and displays it in a neat manner for you. You can try it out on the function above - just include help(print_max) in your program. Remember to press the q key to exit help.\n",
      "\n",
      "Automated tools can retrieve the documentation from your program in this manner. Therefore, I strongly recommend that you use docstrings for any non-trivial function that you write. The pydoc command that comes with your Python distribution works similarly to help() using docstrings."
     ]
    },
    {
     "cell_type": "heading",
     "level": 3,
     "metadata": {},
     "source": [
      "11. Modules"
     ]
    },
    {
     "cell_type": "markdown",
     "metadata": {},
     "source": [
      "* **Modules** are reusable programs\n",
      "* Simplest method to write your own module is to create file with .py extension that contains functions and variables\n",
      "* Another method is to write module in native language Python interpreter is written, the C programming language, which can be used from Python when it is compiled\n",
      "* Modules are **imported** to make use of its functions in other programs, standard library has many such modules"
     ]
    },
    {
     "cell_type": "code",
     "collapsed": false,
     "input": [
      "%load \"module_using_sys.py\""
     ],
     "language": "python",
     "metadata": {},
     "outputs": [],
     "prompt_number": 62
    },
    {
     "cell_type": "code",
     "collapsed": false,
     "input": [
      "# save as module_using_sys.py\n",
      "\n",
      "import sys\n",
      "\n",
      "print('The command line arguments are:')\n",
      "for i in sys.argv:\n",
      "    print i\n",
      "    \n",
      "print '\\n\\nThe PYTHONPATH is', sys.path, '\\n'"
     ],
     "language": "python",
     "metadata": {},
     "outputs": []
    },
    {
     "cell_type": "code",
     "collapsed": false,
     "input": [
      "%run \"module_using_sys.py\""
     ],
     "language": "python",
     "metadata": {},
     "outputs": [
      {
       "output_type": "stream",
       "stream": "stdout",
       "text": [
        "The command line arguments are:\n",
        "module_using_sys.py\n",
        "\n",
        "\n",
        "The PYTHONPATH is ['/Users/blanks/Dropbox/Coding/Python', '', '/Users/blanks/anaconda/python.app/Contents/lib/python27.zip', '/Users/blanks/anaconda/python.app/Contents/lib/python2.7', '/Users/blanks/anaconda/python.app/Contents/lib/python2.7/plat-darwin', '/Users/blanks/anaconda/python.app/Contents/lib/python2.7/plat-mac', '/Users/blanks/anaconda/python.app/Contents/lib/python2.7/plat-mac/lib-scriptpackages', '/Users/blanks/anaconda/python.app/Contents/lib/python2.7/lib-tk', '/Users/blanks/anaconda/python.app/Contents/lib/python2.7/lib-old', '/Users/blanks/anaconda/python.app/Contents/lib/python2.7/lib-dynload', '/Users/blanks/anaconda/lib/python2.7/site-packages', '/Users/blanks/anaconda/lib/python2.7/site-packages/PIL', '/Users/blanks/anaconda/lib/python2.7/site-packages/setuptools-2.2-py2.7.egg', '/Users/blanks/anaconda/lib/python2.7/site-packages/IPython/extensions'] \n",
        "\n"
       ]
      }
     ],
     "prompt_number": 60
    },
    {
     "cell_type": "markdown",
     "metadata": {},
     "source": [
      "* <code>import sys</code> statement **imports** the built-in <code>sys</code> module using the <code>import</code> statement, as the module contains functionality related to Python interpreter and environment i.e. the **sys**tem\n",
      "\n",
      "When Python executes the import sys statement, it looks for the sys module. In this case, it is one of the built-in modules, and hence Python knows where to find it.\n",
      "\n",
      "If it was not a compiled module i.e. a module written in Python, then the Python interpreter will search for it in the directories listed in its sys.path variable. If the module is found, then the statements in the body of that module are run and the module is made available for you to use. **Note that the initialization is done only the first time that we import a module.**\n",
      "\n",
      "The argv variable in the sys module is accessed using the dotted notation i.e. sys.argv. It clearly indicates that this name is part of the sys module. Another advantage of this approach is that the name does not clash with any argv variable used in your program.\n",
      "\n",
      "The sys.argv variable is a list of strings (lists are explained in detail in a later chapter. Specifically, the sys.argv contains the list of command line arguments i.e. the arguments passed to your program using the command line.\n",
      "\n",
      "If you are using an IDE to write and run these programs, look for a way to specify command line arguments to the program in the menus.\n",
      "\n",
      "Here, when we execute python module_using_sys.py we are arguments, we run the module module_using_sys.py with the python command and the other things that follow are arguments passed to the program. Python stores the command line arguments in the sys.argv variable for us to use.\n",
      "\n",
      "Remember, the name of the script running is always the first argument in the sys.argv list. So, in this case we will have 'using_sys.py' as sys.argv[0], 'we' as sys.argv[1], 'are' as sys.argv[2] and 'arguments' as sys.argv[3]. Notice that Python starts counting from 0 and not 1.\n",
      "\n",
      "The sys.path contains the list of directory names where modules are imported from. Observe that the first string in sys.path is empty - this empty string indicates that the current directory is also part of the sys.path which is same as the PYTHONPATH environment variable. This means that you can directly import modules located in the current directory. Otherwise, you will have to place your module in one of the directories listed in sys.path.\n",
      "\n",
      "Note that the current directory is the directory from which the program is launched. Run import os; print os.getcwd() to find out the current directory of your program.\n",
      "\n",
      "**11.1 Byte-compiled .pyc files**\n",
      "* **Byte-compiled files** with the .pyc extension is an intermediate form that Python transforms the program into \n",
      "* .pyc files are platform-independent, less costly i.e. faster way to import a module since a portion of the processing required is done\n",
      "* .pyc files usually are created in same directory as corresponding .py files\n",
      "\n",
      "**11.2 The from ... import ... statement**\n",
      "* <code>from sys import argv</code> statement directly imports variable into your program so you don't have to prefix the variable with <code>sys</code>\n",
      "* Generally avoid this in favor of <code>import</code> statement to avoid name clashes"
     ]
    },
    {
     "cell_type": "code",
     "collapsed": false,
     "input": [
      "from math import sqrt\n",
      "print \"Square root of 16 is\", sqrt(16)"
     ],
     "language": "python",
     "metadata": {},
     "outputs": [
      {
       "output_type": "stream",
       "stream": "stdout",
       "text": [
        "Square root of 16 is 4.0\n"
       ]
      }
     ],
     "prompt_number": 63
    },
    {
     "cell_type": "markdown",
     "metadata": {},
     "source": [
      "**11.3 A module's <code>\\_\\_name\\_\\_</code>**\n",
      "* Every module has a name and statements in a module can find out the name of their module. This is handy for the particular purpose of figuring out whether the module is being run standalone or being imported. As mentioned previously, when a module is imported for the first time, the code it contains gets executed. We can use this to make the module behave in different ways depending on whether it is being used by itself or being imported from another module. This can be achieved using the __name__ attribute of the module."
     ]
    },
    {
     "cell_type": "code",
     "collapsed": false,
     "input": [
      "%load \"module_using_name.py\""
     ],
     "language": "python",
     "metadata": {},
     "outputs": [],
     "prompt_number": 83
    },
    {
     "cell_type": "code",
     "collapsed": false,
     "input": [
      "# save as module_using_name.py\n",
      "\n",
      "if __name__ == '__main__':\n",
      "    print 'This program is being run by itself'\n",
      "else:\n",
      "    print 'I am being imported from another module'"
     ],
     "language": "python",
     "metadata": {},
     "outputs": []
    },
    {
     "cell_type": "code",
     "collapsed": false,
     "input": [
      "%run \"module_using_name.py\""
     ],
     "language": "python",
     "metadata": {},
     "outputs": [
      {
       "output_type": "stream",
       "stream": "stdout",
       "text": [
        "This program is being run by itself\n"
       ]
      }
     ],
     "prompt_number": 73
    },
    {
     "cell_type": "markdown",
     "metadata": {},
     "source": [
      "However, running it in Terminal has a different result:\n",
      "<pre><code>$ python\n",
      ">>> import module_using_name\n",
      "I am being imported from another module\n",
      ">>></code></pre>\n",
      "\n",
      "* Every Python module has its <code>__name__</code> defined. If this is <code>'__main__'</code>, that implies that the module is being run standalone by the user and we can take appropriate actions.\n",
      "\n",
      "**11.4. Making Your Own Modules**\n",
      "* Every Python program with a .py extension is also a module"
     ]
    },
    {
     "cell_type": "code",
     "collapsed": false,
     "input": [
      "%load \"mymodule.py\""
     ],
     "language": "python",
     "metadata": {},
     "outputs": [],
     "prompt_number": 84
    },
    {
     "cell_type": "code",
     "collapsed": false,
     "input": [
      "# save as mymodule.py\n",
      "\n",
      "def say_hi():\n",
      "    print 'Hi, this is mymodule speaking.'\n",
      "\n",
      "__version__ = '0.1'"
     ],
     "language": "python",
     "metadata": {},
     "outputs": []
    },
    {
     "cell_type": "code",
     "collapsed": false,
     "input": [
      "%load \"mymodule_demo.py\""
     ],
     "language": "python",
     "metadata": {},
     "outputs": [],
     "prompt_number": 86
    },
    {
     "cell_type": "code",
     "collapsed": false,
     "input": [
      "# save as mymodule_demo.py\n",
      "\n",
      "import mymodule\n",
      "\n",
      "mymodule.say_hi()\n",
      "print 'Version', mymodule.__version__"
     ],
     "language": "python",
     "metadata": {},
     "outputs": []
    },
    {
     "cell_type": "code",
     "collapsed": false,
     "input": [
      "%run \"mymodule_demo.py\""
     ],
     "language": "python",
     "metadata": {},
     "outputs": [
      {
       "output_type": "stream",
       "stream": "stdout",
       "text": [
        "Hi, this is mymodule speaking.\n",
        "Version 0.1\n"
       ]
      }
     ],
     "prompt_number": 87
    },
    {
     "cell_type": "code",
     "collapsed": false,
     "input": [
      "%load \"mymodule_demo2.py\""
     ],
     "language": "python",
     "metadata": {},
     "outputs": [],
     "prompt_number": 88
    },
    {
     "cell_type": "code",
     "collapsed": false,
     "input": [
      "# save as mymodule_demo2.py\n",
      "\n",
      "from mymodule import say_hi, __version__\n",
      "\n",
      "say_hi()\n",
      "print 'Version', __version__"
     ],
     "language": "python",
     "metadata": {},
     "outputs": []
    },
    {
     "cell_type": "code",
     "collapsed": false,
     "input": [
      "%run mymodule_demo2.py"
     ],
     "language": "python",
     "metadata": {},
     "outputs": [
      {
       "output_type": "stream",
       "stream": "stdout",
       "text": [
        "Hi, this is mymodule speaking.\n",
        "Version 0.1\n"
       ]
      }
     ],
     "prompt_number": 89
    },
    {
     "cell_type": "markdown",
     "metadata": {},
     "source": [
      "* Notice that we use the same dotted notation to access members of the module. Python makes good reuse of the same notation to give the distinctive Pythonic feel to it so that we don\u2019t have to keep learning new ways to do things.\n",
      "* Second version utilizes the from...import syntax \n",
      "* The output of mymodule_demo2.py is same as the output of mymodule_demo.py.\n",
      "* Notice that if there was already a __version__ name declared in the module that imports mymodule, there would be a clash. This is also likely because it is common practice for each module to declare it\u2019s version number using this name. Hence, it is always recommended to prefer the import statement even though it might make your program a little longer.\n",
      "* You could also use: <code>from mymodule import *</code>\n",
      "* This will import all public names such as sayhi but would not import __version__ because it starts with double underscores.\n",
      "* WARNING Remember that you should avoid using import-star, i.e. from mymodule import \\*.\n",
      "* **Zen of Python: One of Python\u2019s guiding principles is that \"Explicit is better than Implicit\". Run import this in Python to learn more and see this StackOverflow discussion which lists examples for each of the principles.**\n",
      "\n",
      "**11.5 The <code>dir</code> function**\n",
      "* Built-in <code>dir()</code> functions allow you to list the identifiers than an object defines, e.g. in a module identifiers include functions, classes and variables\n"
     ]
    },
    {
     "cell_type": "markdown",
     "metadata": {},
     "source": [
      "<pre><code>$ python\n",
      "\\>\\>\\> import sys\n",
      "\n",
      "\\# get names of attributes in sys module\n",
      "\\>\\>\\> dir(sys)\n",
      "['\\_\\_displayhook\\_\\_', '\\_\\_doc\\_\\_', 'argv', 'builtin_module_names', 'version', 'version_info']\n",
      "\\# only few entries shown here\n",
      "\n",
      "\\# get names of attributes for current module\n",
      "\\>\\>\\> dir()\n",
      "['\\_\\_builtins\\_\\_', '\\_\\_doc\\_\\_', '\\_\\_name\\_\\_', '\\_\\_package\\_\\_']\n",
      "\n",
      "\\# create a new variable 'a'\n",
      "\\>\\>\\> a = 5\n",
      "\n",
      "\\>\\>\\> dir()\n",
      "['\\_\\_builtins\\_\\_', '\\_\\_doc\\_\\_', '\\_\\_name\\_\\_', '\\_\\_package\\_\\_', 'a']\n",
      "\n",
      "\\# delete/remove a name\n",
      "\\>\\>\\> del a\n",
      "\n",
      "\\>\\>\\> dir()\n",
      "['\\_\\_builtins\\_\\_', '\\_\\_doc\\_\\_', '\\_\\_name\\_\\_', '\\_\\_package\\_\\_']<pre></code>"
     ]
    },
    {
     "cell_type": "markdown",
     "metadata": {},
     "source": [
      "First, we see the usage of dir on the imported sys module. We can see the huge list of attributes that it contains.\n",
      "\n",
      "Next, we use the dir function without passing parameters to it. By default, it returns the list of attributes for the current module. Notice that the list of imported modules is also part of this list.\n",
      "\n",
      "In order to observe the dir in action, we define a new variable a and assign it a value and then check dir and we observe that there is an additional value in the list of the same name. We remove the variable/attribute of the current module using the del statement and the change is reflected again in the output of the dir function.\n",
      "\n",
      "A note on del - this statement is used to delete a variable/name and after the statement has run, in this case del a, you can no longer access the variable a - it is as if it never existed before at all.\n",
      "\n",
      "Note that the dir() function works on any object. For example, run dir('print') to learn about the attributes of the print function, or dir(str) for the attributes of the str class.\n",
      "\n",
      "There is also a vars() function which can potentially give you the attributes and their values, but it will not work for all cases.\n",
      "\n",
      "**11.6 Packages**\n",
      "* Hierarchy of organizing programs: variables go inside functions, functions and global variables go inside modules, modules go inside packages\n",
      "* **Packages** are folders to organize modules containing \\_\\_init\\_\\_.py file to indicate that folder contains modules\n",
      "* Example of folder structure in <code>sys.path</code> if you had package *world* with subpackages *asia, africa,* etc. with modules *china, egypt,* etc.\n",
      "    - world/\n",
      "        - \\_\\_init\\_\\_.py\n",
      "        - asia/\n",
      "            - \\_\\_init\\_\\_.py\n",
      "            - china/\n",
      "                - \\_\\_init\\_\\_.py\n",
      "                - beijing.py\n",
      "        - africa/\n",
      "            - \\_\\_init\\_\\_.py\n",
      "            - egypt/\n",
      "                - \\_\\_init\\_\\_.py\n",
      "                - cairo.py\n",
      "* In other words, functions are reusable parts of programs, modules are reusable programs, packages organize modules\n",
      "* Standard library that comes with Python is an example of packages and modules"
     ]
    },
    {
     "cell_type": "heading",
     "level": 3,
     "metadata": {},
     "source": [
      "12. Data Structures"
     ]
    },
    {
     "cell_type": "markdown",
     "metadata": {},
     "source": [
      "* Data structures are **structures** that store a collection of related **data**\n",
      "* Four built-in data structures in Python: *list, tuple, dictionary, set*\n",
      "\n",
      "**12.1. List**\n",
      "* **List** is a data structure that holds an ordered **sequence** of items in a list\n",
      "* List is defined by specifying items separated by commas and enclosed in square brackets \n",
      "* List is a **mutable** data type, as items can be added, removed and searched\n",
      "\n",
      "**12.2. Quick Introduction to Objects and Classes**\n",
      "* E.g. <code>i = 5</code> is like creating an **object** (i.e. instance) <code>i</code> of **class** (i.e. type) <code>int.</code>\n",
      "* Each object has a class and each class has **methods** i.e. functions defined for use wrt that class\n",
      "* <code>Append</code> method for <code>list</code> class adds an item to end of list\n",
      "* Accessing methods of objects and classes uses dotted notation, e.g. <code>mylist.append('an item')</code> adds item to list\n",
      "* Each class has **fields** i.e. variables defined for use wrt that class only\n",
      "* You can use these variables/names only when you have an object of that class \n",
      "* Fields are also accessed by dotted notation, e.g. <code>mylist.field</code>"
     ]
    },
    {
     "cell_type": "code",
     "collapsed": false,
     "input": [
      "# Save as ds_using_list.py\n",
      "\n",
      "# This is my shopping list\n",
      "shoplist = ['apple', 'mango', 'carrot', 'banana']\n",
      "\n",
      "print 'I have', len(shoplist), 'items to purchase.'\n",
      "\n",
      "print 'These items are:',\n",
      "for item in shoplist:\n",
      "    print item,\n",
      "\n",
      "print '\\nI also have to buy rice.'\n",
      "shoplist.append('rice')\n",
      "print 'My shopping list is now', shoplist\n",
      "\n",
      "print 'I will sort my list now'\n",
      "shoplist.sort()\n",
      "print 'Sorted shopping list is', shoplist\n",
      "\n",
      "print 'The first item I will buy is', shoplist[0]\n",
      "olditem = shoplist[0]\n",
      "del shoplist[0]\n",
      "print 'I bought the', olditem\n",
      "print 'My shopping list is now', shoplist"
     ],
     "language": "python",
     "metadata": {},
     "outputs": [
      {
       "output_type": "stream",
       "stream": "stdout",
       "text": [
        "I have 4 items to purchase.\n",
        "These items are: apple mango carrot banana \n",
        "I also have to buy rice.\n",
        "My shopping list is now ['apple', 'mango', 'carrot', 'banana', 'rice']\n",
        "I will sort my list now\n",
        "Sorted shopping list is ['apple', 'banana', 'carrot', 'mango', 'rice']\n",
        "The first item I will buy is apple\n",
        "I bought the apple\n",
        "My shopping list is now ['banana', 'carrot', 'mango', 'rice']\n"
       ]
      }
     ],
     "prompt_number": 8
    },
    {
     "cell_type": "markdown",
     "metadata": {},
     "source": [
      "The variable shoplist is a shopping list for someone who is going to the market. In shoplist, we only store strings of the names of the items to buy but you can add any kind of object to a list including numbers and even other lists.\n",
      "\n",
      "We have also used the for..in loop to iterate through the items of the list. By now, you must have realised that a list is also a sequence. The speciality of sequences will be discussed in a later section.\n",
      "\n",
      "Notice the use of the trailing comma in the print statement to indicate that we want to end the output with a space instead of the usual line break. Think of the comma as telling Python that we have more items to print on the same line.\n",
      "\n",
      "Next, we add an item to the list using the append method of the list object, as already discussed before. Then, we check that the item has been indeed added to the list by printing the contents of the list by simply passing the list to the print statement which prints it neatly.\n",
      "\n",
      "Then, we sort the list by using the sort method of the list. It is important to understand that this method affects the list itself and does not return a modified list - this is different from the way strings work. This is what we mean by saying that lists are mutable and that strings are immutable.\n",
      "\n",
      "Next, when we finish buying an item in the market, we want to remove it from the list. We achieve this by using the del statement. Here, we mention which item of the list we want to remove and the del statement removes it from the list for us. We specify that we want to remove the first item from the list and hence we use del shoplist[0] (remember that Python starts counting from 0).\n",
      "\n",
      "If you want to know all the methods defined by the list object, see help(list) for details.\n",
      "\n",
      "**12.3. Tuple**\n",
      "* **Tuples** hold together multiple objects, but lack the extensive functionality of list class\n",
      "* Tuples are defined by specifying items separated by commas within an OPTIONAL pair of parentheses\n",
      "* Tuples are **immutable** like strings and are used when statement or user-defined function can safely assume that the tuple of values will not change"
     ]
    },
    {
     "cell_type": "code",
     "collapsed": false,
     "input": [
      "# save as ds_using_tuple.py\n",
      "\n",
      "# I would recommend always using parentheses\n",
      "# to indicate start and end of tuple\n",
      "# even though parentheses are optional.\n",
      "# Explicit is better than implicit.\n",
      "zoo = ('python', 'elephant', 'penguin')\n",
      "print 'Number of animals in the zoo is', len(zoo) # length\n",
      "\n",
      "new_zoo = 'monkey', 'camel', zoo\n",
      "print 'Number of cages in the new zoo is', len(new_zoo)\n",
      "print 'All animals in new zoo are', new_zoo\n",
      "print 'Animals brought from old zoo are', new_zoo[2]\n",
      "print 'Last animal brought from old zoo is', new_zoo[2][2]\n",
      "print 'Number of animals in the new zoo is', \\\n",
      "    len(new_zoo)-1+len(new_zoo[2])"
     ],
     "language": "python",
     "metadata": {},
     "outputs": [
      {
       "output_type": "stream",
       "stream": "stdout",
       "text": [
        "Number of animals in the zoo is 3\n",
        "Number of cages in the new zoo is 3\n",
        "All animals in new zoo are ('monkey', 'camel', ('python', 'elephant', 'penguin'))\n",
        "Animals brought from old zoo are ('python', 'elephant', 'penguin')\n",
        "Last animal brought from old zoo is penguin\n",
        "Number of animals in the new zoo is 5\n"
       ]
      }
     ],
     "prompt_number": 9
    },
    {
     "cell_type": "markdown",
     "metadata": {},
     "source": [
      "The variable zoo refers to a tuple of items. We see that the len function can be used to get the length of the tuple. This also indicates that a tuple is a sequence as well.\n",
      "\n",
      "We are now shifting these animals to a new zoo since the old zoo is being closed. Therefore, the new_zoo tuple contains some animals which are already there along with the animals brought over from the old zoo. Back to reality, note that a tuple within a tuple does not lose its identity.\n",
      "\n",
      "We can access the items in the tuple by specifying the item\u2019s position within a pair of square brackets just like we did for lists. This is called the indexing operator. We access the third item in new_zoo by specifying new_zoo[2] and we access the third item within the third item in the new_zoo tuple by specifying new_zoo[2][2]. This is pretty simple once you\u2019ve understood the idiom.\n",
      "\n",
      "NOTE\n",
      "Tuple with 0 or 1 items\n",
      "An empty tuple is constructed by an empty pair of parentheses such as myempty = (). However, a tuple with a single item is not so simple. You have to specify it using a comma following the first (and only) item so that Python can differentiate between a tuple and a pair of parentheses surrounding the object in an expression i.e. you have to specify singleton = (2 , ) if you mean you want a tuple containing the item 2.\n",
      "NOTE\n",
      "Note for Perl programmers\n",
      "A list within a list does not lose its identity i.e. lists are not flattened as in Perl. The same applies to a tuple within a tuple, or a tuple within a list, or a list within a tuple, etc. As far as Python is concerned, they are just objects stored using another object, that\u2019s all.\n",
      "\n",
      "**12.4. Dictionary**\n",
      "* **Dictionary** is like an address-book i.e. we associate **keys** (name) with **values** (details)\n",
      "* Keys must be immutable simple objects like strings, values can be immutable or mutable\n",
      "* Dictionary defines specified key-value pairs with the notation <code>d = {key1 : value1, key2 : value2 }</code> in which the key and value are separated by a colon and pairs are separated by commas and all is enclosed by curly brackets\n",
      "* Dictionary key-value pairs are not ordered and need to be sorted before use\n",
      "* Dictionaries are instances/objects of the <code>dict</code> class"
     ]
    },
    {
     "cell_type": "code",
     "collapsed": false,
     "input": [
      "# save as ds_using_dict.py\n",
      "\n",
      "# 'ab' is short for 'a'ddress'b'ook\n",
      "\n",
      "ab = {  'Swaroop'   : 'swaroop@swaroopch.com',\n",
      "        'Larry'     : 'larry@wall.org',\n",
      "        'Matsumoto' : 'matz@ruby-lang.org',\n",
      "        'Spammer'   : 'spammer@hotmail.com'\n",
      "    }\n",
      "\n",
      "print \"Swaroop's address is\", ab['Swaroop']\n",
      "\n",
      "# Deleting a key-value pair\n",
      "del ab['Spammer']\n",
      "\n",
      "print '\\nThere are {} contacts in the address-book\\n'.format(len(ab))\n",
      "\n",
      "for name, address in ab.items():\n",
      "    print 'Contact {} at {}'.format(name, address)\n",
      "\n",
      "# Adding a key-value pair\n",
      "ab['Guido'] = 'guido@python.org'\n",
      "\n",
      "if 'Guido' in ab:\n",
      "    print \"\\nGuido's address is\", ab['Guido']"
     ],
     "language": "python",
     "metadata": {},
     "outputs": [
      {
       "output_type": "stream",
       "stream": "stdout",
       "text": [
        "Swaroop's address is swaroop@swaroopch.com\n",
        "\n",
        "There are 3 contacts in the address-book\n",
        "\n",
        "Contact Swaroop at swaroop@swaroopch.com\n",
        "Contact Matsumoto at matz@ruby-lang.org\n",
        "Contact Larry at larry@wall.org\n",
        "\n",
        "Guido's address is guido@python.org\n"
       ]
      }
     ],
     "prompt_number": 10
    },
    {
     "cell_type": "markdown",
     "metadata": {},
     "source": [
      "We create the dictionary ab using the notation already discussed. We then access key-value pairs by specifying the key using the indexing operator as discussed in the context of lists and tuples. Observe the simple syntax.\n",
      "\n",
      "We can delete key-value pairs using our old friend - the del statement. We simply specify the dictionary and the indexing operator for the key to be removed and pass it to the del statement. There is no need to know the value corresponding to the key for this operation.\n",
      "\n",
      "Next, we access each key-value pair of the dictionary using the items method of the dictionary which returns a list of tuples where each tuple contains a pair of items - the key followed by the value. We retrieve this pair and assign it to the variables name and address correspondingly for each pair using the for..in loop and then print these values in the for-block.\n",
      "\n",
      "We can add new key-value pairs by simply using the indexing operator to access a key and assign that value, as we have done for Guido in the above case.\n",
      "\n",
      "We can check if a key-value pair exists using the in operator.\n",
      "\n",
      "For the list of methods of the dict class, see help(dict).\n",
      "\n",
      "Keyword Arguments and Dictionaries\n",
      "If you have used keyword arguments in your functions, you have already used dictionaries! Just think about it - the key-value pair is specified by you in the parameter list of the function definition and when you access variables within your function, it is just a key access of a dictionary (which is called the symbol table in compiler design terminology).\n",
      "\n",
      "**12.5. Sequence**\n",
      "* List, tuples and strings are examples of sequences\n",
      "* **Sequences** major features: **membership tests** (i.e. the <code>in</code> and <code>not in</code> expressions), **indexing operations** (allows us to fetch a particular item in the sequence directly), **slicing** operation (allows us to retrieve a slice or part of the sequence)"
     ]
    },
    {
     "cell_type": "code",
     "collapsed": false,
     "input": [
      "# Save as ds_seq.py:\n",
      "\n",
      "shoplist = ['apple', 'mango', 'carrot', 'banana']\n",
      "name = 'swaroop'\n",
      "\n",
      "# Indexing or 'Subscription' operation #\n",
      "print 'Item 0 is', shoplist[0]\n",
      "print 'Item 1 is', shoplist[1]\n",
      "print 'Item 2 is', shoplist[2]\n",
      "print 'Item 3 is', shoplist[3]\n",
      "print 'Item -1 is', shoplist[-1]\n",
      "print 'Item -2 is', shoplist[-2]\n",
      "print 'Character 0 is', name[0]\n",
      "\n",
      "# Slicing on a list #\n",
      "# Note start position is included BUT end position is excluded from slice\n",
      "print 'Item 1 to 3 is', shoplist[1:3] # returns a slice of two items\n",
      "print 'Item 2 to end is', shoplist[2:] # returns third item to last item\n",
      "print 'Item 1 to -1 is', shoplist[1:-1] # excludes first AND last item\n",
      "print 'Item start to end is', shoplist[:] # returns copy of whole sequence\n",
      "\n",
      "# Slicing on a string #\n",
      "print 'characters 1 to 3 is', name[1:3]\n",
      "print 'characters 2 to end is', name[2:]\n",
      "print 'characters 1 to -1 is', name[1:-1]\n",
      "print 'characters start to end is', name[:]\n",
      "\n",
      "# Step argument for slicing (by default step size is 1)\n",
      "print shoplist[::1] # returns positions 0, 1, 2, 3\n",
      "print shoplist[::2] # returns positions 0, 2\n",
      "print shoplist[::3] # returns positions 0, 3 \n",
      "print shoplist[::-1] # returns positions -1, 2, 1, 0\n"
     ],
     "language": "python",
     "metadata": {},
     "outputs": [
      {
       "output_type": "stream",
       "stream": "stdout",
       "text": [
        "Item 0 is apple\n",
        "Item 1 is mango\n",
        "Item 2 is carrot\n",
        "Item 3 is banana\n",
        "Item -1 is banana\n",
        "Item -2 is carrot\n",
        "Character 0 is s\n",
        "Item 1 to 3 is ['mango', 'carrot']\n",
        "Item 2 to end is ['carrot', 'banana']\n",
        "Item 1 to -1 is ['mango', 'carrot']\n",
        "Item start to end is ['apple', 'mango', 'carrot', 'banana']\n",
        "characters 1 to 3 is wa\n",
        "characters 2 to end is aroop\n",
        "characters 1 to -1 is waroo\n",
        "characters start to end is swaroop\n",
        "['apple', 'mango', 'carrot', 'banana']\n",
        "['apple', 'carrot']\n",
        "['apple', 'banana']\n",
        "['banana', 'carrot', 'mango', 'apple']\n"
       ]
      }
     ],
     "prompt_number": 13
    },
    {
     "cell_type": "markdown",
     "metadata": {},
     "source": [
      "First, we see how to use indexes to get individual items of a sequence. This is also referred to as the subscription operation. Whenever you specify a number to a sequence within square brackets as shown above, Python will fetch you the item corresponding to that position in the sequence. Remember that Python starts counting numbers from 0. Hence, shoplist[0] fetches the first item and shoplist[3] fetches the fourth item in the `shoplist`sequence.\n",
      "\n",
      "The index can also be a negative number, in which case, the position is calculated from the end of the sequence. Therefore, shoplist[-1] refers to the last item in the sequence and shoplist[-2] fetches the second last item in the sequence.\n",
      "\n",
      "The slicing operation is used by specifying the name of the sequence followed by an optional pair of numbers separated by a colon within square brackets. Note that this is very similar to the indexing operation you have been using till now. Remember the numbers are optional but the colon isn\u2019t.\n",
      "\n",
      "The first number (before the colon) in the slicing operation refers to the position from where the slice starts and the second number (after the colon) indicates where the slice will stop at. If the first number is not specified, Python will start at the beginning of the sequence. If the second number is left out, Python will stop at the end of the sequence. Note that the slice returned starts at the start position and will end just before the end position i.e. the start position is included but the end position is excluded from the sequence slice.\n",
      "\n",
      "Thus, shoplist[1:3] returns a slice of the sequence starting at position 1, includes position 2 but stops at position 3 and therefore a slice of two items is returned. Similarly, shoplist[:] returns a copy of the whole sequence.\n",
      "\n",
      "You can also do slicing with negative positions. Negative numbers are used for positions from the end of the sequence. For example, shoplist[:-1] will return a slice of the sequence which excludes the last item of the sequence but contains everything else.\n",
      "\n",
      "Notice that when the step is 2, we get the items with position 0, 2,\u2026 When the step size is 3, we get the items with position 0, 3, etc.\n",
      "\n",
      "Try various combinations of such slice specifications using the Python interpreter interactively i.e. the prompt so that you can see the results immediately. The great thing about sequences is that you can access tuples, lists and strings all in the same way!\n",
      "\n",
      "**12.6. Set**\n",
      "* **Sets** are unordered collections of simple objects\n",
      "* Used when existence of object in collection is more important than the order or how many times it occurs\n",
      "* Can use sets to test for memberships, subset of another set, intersection between two sets, etc."
     ]
    },
    {
     "cell_type": "code",
     "collapsed": false,
     "input": [
      "bri = set (['brazil', 'russia', 'india'])\n",
      "print 'india' in bri # test for membership\n",
      "print 'usa' in bri # test for membership\n",
      "bric = bri.copy() # copies bri to bric using copy method\n",
      "bric.add('china') # adds china to bric using add method\n",
      "print bric.issuperset(bri) # reports whether this set contains another set\n",
      "bri.remove('russia') # removes russia from bri using remove method\n",
      "print bri & bric # OR bri.intersection(bric)"
     ],
     "language": "python",
     "metadata": {},
     "outputs": [
      {
       "output_type": "stream",
       "stream": "stdout",
       "text": [
        "True\n",
        "False\n",
        "True\n",
        "set(['brazil', 'india'])\n"
       ]
      }
     ],
     "prompt_number": 19
    },
    {
     "cell_type": "markdown",
     "metadata": {},
     "source": [
      "**12.7. References**\n",
      "* Variable **binds** the name to the object and refers to object's location in computer memory; doesn't represent object itself\n",
      "* Subtle effect due to references"
     ]
    },
    {
     "cell_type": "code",
     "collapsed": false,
     "input": [
      "# save as ds_reference.py\n",
      "\n",
      "print 'Simple Assignment'\n",
      "shoplist = ['apple', 'mango', 'carrot', 'banana']\n",
      "# mylist is just another name pointing to the same object!\n",
      "mylist = shoplist\n",
      "\n",
      "# I purchased the first item, so I remove it from the list\n",
      "del shoplist[0]\n",
      "\n",
      "print 'shoplist is', shoplist\n",
      "print 'mylist is', mylist\n",
      "# Notice that both shoplist and mylist both print\n",
      "# the same list without the 'apple' confirming that\n",
      "# they point to the same object\n",
      "\n",
      "print 'Copy by making a full slice'\n",
      "# Make a copy by doing a full slice\n",
      "mylist = shoplist[:]\n",
      "# Remove first item\n",
      "del mylist[0]\n",
      "\n",
      "print 'shoplist is', shoplist\n",
      "print 'mylist is', mylist\n",
      "# Notice that now the two lists are different"
     ],
     "language": "python",
     "metadata": {},
     "outputs": [
      {
       "output_type": "stream",
       "stream": "stdout",
       "text": [
        "Simple Assignment\n",
        "shoplist is ['mango', 'carrot', 'banana']\n",
        "mylist is ['mango', 'carrot', 'banana']\n",
        "Copy by making a full slice\n",
        "shoplist is ['mango', 'carrot', 'banana']\n",
        "mylist is ['carrot', 'banana']\n"
       ]
      }
     ],
     "prompt_number": 20
    },
    {
     "cell_type": "markdown",
     "metadata": {},
     "source": [
      "* Have to use slicing operation to make a copy of a list or such kinds of sequences or complex objects (not simple objects such as integers)\n",
      "* Assignment statement of the variable to another name does not create copy,  as both of them will 'refer' to the same object and this could be trouble \n",
      "\n",
      "**12.8. More About Strings**\n",
      "* Strings are objects of the class <code>str</code> and have methods that are listed in <code>help(str)</code>"
     ]
    },
    {
     "cell_type": "code",
     "collapsed": false,
     "input": [
      "# save as ds_str_methods.py\n",
      "\n",
      "# This is a string object\n",
      "name = 'Swaroop'\n",
      "\n",
      "if name.startswith('Swa'):\n",
      "    print 'Yes, the string starts with \"Swa\"'\n",
      "\n",
      "if 'a' in name:\n",
      "    print 'Yes, it contains the string \"a\"'\n",
      "\n",
      "if name.find('war') != -1:\n",
      "    print 'Yes, it contains the string \"war\"'\n",
      "\n",
      "delimiter = '_*_'\n",
      "mylist = ['brazil', 'russia', 'india', 'china']\n",
      "# try .capitalize .upper .len\n",
      "print delimiter.join(mylist)"
     ],
     "language": "python",
     "metadata": {},
     "outputs": [
      {
       "output_type": "stream",
       "stream": "stdout",
       "text": [
        "Yes, the string starts with \"Swa\"\n",
        "Yes, it contains the string \"a\"\n",
        "Yes, it contains the string \"war\"\n",
        "brazil_*_russia_*_india_*_china\n"
       ]
      }
     ],
     "prompt_number": 28
    },
    {
     "cell_type": "markdown",
     "metadata": {},
     "source": [
      "* <code>.startswith()</code> tests whether string starts with given string\n",
      "* <code>'string' in variable</code>testswhether given string is part of the string\n",
      "* <code>.find()</code> locates position of given substring within the string; returns -1 if unsuccessful\n",
      "* <code>.join()</code> joins items of sequence ith the string acting as a deimitr betwen each item of the sequence and returnsa bigger string generated from this\n",
      "* <code>.len()</code> returns length (number of items) of an object (string, tuple, list, dictionary)\n",
      "* <code>.capitalize()</code> returns capitalized copy of string\n",
      "* <code>.upper()</code> returns uppercase copy of string\n",
      "* <code>.format()</code> returns formatted string, using substituions from args and kwargs"
     ]
    },
    {
     "cell_type": "heading",
     "level": 1,
     "metadata": {},
     "source": [
      "13. Problem Solving"
     ]
    },
    {
     "cell_type": "markdown",
     "metadata": {},
     "source": [
      "**13.1. The Problem**\n",
      "* Problem: I want a program which creates a backup of my most important files\n",
      "* **Analyze** the problem, **design** the program and make list of program features\n",
      "    - The files and directories to be backed up are specified in a list.\n",
      "    - The backup must be stored in a main backup directory.\n",
      "    - The files are backed up into a zip file.\n",
      "    - The name of the zip archive is the current date and time.\n",
      "    - We use the standard zip command available by default in any standard GNU/Linux or Unix distribution. \n",
      "\n",
      "**13.2. The Solution**\n",
      "* **Implementation** of the solution phase: converting **design** into **code** in step-by-step manner"
     ]
    },
    {
     "cell_type": "code",
     "collapsed": false,
     "input": [
      "# save as backup_ver1.py\n",
      "\n",
      "import os\n",
      "import time\n",
      "\n",
      "# 1. The files and directories to be backed up are\n",
      "# specified in a list.\n",
      "# Example on Windows:\n",
      "# source = ['\"C:\\\\My Documents\"', 'C:\\\\Code']\n",
      "# Example on Mac OS X and Linux:\n",
      "source = ['/Users/blanks/Dropbox/Coding/Python']\n",
      "# Notice we had to use double quotes inside the string\n",
      "# for names with spaces in it!\n",
      "\n",
      "# 2. The backup must be stored in a\n",
      "# main backup directory\n",
      "# Example on Windows:\n",
      "# target_dir = 'E:\\\\Backup'\n",
      "# Example on Mac OS X and Linux:\n",
      "target_dir = '/Users/blanks/backup'\n",
      "# Remember to change this to which folder you will be using\n",
      "\n",
      "# 3. The files are backed up into a zip file.\n",
      "# 4. The name of the zip archive is the current date and time\n",
      "target = target_dir + os.sep + \\\n",
      "         time.strftime('%Y%m%d%H%M%S') + '.zip'\n",
      "\n",
      "# Create target directory if it is not present\n",
      "if not os.path.exists(target_dir):\n",
      "    os.mkdir(target_dir) # make directory\n",
      "\n",
      "# 5. We use the zip command to put the files in a zip archive\n",
      "zip_command = \"zip -r {0} {1}\".format(target,\n",
      "                                      ' '.join(source))\n",
      "\n",
      "# Run the backup\n",
      "print \"Zip command is:\"\n",
      "print zip_command\n",
      "print \"Running:\"\n",
      "if os.system(zip_command) == 0:\n",
      "    print 'Successful backup to', target\n",
      "else:\n",
      "    print 'Backup FAILED'"
     ],
     "language": "python",
     "metadata": {},
     "outputs": [
      {
       "output_type": "stream",
       "stream": "stdout",
       "text": [
        "Zip command is:\n",
        "zip -r /Users/blanks/backup/20140416100035.zip /Users/blanks/Dropbox/Coding/Python\n",
        "Running:\n",
        "Successful backup to"
       ]
      },
      {
       "output_type": "stream",
       "stream": "stdout",
       "text": [
        " /Users/blanks/backup/20140416100035.zip\n"
       ]
      }
     ],
     "prompt_number": 32
    },
    {
     "cell_type": "markdown",
     "metadata": {},
     "source": [
      "* **Testing** phase is when we test program; if it doesn't behave as expect, we have to **debug** it i.e. remove the **bugs** (errors)"
     ]
    },
    {
     "cell_type": "markdown",
     "metadata": {},
     "source": [
      "* Import <code>os</code> and <code>time</code> modules\n",
      "* <code>source</code> list is where we specify the files and directories to be backed up\n",
      "* <code>target_dir</code> variable specifies target directory is where we store all the backup files\n",
      "* <code>time.strftime()</code> function generates name of zip archive (current date and time + . zip extension stored in <code>target_dir</code> directory\n",
      "* <code>os.sep</code> variable gives the directory separator according to your operating system i.e. it will be '/' in GNU/Linux and Unix, it will be '\\\\' in Windows and ':' in Mac OS. Using os.sep instead of these characters directly will make our program portable and work across all of these systems.\n",
      "* <code>time.strftime()</code> function takes specifications, %Y takes year, %m takes month and returns number from 01-12, etc. (complete list in <a href=\"http://docs.python.org/2/library/time.html#time.strftime\">Python Reference Manual</a>)\n",
      "* Addition operator concatenates the strings to create target zip file\n",
      "* <code>zip_command</code> string contains <We create the name of the target zip file using the addition operator which concatenates the strings i.e. it joins the two strings together and returns a new one. Then, we create a string zip_command which contains the command that we are going to execute. You can check if this command works by running it in the shell (GNU/Linux terminal or DOS prompt).\n",
      "\n",
      "The zip command that we are using has some options and parameters passed. The -r option specifies that the zip command should work recursively for directories i.e. it should include all the subdirectories and files. The two options are combined and specified in a shortcut as -qr. The options are followed by the name of the zip archive to create followed by the list of files and directories to backup. We convert the source list into a string using the join method of strings which we have already seen how to use.\n",
      "\n",
      "Then, we finally run the command using the os.system function which runs the command as if it was run from the system i.e. in the shell - it returns 0 if the command was successfully, else it returns an error number.\n",
      "\n",
      "* Print message that the backup has failed or succeeded depending on outcome\n",
      "\n",
      "NOTE\n",
      "Note to Windows Users\n",
      "Instead of double backslash escape sequences, you can also use raw strings. For example, use 'C:\\\\Documents' or r'C:\\Documents'. However, do not use 'C:\\Documents' since you end up using an unknown escape sequence \\D.\n",
      "Now that we have a working backup script, we can use it whenever we want to take a backup of the files. This is called the operation phase or the deployment phase of the software.\n",
      "\n",
      "The above program works properly, but (usually) first programs do not work exactly as you expect. For example, there might be problems if you have not designed the program properly or if you have made a mistake when typing the code, etc. Appropriately, you will have to go back to the design phase or you will have to debug your program.\n",
      "\n",
      "**13.3 Second Version**\n",
      "* **Maintenance** phase of software: make refinements so it works better on daily basis\n",
      "* E.g. better file-naming system like using date to name directory within main backup and using time as file within directory so a) backups are stored in hierachical manner b) filenames are shorter c) separate directories help you check  for backup of each day"
     ]
    },
    {
     "cell_type": "code",
     "collapsed": false,
     "input": [
      "# save as backup_ver2.py\n",
      "\n",
      "import os\n",
      "import time\n",
      "\n",
      "# 1. The files and directories to be backed up are\n",
      "# specified in a list.\n",
      "# Example on Windows:\n",
      "# source = ['\"C:\\\\My Documents\"', 'C:\\\\Code']\n",
      "# Example on Mac OS X and Linux:\n",
      "source = ['/Users/blanks/Dropbox/Coding/Python']\n",
      "# Notice we had to use double quotes inside the string\n",
      "# for names with spaces in it.\n",
      "\n",
      "# 2. The backup must be stored in a\n",
      "# main backup directory\n",
      "# Example on Windows:\n",
      "# target_dir = 'E:\\\\Backup'\n",
      "# Example on Mac OS X and Linux:\n",
      "target_dir = '/Users/blanks/backup'\n",
      "# Remember to change this to which folder you will be using\n",
      "\n",
      "# Create target directory if it is not present\n",
      "if not os.path.exists(target_dir):\n",
      "    os.mkdir(target_dir) # make directory\n",
      "\n",
      "# 3. The files are backed up into a zip file.\n",
      "# 4. The current day is the name of the subdirectory\n",
      "# in the main directory.\n",
      "today = target_dir + os.sep + time.strftime('%Y%m%d')\n",
      "# The current time is the name of the zip archive.\n",
      "now = time.strftime('%H%M%S')\n",
      "\n",
      "# The name of the zip file\n",
      "target = today + os.sep + now + '.zip'\n",
      "\n",
      "# Create the subdirectory if it isn't already there\n",
      "if not os.path.exists(today):\n",
      "    os.mkdir(today)\n",
      "    print 'Successfully created directory', today\n",
      "\n",
      "# 5. We use the zip command to put the files in a zip archive\n",
      "zip_command = \"zip -r {0} {1}\".format(target,\n",
      "                                      ' '.join(source))\n",
      "\n",
      "# Run the backup\n",
      "print \"Zip command is:\"\n",
      "print zip_command\n",
      "print \"Running:\"\n",
      "if os.system(zip_command) == 0:\n",
      "    print 'Successful backup to', target\n",
      "else:\n",
      "    print 'Backup FAILED'"
     ],
     "language": "python",
     "metadata": {},
     "outputs": [
      {
       "output_type": "stream",
       "stream": "stdout",
       "text": [
        "Successfully created directory /Users/blanks/backup/20140416\n",
        "Zip command is:\n",
        "zip -r /Users/blanks/backup/20140416/175848.zip /Users/blanks/Dropbox/Coding/Python\n",
        "Running:\n",
        "Successful backup to"
       ]
      },
      {
       "output_type": "stream",
       "stream": "stdout",
       "text": [
        " /Users/blanks/backup/20140416/175848.zip\n"
       ]
      }
     ],
     "prompt_number": 33
    },
    {
     "cell_type": "markdown",
     "metadata": {},
     "source": [
      "Most of the program remains the same. The changes are that we check if there is a directory with the current day as its name inside the main backup directory using the os.path.exists function. If it doesn\u2019t exist, we create it using the os.mkdir function.\n",
      "\n",
      "**13.4. Third Version**\n",
      "The second version works fine when I do many backups, but when there are lots of backups, I am finding it hard to differentiate what the backups were for! For example, I might have made some major changes to a program or presentation, then I want to associate what those changes are with the name of the zip archive. This can be easily achieved by attaching a user-supplied comment to the name of the zip archive."
     ]
    },
    {
     "cell_type": "code",
     "collapsed": false,
     "input": [
      "# WARNING: program does not work, but there's a lesson in here\n",
      "# save as backup_ver3.py\n",
      "\n",
      "import os\n",
      "import time\n",
      "\n",
      "# 1. The files and directories to be backed up are\n",
      "# specified in a list.\n",
      "# Example on Windows:\n",
      "# source = ['\"C:\\\\My Documents\"', 'C:\\\\Code']\n",
      "# Example on Mac OS X and Linux:\n",
      "source = ['/Users/blanks/Dropbox/Python']\n",
      "# Notice we had to use double quotes inside the string\n",
      "# for names with spaces in it.\n",
      "\n",
      "# 2. The backup must be stored in a\n",
      "# main backup directory\n",
      "# Example on Windows:\n",
      "# target_dir = 'E:\\\\Backup'\n",
      "# Example on Mac OS X and Linux:\n",
      "target_dir = '/Users/blanks/backup'\n",
      "# Remember to change this to which folder you will be using\n",
      "\n",
      "# Create target directory if it is not present\n",
      "if not os.path.exists(target_dir):\n",
      "    os.mkdir(target_dir) # make directory\n",
      "\n",
      "# 3. The files are backed up into a zip file.\n",
      "# 4. The current day is the name of the subdirectory\n",
      "# in the main directory.\n",
      "today = target_dir + os.sep + time.strftime('%Y%m%d')\n",
      "# The current time is the name of the zip archive.\n",
      "now = time.strftime('%H%M%S')\n",
      "\n",
      "# Take a comment from the user to\n",
      "# create the name of the zip file\n",
      "comment = raw_input('Enter a comment --> ')\n",
      "# Check if a comment was entered\n",
      "if len(comment) == 0:\n",
      "    target = today + os.sep + now + '.zip'\n",
      "else:\n",
      "    target = today + os.sep + now + '_' +\n",
      "        comment.replace(' ', '_') + '.zip'\n",
      "\n",
      "# Create the subdirectory if it isn't already there\n",
      "if not os.path.exists(today):\n",
      "    os.mkdir(today)\n",
      "    print 'Successfully created directory', today\n",
      "\n",
      "# 5. We use the zip command to put the files in a zip archive\n",
      "zip_command = \"zip -r {0} {1}\".format(target,\n",
      "                                      ' '.join(source))\n",
      "\n",
      "# Run the backup\n",
      "print \"Zip command is:\"\n",
      "print zip_command\n",
      "print \"Running:\"\n",
      "if os.system(zip_command) == 0:\n",
      "    print 'Successful backup to', target\n",
      "else:\n",
      "    print 'Backup FAILED'"
     ],
     "language": "python",
     "metadata": {},
     "outputs": [
      {
       "ename": "SyntaxError",
       "evalue": "invalid syntax (<ipython-input-37-d7d8eee003d2>, line 42)",
       "output_type": "pyerr",
       "traceback": [
        "\u001b[0;36m  File \u001b[0;32m\"<ipython-input-37-d7d8eee003d2>\"\u001b[0;36m, line \u001b[0;32m42\u001b[0m\n\u001b[0;31m    target = today + os.sep + now + '_' +\u001b[0m\n\u001b[0m                                         ^\u001b[0m\n\u001b[0;31mSyntaxError\u001b[0m\u001b[0;31m:\u001b[0m invalid syntax\n"
       ]
      }
     ],
     "prompt_number": 37
    },
    {
     "cell_type": "markdown",
     "metadata": {},
     "source": [
      "This program does not work! Python says there is a syntax error which means that the script does not satisfy the structure that Python expects to see. When we observe the error given by Python, it also tells us the place where it detected the error as well. So we start debugging our program from that line.\n",
      "\n",
      "On careful observation, we see that the single logical line has been split into two physical lines but we have not specified that these two physical lines belong together. Basically, Python has found the addition operator (+) without any operand in that logical line and hence it doesn\u2019t know how to continue. Remember that we can specify that the logical line continues in the next physical line by the use of a backslash at the end of the physical line. So, we make this correction to our program. This correction of the program when we find errors is called bug fixing.\n",
      "\n",
      "**13.5. Fourth Version**"
     ]
    },
    {
     "cell_type": "code",
     "collapsed": false,
     "input": [
      "# save as backup_ver4.py\n",
      "\n",
      "import os\n",
      "import time\n",
      "\n",
      "# 1. The files and directories to be backed up are\n",
      "# specified in a list.\n",
      "# Example on Windows:\n",
      "# source = ['\"C:\\\\My Documents\"', 'C:\\\\Code']\n",
      "# Example on Mac OS X and Linux:\n",
      "source = ['/Users/blanks/Dropbox/Python']\n",
      "# Notice we had to use double quotes inside the string\n",
      "# for names with spaces in it.\n",
      "\n",
      "# 2. The backup must be stored in a\n",
      "# main backup directory\n",
      "# Example on Windows:\n",
      "# target_dir = 'E:\\\\Backup'\n",
      "# Example on Mac OS X and Linux:\n",
      "target_dir = '/Users/blanks/backup'\n",
      "# Remember to change this to which folder you will be using\n",
      "\n",
      "# Create target directory if it is not present\n",
      "if not os.path.exists(target_dir):\n",
      "    os.mkdir(target_dir) # make directory\n",
      "\n",
      "# 3. The files are backed up into a zip file.\n",
      "# 4. The current day is the name of the subdirectory\n",
      "# in the main directory.\n",
      "today = target_dir + os.sep + time.strftime('%Y%m%d')\n",
      "# The current time is the name of the zip archive.\n",
      "now = time.strftime('%H%M%S')\n",
      "\n",
      "# Take a comment from the user to\n",
      "# create the name of the zip file\n",
      "comment = raw_input('Enter a comment --> ')\n",
      "# Check if a comment was entered\n",
      "if len(comment) == 0:\n",
      "    target = today + os.sep + now + '.zip'\n",
      "else:\n",
      "    target = today + os.sep + now + '_' + \\\n",
      "        comment.replace(' ', '_') + '.zip'\n",
      "\n",
      "# Create the subdirectory if it isn't already there\n",
      "if not os.path.exists(today):\n",
      "    os.mkdir(today)\n",
      "    print 'Successfully created directory', today\n",
      "\n",
      "# 5. We use the zip command to put the files in a zip archive\n",
      "zip_command = \"zip -r {0} {1}\".format(target,\n",
      "                                      ' '.join(source))\n",
      "\n",
      "# Run the backup\n",
      "print \"Zip command is:\"\n",
      "print zip_command\n",
      "print \"Running:\"\n",
      "if os.system(zip_command) == 0:\n",
      "    print 'Successful backup to', target\n",
      "else:\n",
      "    print 'Backup FAILED'"
     ],
     "language": "python",
     "metadata": {},
     "outputs": [
      {
       "name": "stdout",
       "output_type": "stream",
       "stream": "stdout",
       "text": [
        "Enter a comment --> so many attempts\n"
       ]
      },
      {
       "output_type": "stream",
       "stream": "stdout",
       "text": [
        "Zip command is:\n",
        "zip -r /Users/blanks/backup/20140416/180556_so_many_attempts.zip /Users/blanks/Dropbox/Python\n",
        "Running:\n",
        "Backup FAILED\n"
       ]
      }
     ],
     "prompt_number": 40
    },
    {
     "cell_type": "markdown",
     "metadata": {},
     "source": [
      "* Line 42 just needed a backslash\n",
      "\n",
      "This program now works! Let us go through the actual enhancements that we had made in version 3. We take in the user\u2019s comments using the input function and then check if the user actually entered something by finding out the length of the input using the len function. If the user has just pressed enter without entering anything (maybe it was just a routine backup or no special changes were made), then we proceed as we have done before.\n",
      "\n",
      "However, if a comment was supplied, then this is attached to the name of the zip archive just before the .zip extension. Notice that we are replacing spaces in the comment with underscores - this is because managing filenames without spaces is much easier.\n",
      "\n",
      "**13.6. More Refinements**\n",
      "\n",
      "The fourth version is a satisfactorily working script for most users, but there is always room for improvement. For example, you can include a verbosity level for the program where you can specify a -v option to make your program become more talkative or a -q to make it quiet.\n",
      "\n",
      "Another possible enhancement would be to allow extra files and directories to be passed to the script at the command line. We can get these names from the sys.argv list and we can add them to our source list using the extend`method provided by the `list class.\n",
      "\n",
      "The most important refinement would be to not use the os.system way of creating archives and instead using the zipfile or tarfile built-in modules to create these archives. They are part of the standard library and available already for you to use without external dependencies on the zip program to be available on your computer.\n",
      "\n",
      "However, I have been using the os.system way of creating a backup in the above examples purely for pedagogical purposes, so that the example is simple enough to be understood by everybody but real enough to be useful.\n",
      "\n",
      "Can you try writing the fifth version that uses the zipfile module instead of the os.system call?"
     ]
    },
    {
     "cell_type": "code",
     "collapsed": false,
     "input": [
      "# Can you try writing the fifth version that uses the zipfile module \n",
      "# instead of the os.system call? \n",
      "# save as backup_ver5.py\n",
      "\n",
      "import os\n",
      "import time\n",
      "\n",
      "# 1. The files and directories to be backed up are\n",
      "# specified in a list.\n",
      "# Example on Windows:\n",
      "# source = ['\"C:\\\\My Documents\"', 'C:\\\\Code']\n",
      "# Example on Mac OS X and Linux:\n",
      "source = ['/Users/blanks/Dropbox/Python']\n",
      "# Notice we had to use double quotes inside the string\n",
      "# for names with spaces in it.\n",
      "\n",
      "# 2. The backup must be stored in a\n",
      "# main backup directory\n",
      "# Example on Windows:\n",
      "# target_dir = 'E:\\\\Backup'\n",
      "# Example on Mac OS X and Linux:\n",
      "target_dir = '/Users/blanks/backup'\n",
      "# Remember to change this to which folder you will be using\n",
      "\n",
      "# Create target directory if it is not present\n",
      "if not os.path.exists(target_dir):\n",
      "    os.mkdir(target_dir) # make directory\n",
      "\n",
      "# 3. The files are backed up into a zip file.\n",
      "# 4. The current day is the name of the subdirectory\n",
      "# in the main directory.\n",
      "today = target_dir + os.sep + time.strftime('%Y%m%d')\n",
      "# The current time is the name of the zip archive.\n",
      "now = time.strftime('%H%M%S')\n",
      "\n",
      "# Take a comment from the user to\n",
      "# create the name of the zip file\n",
      "comment = raw_input('Enter a comment --> ')\n",
      "# Check if a comment was entered\n",
      "if len(comment) == 0:\n",
      "    target = today + os.sep + now + '.zip'\n",
      "else:\n",
      "    target = today + os.sep + now + '_' + \\\n",
      "        comment.replace(' ', '_') + '.zip'\n",
      "\n",
      "# Create the subdirectory if it isn't already there\n",
      "if not os.path.exists(today):\n",
      "    os.mkdir(today)\n",
      "    print 'Successfully created directory', today\n",
      "\n",
      "# 5. We use the zip command to put the files in a zip archive\n",
      "zip_command = \"zip -r {0} {1}\".format(target,\n",
      "                                      ' '.join(source))\n",
      "\n",
      "# Run the backup\n",
      "print \"Zip command is:\"\n",
      "print zip_command\n",
      "print \"Running:\"\n",
      "if os.system(zip_command) == 0:\n",
      "    print 'Successful backup to', target\n",
      "else:\n",
      "    print 'Backup FAILED'"
     ],
     "language": "python",
     "metadata": {},
     "outputs": []
    },
    {
     "cell_type": "markdown",
     "metadata": {},
     "source": [
      "**13.7. The Software Development Process**\n",
      "* Phases in the process of writing software:\n",
      "    1. What (Analysis)\n",
      "    2. How (Design)\n",
      "    3. Do It (Implementation)\n",
      "    4. Test (Testing and Debugging)\n",
      "    5. Use (Operation or Deployment)\n",
      "    6. Maintain (Refinement)\n",
      "* Remember: Software is grown, not built. \u2014 Bill de h\u00d3ra\n",
      "* **Practice creating program/script so you're comfortable with Python and problem-solving!**\n",
      "\n"
     ]
    },
    {
     "cell_type": "heading",
     "level": 3,
     "metadata": {},
     "source": [
      "14. Object Oriented Programming"
     ]
    },
    {
     "cell_type": "markdown",
     "metadata": {},
     "source": [
      "* **Procedural programming** are programs designed around functions i.e. blocks of statements which manipulate data\n",
      "* **Object oriented programming** combines data and functionality and wrap it inside something called an object, better suited for large programs\n",
      "* A **class** creates a new *type* where **objects** are **instances** of the class\n",
      "* e.g. variable of type <code>int</code> is sameas saying variables that store integers are variables which are instances (objects) of <code>int</code> class\n",
      "* Note that even integers are treated as objects (of the int class), not primitive native types in static language types\n",
      "* **Fields** refer to variables that belong to an object or class\n",
      "* Fields have two types: **instance variables** belong to each instance/object of the class, **class variables** belong to class itself\n",
      "* <code>class</code> keyword creates class, while fields and methods are listed in indented block\n",
      "\n",
      "**14.1. The <code>self</code>**\n",
      "* Class methods have extra variable/parameter <code>self</code> (can be ny name but recommended to use standard name) that has to be added to the beginning of the parameter list, and it refers to the object itself\n",
      "* Note for C++/Java/C# Programmers: \"self\" is equivaent to \"this\"\n",
      "* Python gives the value for self, you don\u2019t need to give a value for it\n",
      "* e.g. class called <code>MyClass</code> and an instance of this class called <code>myobject</code>, when you call method as <code>myobject.method(arg1, arg2)</code>, Python automatically converts this into <code>MyClass.method(myobject, arg1, arg2)</code>\n",
      "* If you have a method which takes no arguments, still have the self as argument\n",
      "**14.2. Classes**"
     ]
    },
    {
     "cell_type": "code",
     "collapsed": false,
     "input": [
      "# save as oop_simplestclass.py\n",
      "\n",
      "class Person:\n",
      "    pass # An empty block\n",
      "\n",
      "p = Person()\n",
      "print(p) # result verifies type of variable and address where object is stored"
     ],
     "language": "python",
     "metadata": {},
     "outputs": [
      {
       "output_type": "stream",
       "stream": "stdout",
       "text": [
        "<__main__.Person instance at 0x104938ef0>\n"
       ]
      }
     ],
     "prompt_number": 41
    },
    {
     "cell_type": "markdown",
     "metadata": {},
     "source": [
      "* Used <code>class<./code> statement and name to create new class, followed by an indented block of statements to form the body of the class, even if this is empty block with <code>pass</code> statement\n",
      "* Used name of class followed by parentheses to create an object/instance of the class\n",
      "* Used print statement to verify type of variable: an instance of the <code>Person</code> class in the <code>\\_\\_main\\_\\_</code> module.\n",
      "\n",
      "**14.3. Methods**\n",
      "* Classes/objects can have methods just like functions except that we have an extra <code>self</code> variable"
     ]
    },
    {
     "cell_type": "code",
     "collapsed": false,
     "input": [
      "# save as oop_method.py\n",
      "# here we see self in action\n",
      "\n",
      "class Person:\n",
      "    def say_hi(self): # method takes no parameter but still has self in fx def\n",
      "        print('Hello, how are you?')\n",
      "\n",
      "p = Person()\n",
      "p.say_hi() \n",
      "# The previous 2 lines can also be written as\n",
      "# Person().say_hi()"
     ],
     "language": "python",
     "metadata": {},
     "outputs": [
      {
       "output_type": "stream",
       "stream": "stdout",
       "text": [
        "Hello, how are you?\n"
       ]
      }
     ],
     "prompt_number": 42
    },
    {
     "cell_type": "markdown",
     "metadata": {},
     "source": [
      "**14.4. The <code>\\_\\_init\\_\\_</code> method**\n",
      "\n",
      "* <code>\\_\\_init\\_\\_</code> method is run as soon as an object of a class is instantiated\n",
      "* Useful to do any initialization you want to do with your object\n",
      "* Notice the double underscores both at start and end of name\n"
     ]
    },
    {
     "cell_type": "code",
     "collapsed": false,
     "input": [
      "# save as oop_init.py\n",
      "\n",
      "class Person:\n",
      "    def __init__(self, name): # define method as taking parameter name plus self\n",
      "        self.name = name\n",
      "# created new field also called name, notice two different variables called name\n",
      "# self.name means \"name\" is part of object \"self\", other name is local variable\n",
      "# explicit indication of name removes confusion\n",
      "# now we able to use self.name field in our methods like say_hi method\n",
      "    def say_hi(self):\n",
      "        print 'Hello, my name is', self.name\n",
      "\n",
      "p = Person('Swaroop')\n",
      "p.say_hi()\n",
      "# The previous 2 lines can also be written as\n",
      "# Person('Swaroop').say_hi()"
     ],
     "language": "python",
     "metadata": {},
     "outputs": [
      {
       "output_type": "stream",
       "stream": "stdout",
       "text": [
        "Hello, my name is Swaroop\n"
       ]
      }
     ],
     "prompt_number": 43
    },
    {
     "cell_type": "markdown",
     "metadata": {},
     "source": [
      "* Notice special significance of <code>\\_\\_init\\_\\_</code>, no explicit calling of method but instead pass the arguments in the parentheses following the class name when creating a new instance of the class\n",
      "\n",
      "**14.5. Class and Object Variables**\n",
      "* Besides methods, classes and objects have data parts i.e. fields\n",
      "* **Fields** are variables that are bound to the **namespaces** of the classes and objects, meaning these names are valid within the context of these classes and objects only\n",
      "* There are two types of **fields** depending on whether the class or the object owns the variables\n",
      "* **Class variables** are shared - they can be accessed by all instances of that class, there is only one copy so when one object makes a change to a class variable it will be reflected in all the other instance\n",
      "* **Object variables** are owned by each individual object/instance of the class, so each object has its own copy of the field i.e. they're not shared or related in any way to same name fields in different instances"
     ]
    },
    {
     "cell_type": "code",
     "collapsed": false,
     "input": [
      "# save as oop_objvar.py\n",
      "\n",
      "class Robot:\n",
      "    \"\"\"Represents a robot, with a name.\"\"\"\n",
      "\n",
      "    # Robot.population = class variable, counting the number of robots\n",
      "    # instead of Robot.population, can also use self.__class__.population because\n",
      "    # every object refers to its class via the self.__clas__ attribute\n",
      "    population = 0\n",
      "    \n",
      "    # use __init__ method to initialize Robot instance with a name\n",
      "    # __init__ method increases Robot.population count by 1\n",
      "    def __init__(self, name):\n",
      "        \"\"\"Initializes the data.\"\"\"\n",
      "        # self.name = object variable (as it is assigned using self)\n",
      "        # note that obj var with same name as class var will hide class var\n",
      "        # also note values of self.name is specific to each object\n",
      "        # this is the nature of object variables\n",
      "        # remember: refer to variables and methods of same object using self only\n",
      "        # this is called ATTRIBUTE REFERENCE\n",
      "        self.name = name\n",
      "        print \"(Initializing {})\".format(self.name)\n",
      "\n",
      "        # Wwen this person is created, the robot\n",
      "        # adds to the population\n",
      "        Robot.population += 1\n",
      "\n",
      "    # die method, decreases Robot.population count by 1\n",
      "    def die(self):\n",
      "        \"\"\"I am dying.\"\"\"\n",
      "        print \"{} is being destroyed!\".format(self.name)\n",
      "\n",
      "        Robot.population -= 1\n",
      "\n",
      "        if Robot.population == 0:\n",
      "            print \"{} was the last one.\".format(self.name)\n",
      "        else:\n",
      "            print \"There are still {:d} robots working.\".format(\n",
      "                Robot.population)\n",
      "\n",
      "    def say_hi(self):\n",
      "        \"\"\"Greeting by the robot.\n",
      "\n",
      "        Yeah, they can do that.\"\"\"\n",
      "        print \"Greetings, my masters call me {}.\".format(self.name)\n",
      "\n",
      "    # how_many = class method (not object)\n",
      "    # can be defined as either classmethod/staticmethod\n",
      "    # since we refer to a class variable, we'll use classmethod\n",
      "    # how_many method is marked by a decorator\n",
      "    # decorators are shortcuts to calling a wrapper function\n",
      "    # @classmethod is equal to how_many = classmethod(how_many)\n",
      "    @classmethod\n",
      "    def how_many(cls):\n",
      "        \"\"\"Prints the current population.\"\"\"\n",
      "        print \"We have {:d} robots.\".format(cls.population)\n",
      "\n",
      "\n",
      "droid1 = Robot(\"R2-D2\")\n",
      "droid1.say_hi()\n",
      "Robot.how_many()\n",
      "\n",
      "droid2 = Robot(\"C-3PO\")\n",
      "droid2.say_hi()\n",
      "Robot.how_many()\n",
      "\n",
      "print \"\\nRobots can do some work here.\\n\"\n",
      "\n",
      "print \"Robots have finished their work. So let's destroy them.\"\n",
      "droid1.die()\n",
      "droid2.die()\n",
      "\n",
      "Robot.how_many()"
     ],
     "language": "python",
     "metadata": {},
     "outputs": [
      {
       "output_type": "stream",
       "stream": "stdout",
       "text": [
        "(Initializing R2-D2)\n",
        "Greetings, my masters call me R2-D2.\n",
        "We have 1 robots.\n",
        "(Initializing C-3PO)\n",
        "Greetings, my masters call me C-3PO.\n",
        "We have 2 robots.\n",
        "\n",
        "Robots can do some work here.\n",
        "\n",
        "Robots have finished their work. So let's destroy them.\n",
        "R2-D2 is being destroyed!\n",
        "There are still 1 robots working.\n",
        "C-3PO is being destroyed!\n",
        "C-3PO was the last one.\n",
        "We have 0 robots.\n"
       ]
      }
     ],
     "prompt_number": 46
    },
    {
     "cell_type": "markdown",
     "metadata": {},
     "source": [
      "* <code>population</code> is a class variable while <code>name</code> is an object variable (as it's assigned using <code>self</code>) thus we refer to <code>Robot.population</code> and <code>self.name</code>\n",
      "* Note that object variable with same name as class variable will hide class variable\n",
      "* Instead of <code>Robot.population</code>, we could have also used <code>self.\\_\\_class\\_\\_.population</code> because every object refers to it\u2019s class via the <code>self.\\_\\_class\\_\\_ attribute</code>.\n",
      "* <code>how_many</code> is <code>classmethod</code> (can also be a <code>staticmethod</code> but refers to class variable so we use former reference)\n",
      "* <code>@classmethod</code> is a decorator, i.e. shortcut to calling a wrapper function\n",
      "* <code>\\_\\_init\\_\\_</code> method and <code>die</code> method change the robot population\n",
      "* **Attribute reference**: refer to variables and methods of same object using <code>self</code> only\n",
      "* Can use **docstrings** for classes as well as methods, so we can access the class docstring at runtime using <code>Robot.\\_\\_doc\\_\\_</code> and the method docstring as <code>Robot.say_hi.\\_\\_doc\\_\\_</code>\n",
      "* All class members (including data members) are public and all methods are virtual in Python (vs. C/Java)\n",
      "* Data members with names using the **double underscore prefix** such as <code>\\_\\_privatevar</code> make it a **private variable**\n",
      "* **Single underscore prefix** indicates \"internal\" variables that are only to be used within the class or object (not enforced, but the convention)\n",
      "\n",
      "**14.6. Inheritance**\n",
      "* **Reuse** of code is major benefit of OOP\n",
      "* **Inheritance** mechanism implements a **type and subtype** relationship between classes\n",
      "* E.g. Create common class SchoolMember and have Teacher and Student subclasses inherit characteristics like name, age, address, while retaining specific characteristics  like courses vs. grades\n",
      "* Advantages over having two independent classes:\n",
      "    * Adding/changing functionality automatically changes subtypes\n",
      "    * Changes in subtypes don't affect other subtypes\n",
      "    * Can refer to subclass by superclass (useful if you want to see total members of superclass\n",
      "    * Can reuse the code of the parent class w/o repeating in different classes\n",
      "* **Polymorphism** means sub-type can be substituted in any situation where a parent type is expected i.e. the object can be treated as an instance of the parent class\n",
      "* **Base class** or **superclass** is SchoolMember class, **derived classes** or **subclasses** are Teacher and Student classes"
     ]
    },
    {
     "cell_type": "code",
     "collapsed": false,
     "input": [
      "# save as oop_subclass.py\n",
      "\n",
      "class SchoolMember:\n",
      "    '''Represents any school member.'''\n",
      "    def __init__(self, name, age):\n",
      "        self.name = name\n",
      "        self.age = age\n",
      "        print '(Initialized SchoolMember: {})'.format(self.name)\n",
      "\n",
      "    def tell(self):\n",
      "        '''Tell my details.'''\n",
      "        print 'Name:\"{}\" Age:\"{}\"'.format(self.name, self.age),\n",
      "        # Comma at end of print statement to print a line and allow \n",
      "        # next print to continue on the same line\n",
      "        # A trick to make print statement not print a \\n (newline) symbol at end\n",
      "    \n",
      "# Give base class name in a tuple after class name in class def to use inheritance\n",
      "class Teacher(SchoolMember):\n",
      "    '''Represents a teacher.'''\n",
      "    # __init__ method of the base class is explicitly called using self variable\n",
      "    # so that we can initialize the base class part of the object\n",
      "    # Important: Python doesn't auto-call constructor of base class\n",
      "    def __init__(self, name, age, salary):\n",
      "        SchoolMember.__init__(self, name, age)\n",
      "        self.salary = salary\n",
      "        print '(Initialized Teacher: {})'.format(self.name)\n",
      "\n",
      "    # Defining tell() method\n",
      "    # Note: Teacher or Student instances are treated instances of SchoolMember\n",
      "    # Note: Call base class methods by prefixing class name to method call\n",
      "    # and pass self variable\n",
      "    def tell(self):\n",
      "        SchoolMember.tell(self)\n",
      "        print 'Salary: \"{:d}\"'.format(self.salary)\n",
      "\n",
      "class Student(SchoolMember):\n",
      "    '''Represents a student.'''\n",
      "    def __init__(self, name, age, marks):\n",
      "        SchoolMember.__init__(self, name, age)\n",
      "        self.marks = marks\n",
      "        print '(Initialized Student: {})'.format(self.name)\n",
      "\n",
      "    def tell(self):\n",
      "        SchoolMember.tell(self)\n",
      "        print 'Marks: \"{:d}\"'.format(self.marks)\n",
      "\n",
      "t = Teacher('Mrs. Shrividya', 40, 30000)\n",
      "s = Student('Swaroop', 25, 75)\n",
      "\n",
      "# prints a blank line\n",
      "print\n",
      "\n",
      "members = [t, s]\n",
      "for member in members:\n",
      "    # Works for both Teachers and Students\n",
      "    member.tell()\n",
      "    # Note that tell method of subtype is called, not of SchoolMember class\n",
      "    # Python looks for methods in the ctual type, and if it cannot find\n",
      "    # then starts looking at methods belonging to base classes\n",
      "    # in order they are specified in class def tuple"
     ],
     "language": "python",
     "metadata": {},
     "outputs": [
      {
       "output_type": "stream",
       "stream": "stdout",
       "text": [
        "(Initialized SchoolMember: Mrs. Shrividya)\n",
        "(Initialized Teacher: Mrs. Shrividya)\n",
        "(Initialized SchoolMember: Swaroop)\n",
        "(Initialized Student: Swaroop)\n",
        "\n",
        "Name:\"Mrs. Shrividya\" Age:\"40\" Salary: \"30000\"\n",
        "Name:\"Swaroop\" Age:\"25\" Marks: \"75\"\n"
       ]
      }
     ],
     "prompt_number": 47
    },
    {
     "cell_type": "markdown",
     "metadata": {},
     "source": [
      "* **Multiple inheritance**: if more than one class is listed in the inheritance tuple\n",
      "* Python is highly object-oriented"
     ]
    },
    {
     "cell_type": "heading",
     "level": 3,
     "metadata": {},
     "source": [
      "15. Input and Output"
     ]
    },
    {
     "cell_type": "markdown",
     "metadata": {},
     "source": [
      "* <code>raw_input()</code> and <code>print</code> takes input from user and prints results\n",
      "* <code>str</code> class has many methods for output, e.g. <code>rjust</code> method gets string which is right justified to specified width (<code>help(str) gives more details)"
     ]
    },
    {
     "cell_type": "code",
     "collapsed": false,
     "input": [
      "# save as io_input.py\n",
      "\n",
      "# uses slicing feature to reverse text\n",
      "# seq[a:b] code makes slices froms sequence a to b\n",
      "# providing third argument that determines the 'step' by which slicing is done\n",
      "# default step is 1, giving negative step -1 returns text in reverse\n",
      "def reverse(text):\n",
      "    return text[::-1]\n",
      "\n",
      "# if the original text and reversed are equal, it's a palindrome\n",
      "def is_palindrome(text, punctuation = \" .,?!:;-\u2014)(]['\\\"\\\\/\"):\n",
      "    text = text.lower() #  makes text lower case\n",
      "    for x in punctuation: # for loop checks text for x items from tuple\n",
      "        text = text.replace(x, '') # removes x items\n",
      "        # 'print text' can be used to see inefficient process of loop\n",
      "    return text == reverse(text) # checks if text matches reverse text\n",
      "\n",
      "# if text == 'Q': sys.exit() works as a way for user to quit\n",
      "\n",
      "# raw_input() function takes string as argument and returns it to user\n",
      "something = raw_input(\"Enter text: \")\n",
      "if is_palindrome(something): # if true\n",
      "    print \"Yes, it is a palindrome\"\n",
      "else:\n",
      "    print \"No, it is not a palindrome\"\n"
     ],
     "language": "python",
     "metadata": {},
     "outputs": [
      {
       "name": "stdout",
       "output_type": "stream",
       "stream": "stdout",
       "text": [
        "Enter text: rise to vote, SIR!\n"
       ]
      },
      {
       "output_type": "stream",
       "stream": "stdout",
       "text": [
        "Yes, it is a palindrome\n"
       ]
      }
     ],
     "prompt_number": 136
    },
    {
     "cell_type": "code",
     "collapsed": false,
     "input": [
      "# SHORTER VERSION!\n",
      "\n",
      "text = raw_input(\"Enter text: \")\n",
      "punctuation = \" .,?!:;-\u2014)(]['\\\"\\\\/\"\n",
      "for x in punctuation:\n",
      "    text = text.lower().replace(x, '')\n",
      "if text == text[::-1]: print \"Yes, it is a palindrome\"\n",
      "else: print \"No, it is not a palindrome\""
     ],
     "language": "python",
     "metadata": {},
     "outputs": [
      {
       "name": "stdout",
       "output_type": "stream",
       "stream": "stdout",
       "text": [
        "Enter text: RISE TO VOTE, SIR\n"
       ]
      },
      {
       "output_type": "stream",
       "stream": "stdout",
       "text": [
        "Yes, it is a palindrome\n"
       ]
      }
     ],
     "prompt_number": 115
    },
    {
     "cell_type": "markdown",
     "metadata": {},
     "source": [
      "**15.2. Files**\n",
      "* Open and use files by creating object of <code>file</code> class and specify mode\n",
      "* <code>file</code> class contains <code>read, readline, write</code> methods to read from or write to the file\n",
      "* Call <code>close</code> method to stop using file"
     ]
    },
    {
     "cell_type": "code",
     "collapsed": false,
     "input": [
      "# save as io_using_file.py\n",
      "\n",
      "# We will write these contents to poem.txt\n",
      "poem = '''\\\n",
      "Programming is fun\n",
      "When the work is done\n",
      "if you wanna make your work also fun:\n",
      "    use Python!\n",
      "'''\n",
      "\n",
      "# Opens file for 'w'riting\n",
      "f = open('poem.txt', 'w')\n",
      "# Write text to file\n",
      "f.write(poem)\n",
      "# Close the file\n",
      "f.close()\n",
      "\n",
      "# If no mode is specified,\n",
      "# 'r'ead mode is assumed by default\n",
      "f = open('poem.txt')\n",
      "while True:\n",
      "    line = f.readline()\n",
      "    # Zero length indicates EOF\n",
      "    if len(line) == 0:\n",
      "        break\n",
      "    # The `line` already has a newline\n",
      "    # at the end of each line\n",
      "    # since it is reading from a file.\n",
      "    print line,\n",
      "# close the file\n",
      "f.close()"
     ],
     "language": "python",
     "metadata": {},
     "outputs": [
      {
       "output_type": "stream",
       "stream": "stdout",
       "text": [
        "Programming is fun\n",
        "When the work is done\n",
        "if you wanna make your work also fun:\n",
        "    use Python!\n"
       ]
      }
     ],
     "prompt_number": 59
    },
    {
     "cell_type": "markdown",
     "metadata": {},
     "source": [
      "* <code>open()</code> function to open, specify name and mode, i.e. </code>open('poem.txt', 'w')\n",
      "    * 'r' ead mode\n",
      "    * 'w' rite mode\n",
      "    * 'a' ppend mode\n",
      "    * 't' ext mode\n",
      "    * 'b' inary mode (last 2 can be used with first 3 in same quote marks)\n",
      "    * help(open) gives more details about modes\n",
      "    * by default, open() uses 'r' and 't' mode\n",
      "* Step 1: Open the file in write text mode, use <code>write</code> method to file and finally <code>close</code> file\n",
      "* Step 2: Open file for reading, use <code>readline</code> method in a loop to read each line, which returns a complete line including newline character at the end, and return of empty string means end of file and breaks out of loop\n",
      "\n",
      "**15.3. Pickle**\n",
      "* <code>pickle</code> is a standard module that stores any plain Python object in a file for retrievable\n",
      "* Known as storing the object **persistently**"
     ]
    },
    {
     "cell_type": "code",
     "collapsed": false,
     "input": [
      "# save as io_pickle.py\n",
      "\n",
      "import pickle\n",
      "\n",
      "# The name of the file where we will store the object\n",
      "shoplistfile = 'shoplist.data'\n",
      "# The list of things to buy\n",
      "shoplist = ['apple', 'mango', 'carrot']\n",
      "\n",
      "# 'W'rite to the file using 'b'inary\n",
      "f = open(shoplistfile, 'wb')\n",
      "# Dump the object to a file a.k.a. pickling\n",
      "pickle.dump(shoplist, f)\n",
      "f.close()\n",
      "\n",
      "# Destroy the shoplist variable\n",
      "del shoplist\n",
      "\n",
      "# Read back from the storage\n",
      "f = open(shoplistfile, 'rb')\n",
      "# Load the object from the file, a.k.a. unpickling\n",
      "storedlist = pickle.load(f)\n",
      "print storedlist"
     ],
     "language": "python",
     "metadata": {},
     "outputs": [
      {
       "output_type": "stream",
       "stream": "stdout",
       "text": [
        "['apple', 'mango', 'carrot']\n"
       ]
      }
     ],
     "prompt_number": 60
    },
    {
     "cell_type": "markdown",
     "metadata": {},
     "source": [
      "* Pickling: Open file in <code>'wb'</code> mode and call <code>dump</code> function of <code>pickle</code> module\n",
      "* Unpickling: Call <code>load</code> function to return the object\n",
      "\n",
      "**15.4 Unicode**\n",
      "* <code>unicode</code> type characters are for non-English languages\n",
      "* <code>u\"\"</code> outside for <code>unicode</code> string type instead of <code>strings</code> type\n",
      "* When reading or writing to a file or Internet, Unicode strings need to converted into \"UTF-8\" format"
     ]
    },
    {
     "cell_type": "code",
     "collapsed": false,
     "input": [
      "print \"hello world\"\n",
      "# type() method returns the object type inside <type ''>\n",
      "print type (\"hello world\")\n",
      "# If Chinese (even punctuation) is included in above string, you get this error:\n",
      "# SyntaxError: EOL while scanning string literal\n",
      "\n",
      "print u\"hello world \u4e16\u754c\u597d\"\n",
      "print type(u\"hello world \u4e16\u754c\u597d\")"
     ],
     "language": "python",
     "metadata": {},
     "outputs": [
      {
       "output_type": "stream",
       "stream": "stdout",
       "text": [
        "hello world\n",
        "<type 'str'>\n",
        "hello world \u4e16\u754c\u597d\n",
        "<type 'unicode'>\n"
       ]
      }
     ],
     "prompt_number": 71
    },
    {
     "cell_type": "code",
     "collapsed": false,
     "input": [
      "# encoding=utf-8\n",
      "import io\n",
      "\n",
      "f = io.open(\"abc.txt\", \"wt\", encoding=\"utf-8\")\n",
      "f.write(u\"Imagine non-English language here\uff1a\u60f3\u8c61\u4e00\u4e0b\u5176\u4ed6\u4e0d\u5c5e\u4e8e\u82f1\u6587\u7684\u6587\u8a00\")\n",
      "f.close()\n",
      "\n",
      "text = io.open(\"abc.txt\", encoding=\"utf-8\").read()\n",
      "print text"
     ],
     "language": "python",
     "metadata": {},
     "outputs": [
      {
       "output_type": "stream",
       "stream": "stdout",
       "text": [
        "Imagine non-English language here\uff1a\u60f3\u8c61\u4e00\u4e0b\u5176\u4ed6\u4e0d\u5c5e\u4e8e\u82f1\u6587\u7684\u6587\u8a00\n"
       ]
      }
     ],
     "prompt_number": 63
    },
    {
     "cell_type": "markdown",
     "metadata": {},
     "source": [
      "* To write a program that uses Unicode literals, have to put <code># encoding=utf-8</code> comment on top\n",
      "* Then use <code>import io</code> statement, <code>io.open</code> method, provide \"encoding\" and \"decoding\" argument, and pass in a string in the form of <code>u\"\"</code>to tell Python we are using Unicode"
     ]
    },
    {
     "cell_type": "heading",
     "level": 3,
     "metadata": {},
     "source": [
      "16. Exceptions"
     ]
    },
    {
     "cell_type": "markdown",
     "metadata": {},
     "source": [
      "* Exceptonal situations in your program are handled using **exceptions**\n",
      "* Invalid statements in your program is handled by Python which **raises** its hands and tells you there is an **error**\n",
      "\n",
      "\n",
      "**16.1. Errors**\n",
      "* **Error handler** raises errors in your program and prints its location, e.g. <code>SyntaxError</codE>\n",
      "\n",
      "**16.2. Exceptions**\n",
      "* When programs tries to read input from user and receives ctrl-d (an end of file symbol) Python raises <code>EOFError</code>\n",
      "\n",
      "**16.3. Handling Exceptions**\n",
      "* <code>try..except</code> statement handles exceptions\n",
      "* <code>try</code> block contains all the statements that might raise exceptions/errors\n",
      "* <code>except</code> clause contains **handlers**, which can be for a single specifed error/exception, or a prenthesized list of errors/exceptions\n",
      "* If no names of errors/exceptions are supplied, it will handle ALL of them\n",
      "* Note one <code>except</code> clause must be associated with every <code>try</code> clause\n",
      "* Without handlers, default Python handler stops execution of program and prints an error message\n",
      "* <code>else</code> clause can be associated with <code>try..except</code> block, which is executed if no eception occurs\n"
     ]
    },
    {
     "cell_type": "code",
     "collapsed": false,
     "input": [
      "# save as exceptions_handle.py\n",
      "\n",
      "try:\n",
      "    text = raw_input('Enter something --> ')\n",
      "except EOFError:\n",
      "    print 'Why did you do an EOF on me?'\n",
      "except KeyboardInterrupt:\n",
      "    print 'You cancelled the operation.'\n",
      "else:\n",
      "    print 'You entered {}'.format(text)"
     ],
     "language": "python",
     "metadata": {},
     "outputs": [
      {
       "output_type": "stream",
       "stream": "stdout",
       "text": [
        "You cancelled the operation.\n"
       ]
      }
     ],
     "prompt_number": 124
    },
    {
     "cell_type": "markdown",
     "metadata": {},
     "source": [
      "**16.4. Raising Exceptions**\n",
      "* Raise exceptions using <code>raise</code> statemen, and providing the name of the error/exception and exception option to be thrown\n",
      "* Error/exception raised should be class directly or indirectly derived from <code>Exception</code> class\n",
      "* Class of error is stored in <code>except</code> clause <code>as</code> the variable name to hold the corresponding error/exception object (similar to parameters and arguments in a function call)"
     ]
    },
    {
     "cell_type": "code",
     "collapsed": false,
     "input": [
      "# save as exceptions_raise.py\n",
      "\n",
      "# Create exception type ShortInputExcept \n",
      "# 2 fields: 'length' of given input and 'atleast' the min len programs expects\n",
      "class ShortInputException(Exception):\n",
      "    '''A user-defined exception class.'''\n",
      "    def __init__(self, length, atleast):\n",
      "        Exception.__init__(self)\n",
      "        self.length = length\n",
      "        self.atleast = atleast\n",
      "    \n",
      "# Use fields of exception object to print appropriate message to user\n",
      "try:\n",
      "    text = raw_input('Enter something --> ')\n",
      "    if len(text) < 3:\n",
      "        raise ShortInputException(len(text), 3)\n",
      "    # Other work can continue as usual here\n",
      "except EOFError:\n",
      "    print 'Why did you do an EOF on me?'\n",
      "except ShortInputException as ex:\n",
      "    print ('ShortInputException: The input was ' + \\\n",
      "           '{0} long, expected at least {1}') \\\n",
      "            .format(ex.length, ex.atleast)\n",
      "else:\n",
      "    print 'No exception was raised.'"
     ],
     "language": "python",
     "metadata": {},
     "outputs": [
      {
       "name": "stdout",
       "output_type": "stream",
       "stream": "stdout",
       "text": [
        "Enter something --> a\n"
       ]
      },
      {
       "output_type": "stream",
       "stream": "stdout",
       "text": [
        "ShortInputException: The input was 1 long, expected at least 3\n"
       ]
      }
     ],
     "prompt_number": 133
    },
    {
     "cell_type": "markdown",
     "metadata": {},
     "source": [
      "**16.5. Try...Finally**\n",
      "\n",
      "* Use <code>finally</code> block to ensure file object is closed properly whether or not exception was raised"
     ]
    },
    {
     "cell_type": "code",
     "collapsed": false,
     "input": [
      "# save as exceptions_finally.py\n",
      "\n",
      "import sys\n",
      "import time\n",
      "\n",
      "f = None\n",
      "try:\n",
      "    f = open(\"poem.txt\")\n",
      "    # Our usual file-reading idiom\n",
      "    while True:\n",
      "        line = f.readline()\n",
      "        if len(line) == 0:\n",
      "            break # break statement stops execution when condition is met\n",
      "        print line,\n",
      "        sys.stdout.flush() # prints immediately when used right after print\n",
      "        print \"Press ctrl+c now\"\n",
      "        # To make sure it runs for a while\n",
      "        time.sleep(2) \n",
      "        # 'time.sleep' fx lets program sleep for 2 sec after printing each line\n",
      "        # So program runs slowly (Python is fast by nature)\n",
      "except IOError:\n",
      "    print \"Could not find file poem.txt\"\n",
      "# Pressing 'ctrl + c' interrupts/cancels the program\n",
      "# When KeyboardInterrupt exception is thrown program quits\n",
      "except KeyboardInterrupt:\n",
      "    print \"!! You cancelled the reading from the file.\"\n",
      "# finally clause is executed and file object always closed before program exits\n",
      "finally:\n",
      "    if f:\n",
      "        f.close() # closes file\n",
      "    print \"(Cleaning up: Closed the file)\""
     ],
     "language": "python",
     "metadata": {},
     "outputs": [
      {
       "output_type": "stream",
       "stream": "stdout",
       "text": [
        "Programming is fun\n"
       ]
      },
      {
       "output_type": "stream",
       "stream": "stdout",
       "text": [
        "Press ctrl+c now\n",
        "When the work is done\n"
       ]
      },
      {
       "output_type": "stream",
       "stream": "stdout",
       "text": [
        "Press ctrl+c now\n",
        "if you wanna make your work also fun:\n"
       ]
      },
      {
       "output_type": "stream",
       "stream": "stdout",
       "text": [
        "Press ctrl+c now\n",
        "    use Python!\n"
       ]
      },
      {
       "output_type": "stream",
       "stream": "stdout",
       "text": [
        "Press ctrl+c now\n",
        "(Cleaning up: Closed the file)"
       ]
      },
      {
       "output_type": "stream",
       "stream": "stdout",
       "text": [
        "\n"
       ]
      }
     ],
     "prompt_number": 134
    },
    {
     "cell_type": "markdown",
     "metadata": {},
     "source": [
      "**16.6. The with statement**\n",
      "* <code>with</code> statement is cleaner way of acquiring resource in the <code>try</code> block and releasing the resource in the <code>finally</code> block\n",
      "* <code>with</code> statement contains protocol of fetching the object returned by the <code>open</code> statement and closing it at the end\n",
      "* Calls <code>thefilename.\\_\\_enter\\_\\_</code> function before starting block of code below and calls <code>thefilename.\\_\\_exit\\_\\_</code> after finishing block of code (so no need for <code>try..finally</code>)\n",
      "* <a href=\"http://legacy.python.org/dev/peps/pep-0343/>PEP 343</a> has more info"
     ]
    },
    {
     "cell_type": "code",
     "collapsed": false,
     "input": [
      "# save as exceptions_using_with.py\n",
      "\n",
      "# opens and closes automatically 'with open'\n",
      "# i.e. runs __enter__ and __exit__ b4 starting rest of code and after finishing\n",
      "with open(\"poem.txt\") as f:\n",
      "    for line in f:\n",
      "        print line,"
     ],
     "language": "python",
     "metadata": {},
     "outputs": [
      {
       "output_type": "stream",
       "stream": "stdout",
       "text": [
        "Programming is fun\n",
        "When the work is done\n",
        "if you wanna make your work also fun:\n",
        "    use Python!\n"
       ]
      }
     ],
     "prompt_number": 137
    },
    {
     "cell_type": "markdown",
     "metadata": {},
     "source": [
      "**16.8. Standard Library**\n",
      "* <a href=\"https://docs.python.org/2/library/\">Python Standard Library</a> contains tons of useful modules and comes - be familiar with the range of things it can do!\n",
      "\n",
      "**16.9. <code>sys</code> module**\n",
      "* <code>sys</code> module contains system-specific functionality\n",
      "* <code>sys.argv</code> list contains command-lind arguments\n",
      "* <code>sys.version_info</code> tuple gives the version information"
     ]
    },
    {
     "cell_type": "code",
     "collapsed": false,
     "input": [
      "import sys\n",
      "print sys.version_info\n",
      "print sys.version_info.serial == 1"
     ],
     "language": "python",
     "metadata": {},
     "outputs": [
      {
       "output_type": "stream",
       "stream": "stdout",
       "text": [
        "sys.version_info(major=2, minor=7, micro=6, releaselevel='final', serial=0)\n",
        "False\n"
       ]
      }
     ],
     "prompt_number": 140
    },
    {
     "cell_type": "markdown",
     "metadata": {},
     "source": [
      "**16.10. logging module**\n",
      "* <code>logging</code> module stores debugging/important messages so you can check if program is running as expected"
     ]
    },
    {
     "cell_type": "code",
     "collapsed": false,
     "input": [
      "# Save as stdlib_logging.py\n",
      "\n",
      "# Imports three modules from standard library\n",
      "# os module for interacting with operating system\n",
      "# platform module for information about the platform i.e. os\n",
      "# logging module to log info\n",
      "import os, platform, logging\n",
      "\n",
      "# Check which os we are using by checking string returned by platform.platform()\n",
      "# Use os.path.join() function to put three parts of loc together\n",
      "# Configure logging module to write all messages in particular format to file\n",
      "if platform.platform().startswith('Windows'):\n",
      "    logging_file = os.path.join(os.getenv('HOMEDRIVE'),\n",
      "                                os.getenv('HOMEPATH'),\n",
      "                                'test.log') # file specified to store info\n",
      "else:\n",
      "    logging_file = os.path.join(os.getenv('HOME'),\n",
      "                                'test.log')\n",
      "\n",
      "print \"Logging to\", logging_file\n",
      "\n",
      "logging.basicConfig(\n",
      "    level=logging.DEBUG,\n",
      "    format='%(asctime)s : %(levelname)s : %(message)s',\n",
      "    filename = logging_file,\n",
      "    filemode = 'w',\n",
      ")\n",
      "\n",
      "# Messages meant for debugging, info, warning or critical info\n",
      "# Once program runs, we can check file and know what happened in the program\n",
      "# even though no info was displayed to user running program\n",
      "logging.debug(\"Start of the program\")\n",
      "logging.info(\"Doing something\")\n",
      "logging.warning(\"Dying now\")"
     ],
     "language": "python",
     "metadata": {},
     "outputs": [
      {
       "output_type": "stream",
       "stream": "stdout",
       "text": [
        "Logging to /Users/blanks/test.log\n"
       ]
      }
     ],
     "prompt_number": 144
    },
    {
     "cell_type": "code",
     "collapsed": false,
     "input": [
      "!cat /Users/blanks/test.log"
     ],
     "language": "python",
     "metadata": {},
     "outputs": [
      {
       "output_type": "stream",
       "stream": "stdout",
       "text": [
        "2014-04-24 00:29:15,009 : DEBUG : Start of the program\r\n",
        "2014-04-24 00:29:15,010 : INFO : Doing something\r\n",
        "2014-04-24 00:29:15,010 : WARNING : Dying now\r\n"
       ]
      }
     ],
     "prompt_number": 143
    },
    {
     "cell_type": "markdown",
     "metadata": {},
     "source": [
      "**16.11. Module of the Week Series**\n",
      "* Read more about <a href=\"http://docs.python.org/2/library/pdb.html\">Debugging</a>\n",
      "* <a href=\"http://docs.python.org/2/library/argparse.html\">Handling command line options</a>\n",
      "* <a href=\"http://docs.python.org/2/library/re.html\">Regular expressions</a>\n",
      "* Best way to further explore standard library is to read <a href=\"http://pymotw.com/2/contents.html\">Python Module of the Week</a> series, <a href=\"http://docs.python.org/2/\">Python documentation</a>, and <a href=\"https://docs.python.org/2/library/\">the Python Standard Library</a>"
     ]
    },
    {
     "cell_type": "heading",
     "level": 3,
     "metadata": {},
     "source": [
      "17. More"
     ]
    },
    {
     "cell_type": "markdown",
     "metadata": {},
     "source": [
      "**17.1. Passing tuples around**\n",
      "* Return two different values from a function using a tuple"
     ]
    },
    {
     "cell_type": "code",
     "collapsed": false,
     "input": [
      "# a, b = <some expression> interprets result of expression as tuple w/ 2 values\n",
      "def get_error_details():\n",
      "    return (2, 'details')    \n",
      "\n",
      "errnum, errstr = get_error_details()\n",
      "print errnum\n",
      "print errstr\n",
      "\n",
      "# fastest way to swap two variables is to make two variables equal each other\n",
      "a = 5; b = 8\n",
      "print a, b\n",
      "a, b = b, a\n",
      "print a, b"
     ],
     "language": "python",
     "metadata": {},
     "outputs": [
      {
       "output_type": "stream",
       "stream": "stdout",
       "text": [
        "2\n",
        "details\n",
        "5 8\n",
        "8 5\n"
       ]
      }
     ],
     "prompt_number": 162
    },
    {
     "cell_type": "markdown",
     "metadata": {},
     "source": [
      "**17.2. Special Methods**\n",
      "* <code>\\_\\_init\\_\\_(self, ...)</code> called just before the newly created object is returned for usage\n",
      "* <code>\\_\\_del\\_\\_(self)</code> called just before the object is destroyed (which has unpredictable timing, so avoid using this)\n",
      "* <code>\\_\\_str\\_\\_(self)</code> called when we use the print statement or when str() is used\n",
      "* <code>\\_\\_lt\\_\\_(self, other)</code> called when the less than operator (<) is used. Similarly, there are special methods for all the operators (+, >, etc.)\n",
      "* <code>\\_\\_getitem\\_\\_(self, key)</code> called when <code>x[key]</code> indexing operation is used\n",
      "* <code>\\_\\_len\\_\\_(self)</code> called when the built-in <code>len()</code> function is used for the sequence object\n",
      "* List of all special methods in <a href=\"http://docs.python.org/2/reference/datamodel.html#special-method-names\">the manual</a>\n",
      "\n",
      "**17.3. Single Statement Blocks**\n",
      "* Blocks of statements are set apart by indentation level\n",
      "* If block contains one statement, it can be in the same line as a conditional or looping statement\n",
      "* Can be used to make program smaller, but generally dicouraged"
     ]
    },
    {
     "cell_type": "code",
     "collapsed": false,
     "input": [
      "flag = True\n",
      "if flag: print 'Yes'"
     ],
     "language": "python",
     "metadata": {},
     "outputs": [
      {
       "output_type": "stream",
       "stream": "stdout",
       "text": [
        "Yes\n"
       ]
      }
     ],
     "prompt_number": 163
    },
    {
     "cell_type": "markdown",
     "metadata": {},
     "source": [
      "**17.4 Lambda Forms**\n",
      "* <code>lambda</code> statement creates new function objects by taking a paramter followed by a single expression only which becomes the body of the functions and the value of this expression is returned by new function"
     ]
    },
    {
     "cell_type": "code",
     "collapsed": false,
     "input": [
      "# save as more_lambda.py\n",
      "\n",
      "points = [ { 'x' : 2, 'y' : 3 },\n",
      "           { 'x' : 4, 'y' : 1 } ]\n",
      "# 'sort' method of a 'list' can take a 'key' parameter to det how to sort list\n",
      "# here, we do custom support, and use 'lambda' expression to create new fx\n",
      "# instead of writing separate 'def' block for fx that only is used here\n",
      "points.sort(key=lambda i : i['y'])\n",
      "print points"
     ],
     "language": "python",
     "metadata": {},
     "outputs": [
      {
       "output_type": "stream",
       "stream": "stdout",
       "text": [
        "[{'y': 1, 'x': 4}, {'y': 3, 'x': 2}]\n"
       ]
      }
     ],
     "prompt_number": 164
    },
    {
     "cell_type": "markdown",
     "metadata": {},
     "source": [
      "**17.5. List Comprehension**\n",
      "* **List comprehensions** used to drive new list from existing list\n",
      "* Advantage is it reduces boiletplate code required when using loops to process each elemtn of list and store in new list"
     ]
    },
    {
     "cell_type": "code",
     "collapsed": false,
     "input": [
      "# save as more_list_comprehension.py\n",
      "\n",
      "# corresponding list of numbers mltipled by 2 only when n > 2\n",
      "# manipulation (2*i) when conidition is satisfied (if i > 2)\n",
      "# original list remains unmodified\n",
      "\n",
      "listone = [2, 3, 4]\n",
      "listtwo = [2*i for i in listone if i > 2]\n",
      "print listtwo"
     ],
     "language": "python",
     "metadata": {},
     "outputs": [
      {
       "output_type": "stream",
       "stream": "stdout",
       "text": [
        "[6, 8]\n"
       ]
      }
     ],
     "prompt_number": 166
    },
    {
     "cell_type": "markdown",
     "metadata": {},
     "source": [
      "**17.6. Receiving Tuples and Dictionaries in Functions**\n",
      "* \\* and \\*\\* prefix will receive parameters to a function as a tuple or dictionary respectively"
     ]
    },
    {
     "cell_type": "code",
     "collapsed": false,
     "input": [
      "# * prefix tells all extra arguments to pass to the fx stored in 'args' as tuple\n",
      "# ** prefix would tell extra parameters to be key/value pairs of a dictionary\n",
      "\n",
      "def powersum(power, *args):\n",
      "     '''Return the sum of each argument raised to the specified power.'''\n",
      "     total = 0\n",
      "     for i in args:\n",
      "         total += pow(i, power)\n",
      "     return total\n",
      "print powersum(2, 3, 4) # 3^2 + 4^2\n",
      "print powersum(2, 10) # 10^2"
     ],
     "language": "python",
     "metadata": {},
     "outputs": [
      {
       "output_type": "stream",
       "stream": "stdout",
       "text": [
        "25\n",
        "100\n"
       ]
      }
     ],
     "prompt_number": 167
    },
    {
     "cell_type": "markdown",
     "metadata": {},
     "source": [
      "**17.7. The assert statement**\n",
      "* <code>assert</code> statement asserts something is true\n",
      "* When it fails, <code>AssertionError</code> is raised\n",
      "* Should be used carefully, most of the time better to catch exceptions by handling the problem and displaying an error message to the user before quitting"
     ]
    },
    {
     "cell_type": "code",
     "collapsed": false,
     "input": [
      "# If you are sure you will ahve at least one element in a list and want to check\n",
      "# plus raise an error if it's not true, assert statement is ideal\n",
      "\n",
      "mylist = ['item']\n",
      "assert len(mylist) >= 1\n",
      "mylist.pop()\n",
      "\n",
      "assert len(mylist) >= 1\n"
     ],
     "language": "python",
     "metadata": {},
     "outputs": [
      {
       "ename": "AssertionError",
       "evalue": "",
       "output_type": "pyerr",
       "traceback": [
        "\u001b[0;31m---------------------------------------------------------------------------\u001b[0m\n\u001b[0;31mAssertionError\u001b[0m                            Traceback (most recent call last)",
        "\u001b[0;32m<ipython-input-171-08a0f2881d2b>\u001b[0m in \u001b[0;36m<module>\u001b[0;34m()\u001b[0m\n\u001b[1;32m      6\u001b[0m \u001b[0mmylist\u001b[0m\u001b[0;34m.\u001b[0m\u001b[0mpop\u001b[0m\u001b[0;34m(\u001b[0m\u001b[0;34m)\u001b[0m\u001b[0;34m\u001b[0m\u001b[0m\n\u001b[1;32m      7\u001b[0m \u001b[0;34m\u001b[0m\u001b[0m\n\u001b[0;32m----> 8\u001b[0;31m \u001b[0;32massert\u001b[0m \u001b[0mlen\u001b[0m\u001b[0;34m(\u001b[0m\u001b[0mmylist\u001b[0m\u001b[0;34m)\u001b[0m \u001b[0;34m>=\u001b[0m \u001b[0;36m1\u001b[0m\u001b[0;34m\u001b[0m\u001b[0m\n\u001b[0m",
        "\u001b[0;31mAssertionError\u001b[0m: "
       ]
      }
     ],
     "prompt_number": 171
    },
    {
     "cell_type": "markdown",
     "metadata": {},
     "source": [
      "**17.8. Decorators**\n",
      "* **Decorators** are shortcuts to applying wrapper functions, i.e. 'wrap' functionality with the same code over and over"
     ]
    },
    {
     "cell_type": "code",
     "collapsed": false,
     "input": [
      "%load more_decorator.py"
     ],
     "language": "python",
     "metadata": {},
     "outputs": [],
     "prompt_number": 178
    },
    {
     "cell_type": "code",
     "collapsed": false,
     "input": [
      "# save as more_decorator.py\n",
      "\n",
      "# We've created a 'retry' decorator that can be applied to any function\n",
      "# If exception is thrown during run, it is retried for max 5x with delays bt\n",
      "# Useful for situations where you wnat to make a network call to a remote comp\n",
      "\n",
      "from time import sleep\n",
      "from functools import wraps\n",
      "import logging\n",
      "logging.basicConfig()\n",
      "log = logging.getLogger(\"retry\")\n",
      "\n",
      "def retry(f):\n",
      "    @wraps(f)\n",
      "    def wrapped_f(*args, **kwargs):\n",
      "        MAX_ATTEMPTS = 5\n",
      "        for attempt in range(1, MAX_ATTEMPTS + 1):\n",
      "            try:\n",
      "                return f(*args, **kwargs)\n",
      "            except:\n",
      "                log.exception(\"Attempt %s/%s failed : %s\",\n",
      "                              attempt,\n",
      "                              MAX_ATTEMPTS,\n",
      "                              (args, kwargs))\n",
      "                sleep(10 * attempt)\n",
      "        log.critical(\"All %s attempts failed : %s\",\n",
      "                     MAX_ATTEMPTS,\n",
      "                     (args, kwargs))\n",
      "    return wrapped_f\n",
      "\n",
      "counter = 0\n",
      "\n",
      "@retry\n",
      "def save_to_database(arg):\n",
      "    print \"Write to a database or make a network call or etc.\"\n",
      "    print \"This will be automatically retried if exception is thrown.\"\n",
      "    global counter\n",
      "    counter += 1\n",
      "    # This will throw an exception in the first call\n",
      "    # And will work fine in the second call (i.e. a retry)\n",
      "    if counter < 2:\n",
      "        raise ValueError(arg)\n",
      "\n",
      "if __name__ == '__main__':\n",
      "    save_to_database(\"Some bad value\")"
     ],
     "language": "python",
     "metadata": {},
     "outputs": []
    },
    {
     "cell_type": "code",
     "collapsed": false,
     "input": [
      "!python more_decorator.py"
     ],
     "language": "python",
     "metadata": {},
     "outputs": [
      {
       "output_type": "stream",
       "stream": "stdout",
       "text": [
        "Write to a database or make a network call or etc.\r\n",
        "This will be automatically retried if exception is thrown.\r\n",
        "ERROR:retry:Attempt 1/5 failed : (('Some bad value',), {})\r\n",
        "Traceback (most recent call last):\r\n",
        "  File \"more_decorator.py\", line 19, in wrapped_f\r\n",
        "    return f(*args, **kwargs)\r\n",
        "  File \"more_decorator.py\", line 42, in save_to_database\r\n",
        "    raise ValueError(arg)\r\n",
        "ValueError: Some bad value\r\n"
       ]
      },
      {
       "output_type": "stream",
       "stream": "stdout",
       "text": [
        "Write to a database or make a network call or etc.\r\n",
        "This will be automatically retried if exception is thrown.\r\n"
       ]
      }
     ],
     "prompt_number": 177
    },
    {
     "cell_type": "markdown",
     "metadata": {},
     "source": [
      "See links below to see how it wors:\n",
      "* http://www.ibm.com/developerworks/linux/library/l-cpdecor.html\n",
      "* http://toumorokoshi.github.io/dry-principles-through-python-decorators.html\n",
      "\n",
      "**17.9. Differences between Python 2 and Python 3**\n",
      "* <a href=\"http://pythonhosted.org/six/\">\"Six\" library</a>\n",
      "* <a href=\"http://lucumr.pocoo.org/2013/5/21/porting-to-python-3-redux/\">Porting to Python 3 Redux by Armin</a>\n",
      "* <a href=\"http://pydanny.com/experiences-with-django-python3.html\">Python 3 experience by PyDanny</a>\n",
      "* <a href=\"https://docs.djangoproject.com/en/dev/topics/python3/\">Official Django Guide to Porting to Python 3</a>\n",
      "* <a href=\"http://www.reddit.com/r/Python/comments/22ovb3/what_are_the_advantages_to_python_3x/\">Discussion on What are the advantages to python 3.x?</a></p>\n",
      "</li>\n",
      "\n",
      "**17.10. More Assignments!**\n",
      "* Create your own command-line address-book program using which you can browse, add, modify, delete or search for your contacts such as friends, family and colleagues and their information such as email address and/or phone number. Details must be stored for later retrieval.\n",
      "* Implement the <a href=\"http://unixhelp.ed.ac.uk/CGI/man-cgi?replace\">replace command</a>. This command will replace one string with another in the list of files provided.\n",
      "* <a href=\"https://github.com/thekarangoel/Projects#numbers\">https://github.com/thekarangoel/Projects#numbers</a> (the list is also\n",
      "at <a href=\"http://www.dreamincode.net/forums/topic/78802-martyr2s-mega-project-ideas-list/\">Martyr2&#8217;s Mega\n",
      "Project List</a>)\n",
      "* <a href=\"https://openhatch.org/wiki/Intermediate_Python_Workshop/Projects\">Intermediate Python\n",
      "Projects</a>.\n",
      "\n"
     ]
    },
    {
     "cell_type": "code",
     "collapsed": false,
     "input": [],
     "language": "python",
     "metadata": {},
     "outputs": []
    }
   ],
   "metadata": {}
  }
 ]
}