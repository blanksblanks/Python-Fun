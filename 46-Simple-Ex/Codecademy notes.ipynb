{
 "metadata": {
  "name": "",
  "signature": "sha256:3e68f84c23d84e434c888f84f61c810132929cfbcc0222645d32f018ce4ba9e0"
 },
 "nbformat": 3,
 "nbformat_minor": 0,
 "worksheets": [
  {
   "cells": [
    {
     "cell_type": "heading",
     "level": 3,
     "metadata": {},
     "source": [
      "Codecademy Python track notes"
     ]
    },
    {
     "cell_type": "markdown",
     "metadata": {},
     "source": [
      "* Each character in a string is assigned a number called the **index**\n",
      "* Index starts at 0, not 1, and ends at -1"
     ]
    },
    {
     "cell_type": "code",
     "collapsed": false,
     "input": [
      "\"\"\"\n",
      "The string \"PYTHON\" has six characters,\n",
      "numbered 0 to 5, as shown below:\n",
      "\n",
      "+---+---+---+---+---+---+\n",
      "| P | Y | T | H | O | N |\n",
      "+---+---+---+---+---+---+\n",
      "  0   1   2   3   4   5\n",
      "\n",
      "So if you wanted \"Y\", you could just type\n",
      "\"PYTHON\"[1] (always start counting from 0!)\n",
      "\"\"\"\n",
      "fifth_letter = \"MONTY\"[4]\n",
      "\n",
      "print fifth_letter"
     ],
     "language": "python",
     "metadata": {},
     "outputs": [
      {
       "output_type": "stream",
       "stream": "stdout",
       "text": [
        "Y\n"
       ]
      }
     ],
     "prompt_number": 1
    },
    {
     "cell_type": "markdown",
     "metadata": {},
     "source": [
      "* **String methods** let you perform specific tasks for strings, e.g. len(), lower(), upper(), str()\n",
      "* \"String\".upper() and variable.lower() i.e. methods that use **dot notation** only work with strings\n",
      "* len(string) and str(object) can work on other data types\n",
      "* Use str() when concatenating strings with non-string object\n",
      "* The % operator after a string is used to combine a string with variables; it replaces a %s in the string with the string variable that comes after it; need same number of %s terms in a string as the number of variables in parentheses"
     ]
    },
    {
     "cell_type": "code",
     "collapsed": false,
     "input": [
      "parrot = \"Norwegian Blue\"\n",
      "\n",
      "print len(parrot)\n",
      "print parrot.lower() \n",
      "print parrot.upper()\n",
      "print 'Pi is ' + str(3.14)\n",
      "\n",
      "string_1 = \"Camelot\"\n",
      "string_2 = \"place\"\n",
      "\n",
      "print \"Let's not go to %s. 'Tis a silly %s.\" % (string_1, string_2)"
     ],
     "language": "python",
     "metadata": {},
     "outputs": [
      {
       "output_type": "stream",
       "stream": "stdout",
       "text": [
        "14\n",
        "norwegian blue\n",
        "NORWEGIAN BLUE\n",
        "Pi is 3.14\n",
        "Let's not go to Camelot. 'Tis a silly place.\n"
       ]
      }
     ],
     "prompt_number": 4
    },
    {
     "cell_type": "code",
     "collapsed": false,
     "input": [],
     "language": "python",
     "metadata": {},
     "outputs": []
    }
   ],
   "metadata": {}
  }
 ]
}