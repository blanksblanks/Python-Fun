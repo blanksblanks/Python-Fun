{
 "metadata": {
  "name": "",
  "signature": "sha256:12d12231f308615f5c4790ae8c18aac7f6c6174859876ba526116d99fb7dca11"
 },
 "nbformat": 3,
 "nbformat_minor": 0,
 "worksheets": [
  {
   "cells": [
    {
     "cell_type": "heading",
     "level": 3,
     "metadata": {},
     "source": [
      "Codecademy Python track notes"
     ]
    },
    {
     "cell_type": "markdown",
     "metadata": {},
     "source": [
      "**STRINGS**\n",
      "\n",
      "* Each character in a string is assigned a number called the **index**\n",
      "* Index starts at 0, not 1, and ends at -1"
     ]
    },
    {
     "cell_type": "code",
     "collapsed": false,
     "input": [
      "\"\"\"\n",
      "The string \"PYTHON\" has six characters,\n",
      "numbered 0 to 5, as shown below:\n",
      "\n",
      "+---+---+---+---+---+---+\n",
      "| P | Y | T | H | O | N |\n",
      "+---+---+---+---+---+---+\n",
      "  0   1   2   3   4   5\n",
      "\n",
      "So if you wanted \"Y\", you could just type\n",
      "\"PYTHON\"[1] (always start counting from 0!)\n",
      "\"\"\"\n",
      "fifth_letter = \"MONTY\"[4]\n",
      "\n",
      "print fifth_letter"
     ],
     "language": "python",
     "metadata": {},
     "outputs": [
      {
       "output_type": "stream",
       "stream": "stdout",
       "text": [
        "Y\n"
       ]
      }
     ],
     "prompt_number": 1
    },
    {
     "cell_type": "markdown",
     "metadata": {},
     "source": [
      "* **String methods** let you perform specific tasks for strings, e.g. len(), lower(), upper(), str()\n",
      "* \"String\".upper() and variable.lower() i.e. methods that use **dot notation** only work with strings\n",
      "* len(string) and str(object) can work on other data types\n",
      "* Use str() when concatenating strings with non-string object\n",
      "* The % operator after a string is used to combine a string with variables; it replaces a %s in the string with the string variable that comes after it; need same number of %s terms in a string as the number of variables in parentheses"
     ]
    },
    {
     "cell_type": "code",
     "collapsed": false,
     "input": [
      "parrot = \"Norwegian Blue\"\n",
      "\n",
      "print len(parrot)\n",
      "print parrot.lower() \n",
      "print parrot.upper()\n",
      "print 'Pi is ' + str(3.14)\n",
      "\n",
      "string_1 = \"Camelot\"\n",
      "string_2 = \"place\"\n",
      "\n",
      "print \"Let's not go to %s. 'Tis a silly %s.\" % (string_1, string_2)"
     ],
     "language": "python",
     "metadata": {},
     "outputs": [
      {
       "output_type": "stream",
       "stream": "stdout",
       "text": [
        "14\n",
        "norwegian blue\n",
        "NORWEGIAN BLUE\n",
        "Pi is 3.14\n",
        "Let's not go to Camelot. 'Tis a silly place.\n"
       ]
      }
     ],
     "prompt_number": 4
    },
    {
     "cell_type": "code",
     "collapsed": false,
     "input": [
      "# Printing a string\n",
      "\n",
      "print \"Foxtrot\"\n",
      "\n",
      "# Three ways to create strings\n",
      "\n",
      "print 'Alpha'\n",
      "print \"Bravo\"\n",
      "print str(3)\n",
      "\n",
      "# String index\n",
      "print \"Hello\"[-1]\n",
      "print \"Hello\"[1:]\n",
      "print \"Hello\"[:-1] # same as [0:-1]\n",
      "print \"Hello\"[:] # whole thing, same as [0:]\n",
      "\n",
      "# String methods\n",
      "\n",
      "print len(\"Charlie\")\n",
      "print \"Delta\".upper()\n",
      "print \"Echo\".lower()\n",
      "print \"Everybody!\".isalpha() # checks if all are alphabetical characters\n",
      "\n",
      "# Advanced printing techniques\n",
      "\n",
      "g = \"Golf\"\n",
      "h = \"Hotel\"\n",
      "print \"%s, %s\" % (g, h)"
     ],
     "language": "python",
     "metadata": {},
     "outputs": [
      {
       "output_type": "stream",
       "stream": "stdout",
       "text": [
        "Foxtrot\n",
        "Alpha\n",
        "Bravo\n",
        "3\n",
        "o\n",
        "ello\n",
        "Hell\n",
        "Hello\n",
        "7\n",
        "DELTA\n",
        "echo\n",
        "False\n",
        "Golf, Hotel\n"
       ]
      }
     ],
     "prompt_number": 31
    },
    {
     "cell_type": "markdown",
     "metadata": {},
     "source": [
      "**Date and Time**"
     ]
    },
    {
     "cell_type": "code",
     "collapsed": false,
     "input": [
      "from datetime import datetime # imports library\n",
      "\n",
      "now = datetime.now() # gets current date and time\n",
      "print now\n",
      "print now.year # think this is related to .now rather than var now\n",
      "print '%s/%s/%s %s:%s:%s' % (now.month, now.day, now.year, now.hour,\n",
      "                             now.minute, now.second) # mm/dd/yyyy hh:mm:ss format"
     ],
     "language": "python",
     "metadata": {},
     "outputs": [
      {
       "output_type": "stream",
       "stream": "stdout",
       "text": [
        "2014-05-22 10:14:54.002871\n",
        "2014\n",
        "5/22/2014 10:14:54\n"
       ]
      }
     ],
     "prompt_number": 26
    },
    {
     "cell_type": "markdown",
     "metadata": {},
     "source": [
      "** Conditionals and Control Flow**\n",
      "\n",
      "Boolean Operators (in order of evaluation)\n",
      "1. not, which gives the opposite of the statement\n",
      "2. and, which checks if both the statements are True\n",
      "3. or, which checks if at least one of the statements is True"
     ]
    },
    {
     "cell_type": "code",
     "collapsed": false,
     "input": [
      "\"\"\"\n",
      "     Boolean Operators\n",
      "---------------------------\n",
      "True and True is True # only true and\n",
      "True and False is False\n",
      "False and True is False\n",
      "False and False is False\n",
      "\n",
      "True or True is True\n",
      "True or False is True\n",
      "False or True is True\n",
      "False or False is False # only false or\n",
      "\n",
      "Not True is False\n",
      "Not False is True\n",
      "\n",
      "\"\"\"\n",
      "\n",
      "nothing = \"\""
     ],
     "language": "python",
     "metadata": {},
     "outputs": [],
     "prompt_number": 30
    },
    {
     "cell_type": "markdown",
     "metadata": {},
     "source": [
      "**Pig Latin**"
     ]
    },
    {
     "cell_type": "code",
     "collapsed": false,
     "input": [
      "original = raw_input('Enter a word:')\n",
      "\n",
      "word = original.lower()\n",
      "first = word[0]\n",
      "pyg = 'ay'\n",
      "new_word = word[1:] + first + pyg\n",
      "\n",
      "if len(original) > 0 and original.isalpha():\n",
      "    print new_word\n",
      "else:\n",
      "    print 'empty'"
     ],
     "language": "python",
     "metadata": {},
     "outputs": [
      {
       "name": "stdout",
       "output_type": "stream",
       "stream": "stdout",
       "text": [
        "Enter a word:hola\n"
       ]
      },
      {
       "output_type": "stream",
       "stream": "stdout",
       "text": [
        "olahay\n"
       ]
      }
     ],
     "prompt_number": 32
    },
    {
     "cell_type": "markdown",
     "metadata": {},
     "source": [
      "**Making Functions**\n",
      "* Three parts: <code>def ___ (): '''comment'''</code> actual function\n",
      "* A function can require as many parameters as you'd like, but when you call the function, you should generally pass in a matching number of arguments."
     ]
    },
    {
     "cell_type": "markdown",
     "metadata": {},
     "source": [
      "**Modules**\n",
      "\n",
      "* **Importing a module**: a module is a file that contains definitions\u2014including variables and functions - that you can use once it is imported\n",
      "* Pulling in just a single function from a module is called a **function import**, like so <code>from module import function</code>\n",
      "* **Universal import** can let you use all of the variables and functions in a module without constantly typing \"module.\", like so: <code>from module import *</code>\n",
      "* Caveat: Universal imports fill your program with a ton of variable and function names without the safety of those names still being associated with the module(s) they came from,which gets cofusing when you might name variables the same, or you import several modules and they share variable names"
     ]
    },
    {
     "cell_type": "code",
     "collapsed": false,
     "input": [
      "import math # imports math module\n",
      "print math.sqrt(25) # tells program to get sqrt() function from within math\n"
     ],
     "language": "python",
     "metadata": {},
     "outputs": [
      {
       "output_type": "stream",
       "stream": "stdout",
       "text": [
        "5.0\n"
       ]
      }
     ],
     "prompt_number": 33
    },
    {
     "cell_type": "code",
     "collapsed": false,
     "input": [
      "from math import sqrt\n",
      "print sqrt(25)"
     ],
     "language": "python",
     "metadata": {},
     "outputs": [
      {
       "output_type": "stream",
       "stream": "stdout",
       "text": [
        "5.0\n"
       ]
      }
     ],
     "prompt_number": 34
    },
    {
     "cell_type": "code",
     "collapsed": false,
     "input": [
      "from math import * # imports all variables and functions\n",
      "print sqrt (25)"
     ],
     "language": "python",
     "metadata": {},
     "outputs": [
      {
       "output_type": "stream",
       "stream": "stdout",
       "text": [
        "5.0\n"
       ]
      }
     ],
     "prompt_number": 35
    },
    {
     "cell_type": "code",
     "collapsed": false,
     "input": [
      "import math            # Imports the math module\n",
      "everything = dir(math) # Sets everything to a list of things from math\n",
      "print everything       # Prints 'em all!"
     ],
     "language": "python",
     "metadata": {},
     "outputs": [
      {
       "output_type": "stream",
       "stream": "stdout",
       "text": [
        "['__doc__', '__file__', '__name__', '__package__', 'acos', 'acosh', 'asin', 'asinh', 'atan', 'atan2', 'atanh', 'ceil', 'copysign', 'cos', 'cosh', 'degrees', 'e', 'erf', 'erfc', 'exp', 'expm1', 'fabs', 'factorial', 'floor', 'fmod', 'frexp', 'fsum', 'gamma', 'hypot', 'isinf', 'isnan', 'ldexp', 'lgamma', 'log', 'log10', 'log1p', 'modf', 'pi', 'pow', 'radians', 'sin', 'sinh', 'sqrt', 'tan', 'tanh', 'trunc']\n"
       ]
      }
     ],
     "prompt_number": 36
    },
    {
     "cell_type": "markdown",
     "metadata": {},
     "source": [
      "**Built in Modules**"
     ]
    },
    {
     "cell_type": "code",
     "collapsed": false,
     "input": [
      "def biggest_number(*args):\n",
      "    print max(args)\n",
      "    return max(args)\n",
      "    \n",
      "def smallest_number(*args):\n",
      "    print min(args)\n",
      "    return min(args)\n",
      "\n",
      "def distance_from_zero(arg):\n",
      "    print abs(arg)\n",
      "    return abs(arg)\n",
      "\n",
      "\n",
      "biggest_number(-10, -5, 5, 10)\n",
      "smallest_number(-10, -5, 5, 10)\n",
      "distance_from_zero(-10)"
     ],
     "language": "python",
     "metadata": {},
     "outputs": [
      {
       "output_type": "stream",
       "stream": "stdout",
       "text": [
        "10\n",
        "-10\n",
        "10\n"
       ]
      },
      {
       "metadata": {},
       "output_type": "pyout",
       "prompt_number": 37,
       "text": [
        "10"
       ]
      }
     ],
     "prompt_number": 37
    },
    {
     "cell_type": "markdown",
     "metadata": {},
     "source": [
      "* max() takes any number of arguments and returns the largest one. \"Largest\" can have odd definitions here so avoid strings\n",
      "* min() then returns the smallest of a given series of arguments\n",
      "* abs() function returns the absolute value of the number it takes as an argument\u2014that is, that number's distance from 0 on an imagined number line\n",
      "* type() function returns the type of the data it receives as an argument"
     ]
    },
    {
     "cell_type": "code",
     "collapsed": false,
     "input": [
      "print type(42)\n",
      "print type(52.5252525)\n",
      "print type('Docile')"
     ],
     "language": "python",
     "metadata": {},
     "outputs": [
      {
       "output_type": "stream",
       "stream": "stdout",
       "text": [
        "<type 'int'>\n",
        "<type 'float'>\n",
        "<type 'str'>\n"
       ]
      }
     ],
     "prompt_number": 41
    },
    {
     "cell_type": "code",
     "collapsed": false,
     "input": [
      "def distance_from_zero(number):\n",
      "    if type(number) == int or type(number) == float: # note syntax\n",
      "        return abs(number)\n",
      "    else:\n",
      "        return \"Nope\"\n",
      "        \n",
      "print distance_from_zero('no soy numero')\n",
      "print distance_from_zero('-5.55')"
     ],
     "language": "python",
     "metadata": {},
     "outputs": [
      {
       "output_type": "stream",
       "stream": "stdout",
       "text": [
        "Nope\n",
        "Nope\n"
       ]
      }
     ],
     "prompt_number": 42
    },
    {
     "cell_type": "markdown",
     "metadata": {},
     "source": [
      "**Lists**\n",
      "* Lists are a datatype you can use to store a collection of different pieces of information as a sequence under a single variable name.\n",
      "* They appear in SQUARE BRACKETS [] with items separated by COMMAS, like this:\n",
      "<code> list_name = [item_1, item_2]\n",
      "empty_list = []</code>\n",
      "* You can access an individual item on the list by its index like this: <code>list_name[index]</code>\n",
      "* List indices begin with 0, not 1! \n",
      "* You can assign a new value like this: zoo_animals[2] = <code>\"hyena\" </code>\n",
      "* You can add items to the end of a list, which has no fixed length, like this: <code>letters.append('d')</code>\n",
      "* Check how many items in list with len method: <code>len(letters)</code>\n",
      "* You can access a portion of the list by storing it in a slice list, just like how you slice strings. You start at the index before the colon and continue up to *but not including* the index after the colon, like this <code>letters[1:3]</code> - this will only contain second and third (not first or fourth) letters\n",
      "* If you want to do something with every item in the list, you can use a for loop, like this: <code>for variable in list_name: # do stuff</code>. The variable name can be whatever.\n",
      "* You can remove an item like this: <code>list_name.remove(item)</code>"
     ]
    },
    {
     "cell_type": "code",
     "collapsed": false,
     "input": [
      "animals = [\"aardvark\", \"badger\", \"duck\", \"emu\", \"fennec fox\"]\n",
      "duck_index = animals.index(\"duck\") # Use .index() to find \"duck\"\n",
      "animals.insert(duck_index, \"cobra\") # Use .insert(index, item) to add cobra at that index\n",
      "\n",
      "print animals"
     ],
     "language": "python",
     "metadata": {},
     "outputs": [
      {
       "output_type": "stream",
       "stream": "stdout",
       "text": [
        "['aardvark', 'badger', 'cobra', 'duck', 'emu', 'fennec fox']\n"
       ]
      }
     ],
     "prompt_number": 44
    },
    {
     "cell_type": "code",
     "collapsed": false,
     "input": [
      "start_list = [5, 3, 1, 2, 4]\n",
      "square_list = []\n",
      "\n",
      "for i in start_list: # Use for loop to se every item in list\n",
      "    square_list.append(i**2)\n",
      "\n",
      "square_list.sort() # Use .sort() to sort items in alphabetical/rising order\n",
      "\n",
      "print square_list"
     ],
     "language": "python",
     "metadata": {},
     "outputs": [
      {
       "output_type": "stream",
       "stream": "stdout",
       "text": [
        "[1, 4, 9, 16, 25]\n"
       ]
      }
     ],
     "prompt_number": 45
    },
    {
     "cell_type": "code",
     "collapsed": false,
     "input": [
      "backpack = ['xylophone', 'dagger', 'tent', 'bread loaf']\n",
      "backpack.remove('dagger')\n",
      "\n",
      "print backpack"
     ],
     "language": "python",
     "metadata": {},
     "outputs": [
      {
       "output_type": "stream",
       "stream": "stdout",
       "text": [
        "['xylophone', 'tent', 'bread loaf']\n"
       ]
      }
     ],
     "prompt_number": 47
    },
    {
     "cell_type": "markdown",
     "metadata": {},
     "source": [
      "**Dictionaries**\n",
      "* A dictionary is similar to a list, but you access values by looking up a key (string or number) instead of an index\n",
      "* For example, <code>d = {'key1' : 1, 'key2' : 2, 'key3' : 3}</code> is a dictionary called d with three key-value pairs. <code>d['key1']= 1, d[2]='key2'</code>, etc.\n",
      "* Lists and dictionaries are mutable types - can be changed\n",
      "* Add an item like this: <code>dict_name[new_key] = new_value</code> e.g. <code>menu['Spam'] = 2.50</code>\n",
      "* An empty pair of CURLY BRACES {} is an empty dictionary, just like an empty pair of SQUARE BRACKETS [] is an empty list.\n",
      "* len() of dictionary is the number of key-value pairs it has\n",
      "* Note you can put lists in dictionaries\n",
      "* Items can be removed from a dictionary with the del command: <code>del dict_name[key_name]</code>\n",
      "* A key can be assigned a new value like this: <code>dict_name[key] = new_value</code>\n",
      "* Note: You can use list functions with a list stored in a dictionary like this: <code>dict_name['list_key'].list_function()</code> e.g. <code>inventory['backpack'].remove('dagger')</code>"
     ]
    },
    {
     "cell_type": "code",
     "collapsed": false,
     "input": [
      "menu = {} # Empty dictionary\n",
      "menu['Chicken Alfredo'] = 14.50 # Adding new key-value pair\n",
      "print menu['Chicken Alfredo']\n",
      "\n",
      "# Your code here: Add some dish-price pairs to menu!\n",
      "\n",
      "menu['Spam'] = 2.50\n",
      "menu['bacon'] = 1.50\n",
      "menu['milkshake'] = 3.00\n",
      "\n",
      "print \"There are \" + str(len(menu)) + \" items on the menu.\"\n",
      "print menu"
     ],
     "language": "python",
     "metadata": {},
     "outputs": [
      {
       "output_type": "stream",
       "stream": "stdout",
       "text": [
        "14.5\n",
        "There are 4 items on the menu.\n",
        "{'Chicken Alfredo': 14.5, 'bacon': 1.5, 'milkshake': 3.0, 'Spam': 2.5}\n"
       ]
      }
     ],
     "prompt_number": 48
    },
    {
     "cell_type": "code",
     "collapsed": false,
     "input": [
      "# key - animal_name : value - location \n",
      "zoo_animals = { 'Unicorn' : 'Cotton Candy House',\n",
      "'Sloth' : 'Rainforest Exhibit',\n",
      "'Bengal Tiger' : 'Jungle House',\n",
      "'Atlantic Puffin' : 'Arctic Exhibit',\n",
      "'Rockhopper Penguin' : 'Arctic Exhibit'}\n",
      "# A dictionary (or list) declaration may break across multiple lines\n",
      "\n",
      "# Removing the 'Unicorn' entry. (Unicorns are incredibly expensive.)\n",
      "del zoo_animals['Unicorn']\n",
      "\n",
      "# Your code here!\n",
      "\n",
      "del zoo_animals['Sloth']\n",
      "del zoo_animals['Bengal Tiger']\n",
      "\n",
      "zoo_animals['Rockhopper Penguin'] = 'Rock and Roll House'\n",
      "\n",
      "print zoo_animals"
     ],
     "language": "python",
     "metadata": {},
     "outputs": [
      {
       "output_type": "stream",
       "stream": "stdout",
       "text": [
        "{'Atlantic Puffin': 'Arctic Exhibit', 'Rockhopper Penguin': 'Rock and Roll House'}\n"
       ]
      }
     ],
     "prompt_number": 49
    },
    {
     "cell_type": "code",
     "collapsed": false,
     "input": [
      "inventory = {\n",
      "    'gold' : 500,\n",
      "    'pouch' : ['flint', 'twine', 'gemstone'], # Assigned a new list to 'pouch' key\n",
      "    'backpack' : ['xylophone','dagger', 'bedroll','bread loaf']\n",
      "}\n",
      "\n",
      "# Adding a key 'burlap bag' and assigning a list to it\n",
      "inventory['burlap bag'] = ['apple', 'small ruby', 'three-toed sloth']\n",
      "\n",
      "# Sorting the list found under the key 'pouch'\n",
      "inventory['pouch'].sort() \n",
      "\n",
      "# Your code here\n",
      "\n",
      "inventory['pocket'] = ['seashell', 'strange berry', 'lint']\n",
      "\n",
      "inventory['backpack'].sort()\n",
      "\n",
      "inventory['backpack'].remove('dagger')\n",
      "\n",
      "inventory['gold'] += 50\n",
      "\n",
      "print inventory"
     ],
     "language": "python",
     "metadata": {},
     "outputs": [
      {
       "output_type": "stream",
       "stream": "stdout",
       "text": [
        "{'pocket': ['seashell', 'strange berry', 'lint'], 'backpack': ['bedroll', 'bread loaf', 'xylophone'], 'pouch': ['flint', 'gemstone', 'twine'], 'burlap bag': ['apple', 'small ruby', 'three-toed sloth'], 'gold': 550}\n"
       ]
      }
     ],
     "prompt_number": 52
    },
    {
     "cell_type": "markdown",
     "metadata": {},
     "source": [
      "**For Loops**\n",
      "\n",
      "**for lists**\n",
      "* for loops allow us to iterate through all of the elements in a list from the zeroth element to last element (thereby allowing you to perform an action the same number of times that there are items in a list), like this:\n",
      "<code>\n",
      "a = [\"List of some sort\u201d]\n",
      "for x in a:\n",
      "    \\# Statement to do something for every x</code>\n",
      "* don't use \"list\" as a variable name since it's reserved\n",
      "\n",
      "**for dictionaries**\n",
      "* You can also use a for loop on a dictionary to loop through its keys with the following:\n",
      "<code> \\# A simple dictionary\n",
      "dict = {\"foo\" : \"bar\"}\n",
      "for key in dict: \n",
      "    print dict[key]  \\# prints \"bar\"</code>\n",
      "* Note that dictionaries are unordered, meaning that any time you loop through a dictionary, you will go through every key, but you are not guaranteed to get them in any particular order\n",
      "\n",
      "**for strings**\n",
      "* Strings are like *lists with characters as elements.* You can loop through strings the same way you loop through lists."
     ]
    },
    {
     "cell_type": "code",
     "collapsed": false,
     "input": [
      "for letter in \"Codecademy\":\n",
      "    print letter\n",
      "    \n",
      "# Empty lines to make the output pretty\n",
      "print\n",
      "print\n",
      "\n",
      "word = \"Programming is fun!\"\n",
      "\n",
      "for letter in word:\n",
      "    # Only print out the letter i\n",
      "    if letter == \"i\":\n",
      "        print letter"
     ],
     "language": "python",
     "metadata": {},
     "outputs": [
      {
       "output_type": "stream",
       "stream": "stdout",
       "text": [
        "C\n",
        "o\n",
        "d\n",
        "e\n",
        "c\n",
        "a\n",
        "d\n",
        "e\n",
        "m\n",
        "y\n",
        "\n",
        "\n",
        "i\n",
        "i\n"
       ]
      }
     ],
     "prompt_number": 3
    },
    {
     "cell_type": "code",
     "collapsed": false,
     "input": [
      "prices = {\n",
      "    \"banana\" : 4,\n",
      "    \"apple\": 2,\n",
      "    \"orange\": 1.5,\n",
      "    \"pear\": 3\n",
      "    }\n",
      "    \n",
      "stock = {\n",
      "    \"banana\": 6,\n",
      "    \"apple\": 0,\n",
      "    \"orange\": 32,\n",
      "    \"pear\": 15\n",
      "    }\n",
      "    \n",
      "for key in prices:\n",
      "    # because both dicts have same number of keys\n",
      "    print key\n",
      "    print \"price: %s\" % prices[key]\n",
      "    print \"stock: %s\\n\" % stock[key]"
     ],
     "language": "python",
     "metadata": {},
     "outputs": [
      {
       "output_type": "stream",
       "stream": "stdout",
       "text": [
        "orange\n",
        "price: 1.5\n",
        "stock: 32\n",
        "\n",
        "pear\n",
        "price: 3\n",
        "stock: 15\n",
        "\n",
        "banana\n",
        "price: 4\n",
        "stock: 6\n",
        "\n",
        "apple\n",
        "price: 2\n",
        "stock: 0\n",
        "\n"
       ]
      }
     ],
     "prompt_number": 7
    },
    {
     "cell_type": "code",
     "collapsed": false,
     "input": [
      "# Note you can interact with different lists and dictionaries in a for loop\n",
      "\n",
      "shopping_list = [\"banana\", \"orange\", \"apple\"]\n",
      "\n",
      "stock = {\n",
      "    \"banana\": 6,\n",
      "    \"apple\": 0,\n",
      "    \"orange\": 32,\n",
      "    \"pear\": 15\n",
      "}\n",
      "    \n",
      "prices = {\n",
      "    \"banana\": 4,\n",
      "    \"apple\": 2,\n",
      "    \"orange\": 1.5,\n",
      "    \"pear\": 3\n",
      "}\n",
      "\n",
      "# Write your code below!\n",
      "def compute_bill(food):\n",
      "    total = 0\n",
      "    for item in food:\n",
      "        if stock[item] > 0:\n",
      "            total += prices[item]\n",
      "            stock[item] -= 1\n",
      "    return str(total) + '\\n' + str(stock)\n",
      "\n",
      "print compute_bill(shopping_list)"
     ],
     "language": "python",
     "metadata": {},
     "outputs": [
      {
       "output_type": "stream",
       "stream": "stdout",
       "text": [
        "5.5\n",
        "{'orange': 31, 'pear': 15, 'banana': 5, 'apple': 0}\n"
       ]
      }
     ],
     "prompt_number": 13
    },
    {
     "cell_type": "code",
     "collapsed": false,
     "input": [],
     "language": "python",
     "metadata": {},
     "outputs": []
    }
   ],
   "metadata": {}
  }
 ]
}